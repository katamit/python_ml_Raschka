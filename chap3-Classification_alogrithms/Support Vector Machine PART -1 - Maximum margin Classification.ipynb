{
 "cells": [
  {
   "cell_type": "markdown",
   "metadata": {},
   "source": [
    "- Can be considered as an extension of the __perceptron model__, where we minimized misclassification errors.\n",
    "- __However, in SVMs our optimization objective is to maximize the margin.__ The margin is defined as the distance between the separating hyperplane(decision boundary) and the training samples that are closest to this hyperplane, which are the so-called __support vectors.__"
   ]
  },
  {
   "cell_type": "markdown",
   "metadata": {},
   "source": [
    "![Support Vectors](svm.png)"
   ]
  },
  {
   "cell_type": "markdown",
   "metadata": {},
   "source": [
    "- The rationale behind having decision boundaries with large margins is that they tend to have a ___Lower generalization error___ whereas _models with small margins are more prone to overfitting._"
   ]
  },
  {
   "cell_type": "markdown",
   "metadata": {},
   "source": [
    "- To get an dea of the margin maximization, let's take a closer look at those ___postive___ and __negative__ _hyperplane_ that are parallel to the _decision boundary_, which can be expessed as follows:"
   ]
  },
  {
   "cell_type": "markdown",
   "metadata": {},
   "source": [
    "<center>$w_0 + w^Tx_{pos}  = 1$      </center>      \n",
    "<center>$w_0 + w^Tx_{neg}  = -1$     </center>"
   ]
  },
  {
   "cell_type": "markdown",
   "metadata": {},
   "source": [
    "subtracting these two linear equations:\n",
    "<center>$w^T\\left( x_{pos} - x_{neg} \\right) = 2$</center>"
   ]
  },
  {
   "cell_type": "markdown",
   "metadata": {},
   "source": [
    "normalizing, this with the length of the vector __w, defined as__:\n",
    "<center>$\\left|\\left|w\\right|\\right| = \\sqrt {\\sum_{j=1}^{m} w_{j}^2}$</center>"
   ]
  },
  {
   "cell_type": "markdown",
   "metadata": {},
   "source": [
    "<p style=\"align:center;font-size: 140%;\">${\\frac {w^T\\left( x_{pos} - x_{neg} \\right)}{\\left|\\left|w\\right|\\right|} = \\frac{2}{\\left|\\left|w\\right|\\right|}}$</p>"
   ]
  },
  {
   "cell_type": "markdown",
   "metadata": {},
   "source": [
    "The left side of the proceeding equation can be interpreted as __the distance between the positive and negative hyperplanes,__ which is the so-called __margin__ that we want to maximize."
   ]
  },
  {
   "cell_type": "markdown",
   "metadata": {},
   "source": [
    "the objective function of the SVM becomes the _maximization of this margin_ by maximizing  <center>$\\frac{2}{\\left|\\left|w\\right|\\right|}$</center> under the constraint ___that the samples are classified correctly___, which can be written as :"
   ]
  },
  {
   "cell_type": "markdown",
   "metadata": {},
   "source": [
    "<center>$w_0 + w^Tx^{(i)}  \\geq 1 \\space \\dots if \\space y^{(i)} = 1  $   </center>      \n",
    "\n",
    "<center>$w_0 + w^Tx^{(i)} \\space \\leq -1 \\space \\dots if \\space y^{(i)} = -1 $   </center>\n",
    "\n",
    "<center>for $ \\space i = 1 \\dots N$</center>\n",
    "Here, N is the number of samples in our dataset"
   ]
  },
  {
   "cell_type": "markdown",
   "metadata": {},
   "source": [
    "These two equations basically say that _all negative samples should fall on one side of negative hyperplane_ whereas, _all positive samples should fall behind the positive hyperplane,_ which can be written compactly as:\n",
    "<center>$y^{(i)}\\left ( w_0 + w^Tx^{(i)} \\right) \\space \\geq \\space 1 \\space\\forall_{i}$</center>\n",
    "\n",
    "<br>\n",
    "In Practice though, it is __easier to minimize the reciprocal term $\\frac {1}{2} ||w||^2$__."
   ]
  },
  {
   "cell_type": "markdown",
   "metadata": {},
   "source": [
    "### Dealing with a non-linearly separable case using slack $\\xi$ variable"
   ]
  },
  {
   "cell_type": "markdown",
   "metadata": {},
   "source": [
    "Let us, introduce the $\\xi$ , which was introduced by _Vladimir Vapnik in 1995_ and led to the so-called __Soft-margin Classification__"
   ]
  },
  {
   "cell_type": "markdown",
   "metadata": {},
   "source": [
    "- The motivation for introducing slack variable $\\xi$ was that the __linear constraint need to be relaxed for nonlinearly separable data__ to allow the convergence of the optimization in presence of misclassifications under appropriate cost penalization."
   ]
  },
  {
   "cell_type": "markdown",
   "metadata": {},
   "source": [
    "<center>$w_0 + w^Tx^{(i)}  \\geq 1 \\space  - \\xi^{(i)} \\space \\dots if \\space y^{(i)} = 1 $   </center>      \n",
    "\n",
    "<center>$w_0 + w^Tx^{(i)} \\space \\leq -1 \\space + \\xi^{(i)} \\space \\dots if \\space y^{(i)} = -1  $   </center>\n",
    "\n",
    "<center>for $ \\space i = 1 \\dots N$</center>\n",
    "Here, N is the number of samples in our dataset"
   ]
  },
  {
   "cell_type": "markdown",
   "metadata": {
    "collapsed": true
   },
   "source": [
    "so the new objective to be minimized (subject to the constraints) becomes :\n",
    "<center>$\\frac {1}{2} ||w||^2 + C \\left( \\sum_i \\xi^{(i)} \\right )$</center>\n",
    "<br>\n",
    "Via the variable C, we can control the penalty for misclassification."
   ]
  },
  {
   "cell_type": "markdown",
   "metadata": {},
   "source": [
    "_Note :_ Large value of C correspond to large error penalties, whereas we are less strict about misclassification erros if we choose smaller values for C.\n",
    "- This concept is related to _regularization_, in the context of regularized regression where decreasing the value of C increases the bias and lowers the variance of the model"
   ]
  },
  {
   "cell_type": "code",
   "execution_count": 1,
   "metadata": {
    "collapsed": true
   },
   "outputs": [],
   "source": [
    "import sys\n",
    "\n",
    "sys.path.append('/home/amit/Documents/ML/python_ML_RASCHKA/chap2/')\n",
    "\n",
    "import numpy as np\n",
    "import matplotlib.pyplot as plt\n",
    "\n",
    "from utilities import plot_decision_regions, get_iris"
   ]
  },
  {
   "cell_type": "code",
   "execution_count": 23,
   "metadata": {
    "collapsed": true
   },
   "outputs": [],
   "source": [
    "X_train_std, X_test_std, y_train, y_test = get_iris(standarized=True)"
   ]
  },
  {
   "cell_type": "markdown",
   "metadata": {},
   "source": [
    "####  Let's train a support vector classifier"
   ]
  },
  {
   "cell_type": "code",
   "execution_count": 24,
   "metadata": {
    "collapsed": true
   },
   "outputs": [],
   "source": [
    "from sklearn.svm import SVC"
   ]
  },
  {
   "cell_type": "code",
   "execution_count": 25,
   "metadata": {
    "collapsed": true
   },
   "outputs": [],
   "source": [
    "svm = SVC(kernel='linear', random_state=1)"
   ]
  },
  {
   "cell_type": "code",
   "execution_count": 26,
   "metadata": {},
   "outputs": [
    {
     "data": {
      "text/plain": [
       "SVC(C=1.0, cache_size=200, class_weight=None, coef0=0.0,\n",
       "  decision_function_shape='ovr', degree=3, gamma='auto', kernel='linear',\n",
       "  max_iter=-1, probability=False, random_state=1, shrinking=True,\n",
       "  tol=0.001, verbose=False)"
      ]
     },
     "execution_count": 26,
     "metadata": {},
     "output_type": "execute_result"
    }
   ],
   "source": [
    "svm.fit(X_train_std, y_train)"
   ]
  },
  {
   "cell_type": "code",
   "execution_count": 27,
   "metadata": {
    "collapsed": true
   },
   "outputs": [],
   "source": [
    "X_combined_std = np.vstack((X_train_std,X_test_std))\n",
    "y_combined = np.hstack((y_train,y_test))"
   ]
  },
  {
   "cell_type": "code",
   "execution_count": 28,
   "metadata": {},
   "outputs": [
    {
     "data": {
      "image/png": "[encoded data removed]",
      "text/plain": [
       "<matplotlib.figure.Figure at 0x7f671b967cc0>"
      ]
     },
     "metadata": {},
     "output_type": "display_data"
    }
   ],
   "source": [
    "plot_decision_regions(X_combined_std, y_combined, classifier=svm, test_idx=range(105,150))\n",
    "plt.xlabel('petal length [standarized]')\n",
    "plt.ylabel('petal width [standarized]')\n",
    "plt.legend(loc = 'lower right')\n",
    "plt.show()"
   ]
  },
  {
   "cell_type": "markdown",
   "metadata": {
    "collapsed": true
   },
   "source": [
    " \n"
   ]
  },
  {
   "cell_type": "markdown",
   "metadata": {
    "collapsed": true
   },
   "source": [
    "### Important  Points \n",
    "#### Logistics regression versus support vector machine"
   ]
  },
  {
   "cell_type": "markdown",
   "metadata": {
    "collapsed": true
   },
   "source": [
    "- In practical classification tasks, linear logistic regression and linear SVMs __yield very similar results.__\n",
    "- _Logistic regression_ tries to __maximize the conditional likelihood__ of the training data, which makes it __prone to outlier__ than SVMs, which mostly care about the points that are closest to the __decision boundary__(support vectors).\n",
    "- Logistic regression has the advantage that __is a simpler model__ and __can be implemented more easily.__\n",
    "- Furthermore, logistic regression models can be easily updated, which is attractive when working with streaming data."
   ]
  }
 ],
 "metadata": {
  "kernelspec": {
   "display_name": "Python 3",
   "language": "python",
   "name": "python3"
  },
  "language_info": {
   "codemirror_mode": {
    "name": "ipython",
    "version": 3
   },
   "file_extension": ".py",
   "mimetype": "text/x-python",
   "name": "python",
   "nbconvert_exporter": "python",
   "pygments_lexer": "ipython3",
   "version": "3.6.2"
  }
 },
 "nbformat": 4,
 "nbformat_minor": 2
}
