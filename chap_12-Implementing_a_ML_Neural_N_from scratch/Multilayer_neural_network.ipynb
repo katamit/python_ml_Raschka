{
 "cells": [
  {
   "cell_type": "markdown",
   "metadata": {},
   "source": [
    "## Implementing a Multilayer Artificial Neural Network from Scratch\n",
    "\n"
   ]
  },
  {
   "cell_type": "markdown",
   "metadata": {},
   "source": [
    "- Deep learning is the __hottest__ topic in the machine leanring field.\n",
    "- <font style='color:#822879'>Deep learning can be understood as a set of algorithms that were developed to train artificial nueral networks with __many layers most efficiently__.</font>"
   ]
  },
  {
   "cell_type": "markdown",
   "metadata": {},
   "source": [
    "- Artificial neurons represent the building blocks of the multilayer artificial neural networks.\n",
    "- early studies of neural networks go back to the 1940s when __ Warren McCulloch and Walter Pitt first described how neurons could work.__\n",
    "- in 1986 the interest in neural networks rekindled when __D.E.Rumelhart, G.E.Hilton,__ and __R.J.Williams__ were involved in the (re)discovery and popularization of the backpropogatation algorithm ot train neural netwroks more efficiently.\n"
   ]
  },
  {
   "cell_type": "markdown",
   "metadata": {},
   "source": [
    "Some of the Many exciting application of DNNs :\n",
    "\n",
    "- Facebook's DeepFace for tagging images\n",
    "- Baidu's DeepSpeech , which is able ot handle voice queeries in Mandarin\n",
    "- Google's new lanuage translaiton service\n",
    "- Novel Techniques for drug dscoery and toxicity prediciton.\n",
    "- A mobile application that can detect skin cancer with an accuracy similar to professionally trained deramtologists."
   ]
  },
  {
   "cell_type": "markdown",
   "metadata": {},
   "source": [
    "### Introducing the multilayer neural network architecture"
   ]
  },
  {
   "cell_type": "markdown",
   "metadata": {},
   "source": [
    "![MLN.png](MLN.png)"
   ]
  },
  {
   "cell_type": "markdown",
   "metadata": {},
   "source": [
    "The MLP depicted in the preceding figure has one input layer, one hidden layer and one output layer. The units in the hidden layer are fully connected to the input layer, and the output layer is fully connected to the hidden layer. If such a network has more than one hidden layer, we also call it a __deep artificial neural network.__"
   ]
  },
  {
   "cell_type": "markdown",
   "metadata": {},
   "source": [
    "> Practically, we can thing of the number of layer and units in a neural network as additional hyperparametes that we want to optimize for a given problem task using cross-validation techniques.\n",
    "\n",
    ">However the error gradients that we will calculate later via backpropagation will become increasingly small as more layer are added to a network. this vanishing gradient problem makes the model learning more challenging. Therefore, special algorithms have been developed to help train such deep neural network structures; this is known as __deep learning__"
   ]
  },
  {
   "cell_type": "markdown",
   "metadata": {},
   "source": [
    "![3_4_3_MLP.png](3_4_3_MLP.png)\n",
    "\n",
    "__Note__ : Here, the activation units $a^{(in)}_0 $ and $a^{(h)}_0 $  are the __bias units__, which we set to 1. Later , we will implement the multilayer perceptron using separate vectors for the bias unit."
   ]
  },
  {
   "cell_type": "markdown",
   "metadata": {},
   "source": [
    "## Activating a neural network via forward propagation\n",
    "\n",
    "To undestand how __forward propagation__ fits into the context of learning an MLP model, let's ummarize the MLP learning prcedure in three simple steps:\n",
    "\n",
    "1. Starting at the input layer, we forward propagate the patterns of the taringing data through thenetwork to genrate an output.\n",
    "2. Based on the networks's output, we calculate the error that we want to minmize using a cost function that we will describe later.\n",
    "3. We backpropagate the error, find its derivative with respect to each weight in the network, andupdate the model.\n",
    "\n",
    "Finally, aftwer we repeapt these three steps for mulitple _epochs_ and learn the weights of the MLP, we use forward propagation to calcuate the network output and apply a thershold function(like softmax) to obtain the predicted class labels.\n",
    "\n",
    "\n",
    "__Now__ let's walk through the individual steps of forward propagation to generate an output from the patterns in the training data.\n",
    "\n",
    "Since each unit in the hidden layer is conneted to all units in the input layers,we first calculate the activation unit of the idden layer $ a^{(h)}_1 $ as follows:\n",
    "\n",
    "<center>$ z^{(h)}_{1} =  a^{(in)}_{0} w^{(h)}_{(0,1)}+ a^{(in)}_{1} w^{(h)}_{1,1} + ... + a^{(in)}_{m} w^{(h)}_{m,1} $</center>\n",
    "\n",
    "<center>$ a_1^{(h)} =\\phi (z^{(h)}_i) $</center>\n",
    "\n",
    "\n",
    "Here , $ z^{(h)}_{1} $ is the net input and $\\phi (.)$ is the activation function, which has to be differentiable to learn the weights that connect the neurons using a gradient-based approach.\n",
    "\n",
    "\n",
    "<br>\n",
    "<br>\n",
    "MLP is a typical example of a feedforward articicial neural network. The term __feedforward__ refers to the fact that each layer serves as the input to the next layer without loops, in contrast to recurrent neural networks - an architecture - discussed in other chapter.\n",
    "The _Multilayer perceptron_ may sound a little bit confusing since the artificial neurons in this network architecture are typically __sigmoid units, not perceptrons__ \n",
    "\n",
    "<br>\n",
    "For coding efficiency and readability, we will now write the activation in a more compact form using the concepts of basic linear algebra.\n",
    "\n",
    "<center> $ z^{(h)} = a^{(in)}W^{h} $</center>\n",
    "<center> $ a^{(h)} =  \\phi (a^{(h)}) $</center>\n",
    "\n",
    "Here, $a^{(in)}$ is our _ 1 x m _ dimensional featuer vector of a sample __$ x^{(in)} $ __ plus a bias unit. \n",
    "$ W^{(h)} $ is an _ m x d _ dimensional weight matrix where d is the number of units in the hidden layer. After matri-vector multiplication, we obtain the _ 1xd _  dimensional net input vector __$ z^{(h)} $ __ to calculate the activation __ $ a ^{(h)}$ __ (where $ a ^{(h)} \\epsilon R^{1xd} $. Furthermore, we can genralize this compuatation to all _n_ samples in the training set:\n",
    "\n",
    "<center> $ Z^{(h)} = A^{(in)}W^{(h)} $</center>\n",
    "\n",
    "here $A{(in)} $ is now an _nxm_ matrix\n",
    "\n",
    "<center> $A^{(h)} = \\phi (Z^{(h)}) $</center>\n",
    "<br>\n",
    "similary we can write the activation of the output layer is vectorized form for multiple samples:\n",
    "\n",
    "<center> $ Z^{(out)} = A^{(h)}W^{(out)} $</center>\n",
    "\n",
    "<center> $A^{(out)} = \\phi (Z^{(out)}) ,  \\space \\space A^{(out)} \\space  \\epsilon \\space R^{nxt} $"
   ]
  },
  {
   "cell_type": "markdown",
   "metadata": {},
   "source": [
    "## Classifying handwritten digits\n",
    "\n",
    "We will implement and train our first multilayer neural network to classify handwritten digits from the popular __Mixed National Institute of Standards and Technology (MNIST)__ dataset that has been constructed by Yann Lecun and others.\n",
    "\n",
    "The MNIST set consists of handwritten digits from 250 different people.\n",
    "The images are stored in byte format, and we will read them into NumPy  arrays that we will use to train and test our MLP implementation."
   ]
  },
  {
   "cell_type": "code",
   "execution_count": 18,
   "metadata": {
    "collapsed": true
   },
   "outputs": [],
   "source": [
    "import os\n",
    "import struct\n",
    "import numpy as np\n",
    "\n",
    "def load_mnist(path, kind='train'):\n",
    "    \"\"\"Load MNIST data from `path`\"\"\"\n",
    "    labels_path = os.path.join(path, '%s-labels-idx1-ubyte' % kind)\n",
    "    images_path = os.path.join(path, '%s-images-idx3-ubyte' % kind)    \n",
    "    \n",
    "    with open(labels_path, 'rb') as lbpath:\n",
    "        magic, n = struct.unpack('>II', lbpath.read(8))\n",
    "#         print(magic, n)\n",
    "        labels = np.fromfile(lbpath, dtype = np.uint8)\n",
    "    \n",
    "    with open(images_path, 'rb') as imgpath:\n",
    "        magic, num, rows, cols = struct.unpack('>IIII', imgpath.read(16))\n",
    "#         print(magic, num, rows, cols)\n",
    "        images =np.fromfile(imgpath, dtype=np.uint8).reshape(len(labels), 784)\n",
    "        images = ((images / 255.) - .5)*2\n",
    "    \n",
    "    return images, labels"
   ]
  },
  {
   "cell_type": "markdown",
   "metadata": {},
   "source": [
    "The training dataset consist of 60,000 training digits and the test set contains 10,000 samples. The images in the MNIST dataset consist of 28x28 pixels, and each pized is repsented by a gray scale intensity values. Here we unroll the 28 x28 pizedls into one-dimensional row vectors , which represent the rows in our _images_ aray (784 per row or image). the class _labels_ (integer 0-9) of the hnadwritten digits.\n"
   ]
  },
  {
   "cell_type": "code",
   "execution_count": 19,
   "metadata": {},
   "outputs": [
    {
     "name": "stdout",
     "output_type": "stream",
     "text": [
      "Rows: 60000, columns: 784\n"
     ]
    }
   ],
   "source": [
    "X_train, y_train = load_mnist('', kind='train')\n",
    "print('Rows: %d, columns: %d' %(X_train.shape[0], X_train.shape[1]))"
   ]
  },
  {
   "cell_type": "code",
   "execution_count": 20,
   "metadata": {},
   "outputs": [
    {
     "name": "stdout",
     "output_type": "stream",
     "text": [
      "Rows: 10000, columns: 784\n"
     ]
    }
   ],
   "source": [
    "X_test, y_test = load_mnist('', kind='t10k')\n",
    "print('Rows: %d, columns: %d' %(X_test.shape[0], X_test.shape[1]))"
   ]
  },
  {
   "cell_type": "code",
   "execution_count": 6,
   "metadata": {
    "collapsed": true
   },
   "outputs": [],
   "source": [
    "import matplotlib.pyplot as plt\n",
    "%matplotlib inline"
   ]
  },
  {
   "cell_type": "code",
   "execution_count": 29,
   "metadata": {},
   "outputs": [
    {
     "data": {
      "image/png": "[encoded data removed]",
      "text/plain": [
       "<matplotlib.figure.Figure at 0x7ff7732a79b0>"
      ]
     },
     "metadata": {},
     "output_type": "display_data"
    }
   ],
   "source": [
    "fig, ax = plt.subplots(nrows=2, ncols=5, sharex=True, sharey=True)\n",
    "\n",
    "ax = ax.flatten()\n",
    "\n",
    "for i in range(ax.shape[0]):\n",
    "    img = X_train[y_train == i][0].reshape(28,28)\n",
    "    ax[i].imshow(img, cmap='Greys')\n",
    "    \n",
    "ax[0].set_xticks([])\n",
    "ax[0].set_yticks([])\n",
    "plt.tight_layout()\n",
    "plt.show()"
   ]
  },
  {
   "cell_type": "code",
   "execution_count": 31,
   "metadata": {},
   "outputs": [
    {
     "data": {
      "image/png": "[encoded data removed]",
      "text/plain": [
       "<matplotlib.figure.Figure at 0x7ff773938550>"
      ]
     },
     "metadata": {},
     "output_type": "display_data"
    }
   ],
   "source": [
    "fig, ax = plt.subplots(nrows=5, ncols=5, sharex=True, sharey=True)\n",
    "\n",
    "ax = ax.flatten()\n",
    "\n",
    "for i in range(25):\n",
    "    img = X_train[y_train == 7][i].reshape(28,28)\n",
    "    ax[i].imshow(img, cmap='Greys')\n",
    "\n",
    "ax[0].set_xticks([])\n",
    "ax[0].set_yticks([])\n",
    "plt.tight_layout()\n",
    "plt.show()"
   ]
  },
  {
   "cell_type": "markdown",
   "metadata": {},
   "source": [
    " It is a good idea, to save the scaled images in a format that we can load more quickly into a new Python session to avoid the overhead of reading in and processsing the data again.\n",
    " \n",
    " An efficient yet most convenient method to save multidimensional arrays to disk is NumPy's ___savez___ function. The ___savez_ function is analogous to Python's _pickle_ module for storing NumPy arrays. __\n",
    "- <font style='color:#822879'>The _savez_ function produces zipped archives of our data, producing ___.npz___ files that __contain files in the _.npy___ format.</font>\n",
    "- Further, instead of using _savez_ we will use _save\\_compressed_ which uses the same syntax as _savez_, but further compresses the output file down to sustantially smaller file sizes."
   ]
  },
  {
   "cell_type": "code",
   "execution_count": 1,
   "metadata": {
    "collapsed": true
   },
   "outputs": [],
   "source": [
    "import numpy as np"
   ]
  },
  {
   "cell_type": "code",
   "execution_count": 33,
   "metadata": {},
   "outputs": [],
   "source": [
    "np.savez_compressed('mnist_scaled.npz',\n",
    "                    X_train=X_train,\n",
    "                   y_train=y_train,\n",
    "                   X_test=X_test,\n",
    "                   y_test=y_test)"
   ]
  },
  {
   "cell_type": "code",
   "execution_count": 2,
   "metadata": {},
   "outputs": [
    {
     "data": {
      "text/plain": [
       "['X_train', 'y_train', 'X_test', 'y_test']"
      ]
     },
     "execution_count": 2,
     "metadata": {},
     "output_type": "execute_result"
    }
   ],
   "source": [
    "mnist  =np.load('mnist_scaled.npz')\n",
    "mnist.files"
   ]
  },
  {
   "cell_type": "code",
   "execution_count": 3,
   "metadata": {
    "collapsed": true
   },
   "outputs": [],
   "source": [
    "X_train = mnist['X_train']\n",
    "y_train = mnist['y_train']\n",
    "X_test = mnist['X_test']\n",
    "y_test = mnist['y_test']"
   ]
  },
  {
   "cell_type": "markdown",
   "metadata": {},
   "source": [
    "## Implementing a multilayer perceptron\n",
    "\n",
    "We will implement the code of an MLP wiht one input, one hidden and one output to classify the images in the MNIST dataset."
   ]
  },
  {
   "cell_type": "code",
   "execution_count": 8,
   "metadata": {},
   "outputs": [],
   "source": [
    "import numpy as np\n",
    "import sys\n",
    "\n",
    "class NeuralNetMLP(object):\n",
    "    \"\"\"Feed forward neural network / Multi -layer perceptorn  classifier.\n",
    "    \n",
    "    Parameters\n",
    "    ----------\n",
    "    \n",
    "    n_hidden : int (default:30)\n",
    "        Number of hidden units.\n",
    "    l2 : float (default: 0.)\n",
    "        Lambda value for L2-regularization\n",
    "    epochs : int (default ;100)\n",
    "        Number of passes over the training set.\n",
    "    eta : float (default: 0.001)\n",
    "        Learning rate\n",
    "    shuffle : bool (default: True)\n",
    "        Shuffles training data every epoch \n",
    "        if True to prevent circles.\n",
    "    minibatch_size : int (default : 1)\n",
    "        Number of training smaples per minibatch.\n",
    "    seed : int (default: None)\n",
    "        Random seed for initialzing weights and shuffling\n",
    "        \n",
    "    Attributes\n",
    "    ----------\n",
    "    eval_ : dict\n",
    "        Dictionalry collecting the cost, trianing accuracy, \n",
    "        and validation accuracy for each epoch during training.\n",
    "    \"\"\"\n",
    "    def __init__(self, n_hidden=30, l2=0., epochs=100, eta=0.001,\n",
    "                shuffle=True, minibatch_size=1, seed=None):\n",
    "        self.random = np.random.RandomState(seed)\n",
    "        self.n_hidden = n_hidden\n",
    "        self.l2 = l2\n",
    "        self.epochs = epochs\n",
    "        self.eta = eta\n",
    "        self.shuffle = shuffle\n",
    "        self.minibatch_size = minibatch_size\n",
    "    \n",
    "    def _onehot(self, y, n_classes):\n",
    "        \"\"\"Encode labels into one-hot representation\n",
    "        \n",
    "        Parameters\n",
    "        ----------\n",
    "        y : array, shape = [n_samples]\n",
    "            Target values.\n",
    "            \n",
    "        Returns\n",
    "        ----------\n",
    "        onehot : array, shape = (n_samples, n_labels)\n",
    "        \"\"\"\n",
    "        onehot = np.zeros((n_classes, y.shape[0]))\n",
    "        for idx, val in enumerate(y.astype(int)):\n",
    "            onehot[val, idx] = 1.\n",
    "        return onehot.T\n",
    "        \n",
    "    def _sigmoid(self, z):\n",
    "        \"\"\"Compute logistic function (sigmoid)\"\"\"\n",
    "        return 1. / (1 + np.exp(-np.clip(z, -250, 250)))\n",
    "    \n",
    "    def _forward(self, X):\n",
    "        \"\"\"Compute forward propagation step\"\"\"\n",
    "        \n",
    "        # step 1 : net input of hidden layer\n",
    "        # [n_samples, n_features] dot [n_features, n_hidden]\n",
    "        # -> [n_samples, n_hidden]\n",
    "        \n",
    "        z_h = np.dot(X, self.w_h) + self.b_h\n",
    "        \n",
    "        # step 2 : activation of hidden layer\n",
    "        a_h = self._sigmoid(z_h)\n",
    "        \n",
    "        # step 3: net input of output layer\n",
    "        # [n_samples, n_hidden] dot [n_hidden, n_classlabels]\n",
    "        # -> [n_samples, n_classlabels]\n",
    "        z_out = np.dot(a_h, self.w_out) + self.b_out\n",
    "        \n",
    "        # step 4 : activation of output layer\n",
    "        a_out = self._sigmoid(z_out)\n",
    "        \n",
    "        return z_h, a_h, z_out, a_out\n",
    "    \n",
    "    def _compute_cost(self, y_enc, output):\n",
    "        \"\"\"Compute cost function\n",
    "        \n",
    "        Parameters\n",
    "        ------------\n",
    "        \n",
    "        y_enc : array, shape = (n_samples, n_labels)\n",
    "            one-hot encoded class labesl.\n",
    "        output : array, hsape = [n_samples, n_output_units]\n",
    "            Activation of the output layer (forward progagation)\n",
    "            \n",
    "        Returns\n",
    "        ---------\n",
    "        cost : float\n",
    "            Regularized cost\n",
    "            \n",
    "        \"\"\"\n",
    "        L2_term = (self.l2 *\n",
    "                  (np.sum(self.w_h ** 2.) +\n",
    "                  np.sum(self.w_out ** 2.)))\n",
    "        \n",
    "        term1 = -y_enc * (np.log(output))\n",
    "        term2 = (1. - y_enc) * np.log(1. - output)\n",
    "        cost = np.sum(term1 - term2) + L2_term\n",
    "        return cost\n",
    "    \n",
    "    def predict(self, X):\n",
    "        \"\"\"Predict class labels\n",
    "        \n",
    "        Parameters\n",
    "        ------------\n",
    "        X : array, shape = [n_samples, n_features]\n",
    "            Input layer with original features.\n",
    "            \n",
    "        Returns\n",
    "        ---------\n",
    "        y_pred : arrray, shape = [n_samples]\n",
    "            Predicted class labels.\n",
    "            \n",
    "        \"\"\"\n",
    "        \n",
    "        z_h, a_h, z_out, a_out = self._forward(X)\n",
    "        y_pred = np.argmax(z_out, axis=1)\n",
    "        return y_pred\n",
    "    \n",
    "    def fit(self, X_train, y_train, X_valid, y_valid):\n",
    "        \"\"\" Learn weights form training data.\n",
    "        \n",
    "        Parameters\n",
    "        -------------\n",
    "        \n",
    "        X_train : array, shape = [n_samples, n_features]\n",
    "            Input layer with original featues.\n",
    "        y_train : array, shape = [n_samples]\n",
    "            Target class labels.\n",
    "        X_valid : array, shape = [n_samples, n_features]\n",
    "            Sample fatures for validation during training\n",
    "        y_valid : array, shape = [n_samples]\n",
    "            Sample labels for validaiton during training\n",
    "            \n",
    "        Returns:\n",
    "        ------------\n",
    "        self\n",
    "        \n",
    "        \"\"\"\n",
    "        n_output = np.unique(y_train).shape[0] # no. of class labels\n",
    "        \n",
    "        n_features = X_train.shape[1]\n",
    "        \n",
    "        ##################################\n",
    "        # Weight Initialization\n",
    "        ##################################\n",
    "        \n",
    "        # weights for input -> hidden\n",
    "        self.b_h = np.zeros(self.n_hidden)\n",
    "        self.w_h = self.random.normal(loc = 0.0, scale=0.1, size = (n_features, self.n_hidden))\n",
    "        \n",
    "        # Weights for hidden -> outpyt\n",
    "        self.b_out = np.zeros(n_output)\n",
    "        self.w_out = self.random.normal(loc = 0.0, scale=0.1, size = (self.n_hidden, n_output))\n",
    "        \n",
    "        epoch_strlen = len(str(self.epochs))    # for progr, fromat.\n",
    "        self.eval_ = {'cost' : [], 'train_acc': [], 'valid_acc': []}\n",
    "        \n",
    "        y_train_enc = self._onehot(y_train, n_output)\n",
    "        \n",
    "        # iterate over tarining epochs\n",
    "        for i in range(self.epochs):\n",
    "            # iterate over minibatches\n",
    "            \n",
    "            indices = np.arange(X_train.shape[0])\n",
    "            \n",
    "            if self.shuffle:\n",
    "                self.random.shuffle(indices)\n",
    "            \n",
    "            for start_idx in range(0, indices.shape[0]  - self.minibatch_size + 1, self.minibatch_size):\n",
    "                batch_idx = indices[start_idx: start_idx + self.minibatch_size]\n",
    "                \n",
    "                #forward propagation\n",
    "                z_h, a_h, z_out, a_out = self._forward(X_train[batch_idx])\n",
    "                \n",
    "                #####################\n",
    "                # Backpropagation\n",
    "                #####################\n",
    "                \n",
    "                #[n_samples, n_classlabels]\n",
    "                sigma_out = a_out - y_train_enc[batch_idx]\n",
    "                \n",
    "                #[n_samples, n_hidden]\n",
    "                sigmoid_derivative_h = a_h * (1. - a_h)\n",
    "                \n",
    "                # [n_samples, n_classlabels] dot [n_classlabels, n_hidden]\n",
    "                # -> [n_samples, n_hidden]\n",
    "                sigma_h = (np.dot(sigma_out, self.w_out.T) * sigmoid_derivative_h)\n",
    "                \n",
    "                # [n_features, n_samples] dot [n_samples, n_hidden]\n",
    "                # -> [n_featues, n_hidden]\n",
    "                grad_w_h = np.dot(X_train[batch_idx].T, sigma_h)\n",
    "                grad_b_h = np.sum(sigma_h, axis = 0)\n",
    "                \n",
    "                #[n_hidden, n_samples] dot [n_samples, n_classlabels]\n",
    "                # -> [n_hidden, n_classlabels]\n",
    "                grad_w_out = np.dot(a_h.T, sigma_out)\n",
    "                grad_b_out = np.sum(sigma_out, axis = 0)\n",
    "                \n",
    "                # Regularization and weight updates.\n",
    "                delta_w_h = (grad_w_h + self.l2*self.w_h)\n",
    "                delta_b_h = grad_b_h # bias is not regularized\n",
    "                self.w_h -= self.eta * delta_w_h\n",
    "                self.b_h -= self.eta * delta_b_h\n",
    "                \n",
    "                \n",
    "                delta_w_out = (grad_w_out + self.l2*self.w_out)\n",
    "                delta_b_out = grad_b_out # bias is not regularized\n",
    "                self.w_out -= self.eta * delta_w_out\n",
    "                self.b_out -= self.eta * delta_b_out\n",
    "                \n",
    "            ##############\n",
    "            # Evaluation\n",
    "            ##############\n",
    "\n",
    "            # Evaluation affter each epoch during training\n",
    "            z_h, a_h, z_out, a_out = self._forward(X_train)\n",
    "\n",
    "            cost = self._compute_cost(y_enc = y_train_enc, output=a_out)\n",
    "\n",
    "            y_train_pred = self.predict(X_train)\n",
    "            y_valid_pred = self.predict(X_valid)\n",
    "\n",
    "            train_acc = ((np.sum(y_train == y_train_pred)).astype(np.float) / X_train.shape[0])\n",
    "            valid_acc = ((np.sum(y_valid == y_valid_pred)).astype(np.float) / X_valid.shape[0])\n",
    "\n",
    "            sys.stderr.write('\\r %0*d/%d | Cost: %.2f | Train/Valid Acc. : %.2f%%/%.2f%%' %(epoch_strlen, i+1, self.epochs, cost,\n",
    "                                                                   train_acc*100, valid_acc*100))\n",
    "            sys.stderr.flush()\n",
    "\n",
    "            self.eval_['cost'].append(cost)\n",
    "            self.eval_['train_acc'].append(train_acc)\n",
    "            self.eval_['valid_acc'].append(valid_acc)\n",
    "                \n",
    "        return self\n",
    "        \n",
    "        \n",
    "        "
   ]
  },
  {
   "cell_type": "code",
   "execution_count": 9,
   "metadata": {
    "collapsed": true
   },
   "outputs": [],
   "source": [
    "# np.clip()\n",
    "#  Let's now initialize a new 784-100-10 MLP - a neural network with 784 input unit (n_features), 100 hidden \n",
    "# units (n_hidden), and 10 output units (n_output):\n",
    "\n",
    "nn = NeuralNetMLP(n_hidden=100,\n",
    "                 l2=0.01,\n",
    "                 epochs=200,\n",
    "                 eta=0.0005,\n",
    "                 minibatch_size=100,\n",
    "                 shuffle=True,\n",
    "                 seed=1)"
   ]
  },
  {
   "cell_type": "markdown",
   "metadata": {},
   "source": [
    "_ minibatch-size _ : this is the number of trianign samples ineach mini-bathc when splitting of the learing data in each epoch for stochastic gradient descent, The greadient is compute for each mini-batch speartely instead of the netire taringing data for faster learning.\n",
    "\n",
    "Next, we training the MLP usign 55,000 samples from the already shuffled MNIST trainig dataset and use the remaining 5,000 samples for validation during training."
   ]
  },
  {
   "cell_type": "code",
   "execution_count": null,
   "metadata": {
    "collapsed": true
   },
   "outputs": [],
   "source": []
  },
  {
   "cell_type": "code",
   "execution_count": 11,
   "metadata": {},
   "outputs": [
    {
     "name": "stderr",
     "output_type": "stream",
     "text": [
      " 200/200 | Cost: 5104.25 | Train/Valid Acc. : 99.25%/98.02%%"
     ]
    },
    {
     "name": "stdout",
     "output_type": "stream",
     "text": [
      "CPU times: user 23min 28s, sys: 1min 5s, total: 24min 34s\n",
      "Wall time: 12min 54s\n"
     ]
    },
    {
     "data": {
      "text/plain": [
       "<__main__.NeuralNetMLP at 0x7f1a19cd2198>"
      ]
     },
     "execution_count": 11,
     "metadata": {},
     "output_type": "execute_result"
    }
   ],
   "source": [
    "%%time\n",
    "\n",
    "nn.fit(X_train= X_train[:55000],\n",
    "      y_train=y_train[:55000],\n",
    "      X_valid=X_train[55000:],\n",
    "      y_valid=y_train[55000:])"
   ]
  },
  {
   "cell_type": "code",
   "execution_count": 13,
   "metadata": {},
   "outputs": [
    {
     "data": {
      "image/png": "[encoded data removed]",
      "text/plain": [
       "<matplotlib.figure.Figure at 0x7f1a19f1dd30>"
      ]
     },
     "metadata": {},
     "output_type": "display_data"
    }
   ],
   "source": [
    "import matplotlib.pyplot as plt\n",
    "%matplotlib inline\n",
    "\n",
    "\n",
    "plt.plot(range(nn.epochs), nn.eval_['cost'])\n",
    "plt.xlabel('Epochs')\n",
    "plt.ylabel('Cost')\n",
    "plt.show()"
   ]
  },
  {
   "cell_type": "markdown",
   "metadata": {},
   "source": [
    "As we can see , the cost decreased sustantially during the ffirest 100 epochs and seems to slowly sonverge in the last 100 epochs. However, the samll slope between epoch 175 and epoch 200 indicates tht he cost would further decrease with a trainig over additional epochs."
   ]
  },
  {
   "cell_type": "code",
   "execution_count": 12,
   "metadata": {},
   "outputs": [
    {
     "data": {
      "image/png": "[encoded data removed]",
      "text/plain": [
       "<matplotlib.figure.Figure at 0x7f1a19f72e10>"
      ]
     },
     "metadata": {},
     "output_type": "display_data"
    }
   ],
   "source": [
    "plt.plot(range(nn.epochs) , nn.eval_['train_acc'], label='training')\n",
    "plt.plot(range(nn.epochs) , nn.eval_['valid_acc'], label='validationg', linestyle='--')\n",
    "plt.ylabel('Accuracy')\n",
    "plt.xlabel('Epochs')\n",
    "plt.legend()\n",
    "plt.show()\n"
   ]
  },
  {
   "cell_type": "markdown",
   "metadata": {},
   "source": [
    "The plot reveal that the gap between training adn vlaidation accuracy increases with more epochs we train the network. At approximately the 50th epoch, the training and validation accuracy values are equal, and then, the netork starts overfitting the training data.\n"
   ]
  },
  {
   "cell_type": "code",
   "execution_count": 14,
   "metadata": {},
   "outputs": [
    {
     "name": "stdout",
     "output_type": "stream",
     "text": [
      "Training accuracy: 97.52%\n"
     ]
    }
   ],
   "source": [
    "y_test_pred = nn.predict(X_test)\n",
    "acc = (np.sum(y_test == y_test_pred).astype(np.float) / X_test.shape[0])\n",
    "print('Training accuracy: %.2f%%' %(acc *100))"
   ]
  },
  {
   "cell_type": "markdown",
   "metadata": {},
   "source": [
    "Lastly, let's take a look at some off the images that our MLP struggles with:"
   ]
  },
  {
   "cell_type": "code",
   "execution_count": 16,
   "metadata": {},
   "outputs": [
    {
     "data": {
      "image/png": "[encoded data removed]",
      "text/plain": [
       "<matplotlib.figure.Figure at 0x7f1a142029e8>"
      ]
     },
     "metadata": {},
     "output_type": "display_data"
    }
   ],
   "source": [
    "miscl_img = X_test[y_test != y_test_pred][:25]\n",
    "correct_label = y_test[y_test != y_test_pred][:25]\n",
    "miscl_label = y_test_pred[y_test != y_test_pred][:25]\n",
    "\n",
    "fig, ax = plt.subplots(nrows=5, ncols=5, sharex=True, sharey=True)\n",
    "ax = ax.flatten()\n",
    "for i in range(25):\n",
    "    img = miscl_img[i].reshape(28,28)\n",
    "    ax[i].imshow(img, cmap='Greys', interpolation='nearest')\n",
    "    \n",
    "    ax[i].set_title('%d) t: %d p: %d' %(i+1, correct_label[i], miscl_label[i]))\n",
    "ax[0].set_xticks([])\n",
    "ax[1].set_yticks([])\n",
    "plt.tight_layout()\n",
    "plt.show()\n",
    "\n"
   ]
  },
  {
   "cell_type": "markdown",
   "metadata": {},
   "source": [
    "### Training an artificial neural network"
   ]
  },
  {
   "cell_type": "markdown",
   "metadata": {},
   "source": [
    "The logistic cost function what we implemented as the  _ compute-cost _ method is actually pretty simple to follow since it is the sam ecost function taht we escribe din the logistic regression .\n",
    "\n",
    "<center>$J(w) = - \\sum_{i=1}^{n} y^{[i]}log(a^{[i]}) +(1 - y^{[i]})log(1-a^{[i]})$  </center>\n",
    "\n",
    "Here $a^{[i]} $ is the sigmoid activation of the ith sample in the dataset, whe we compute in the forward progpagation step:\n",
    "\n",
    "\n",
    "<center>$ac = \\phi(z^{[i]} )$</center>\n",
    "\n",
    "Now let's add a regularization term, which allows us to reduce the degree of overfitting.\n",
    "\n",
    "<center>$J(w) = - [\\sum_{i=1}^{n} y^{[i]}log(a^{[i]}) +(1 - y^{[i]})log(1-a^{[i]})] + \\frac {\\lambda}{2} ||w||^2_2$  </center>\n"
   ]
  },
  {
   "cell_type": "markdown",
   "metadata": {},
   "source": [
    "### Developing your intuition for backpropagation\n",
    "\n",
    "- Backpropagation is a very computationally efficient approach to compute the parital derivatives of a complex cost funciton in mulitlayer neural networks.\n",
    "- Here our goal is to use those derivatives to learn the weight coefficients for parameterizing such a multilayer artificial nerual network.\n",
    "- The challenge in the parameteization of neural netowrks is that we are typically dealing with a very large number of weight coefficeints in a high-dimensional feature space. the error suface of aneural network cost funciton is not convex or smooth with respect to the parameters.\n",
    "- there are may bumps in this high-dimensional cost surface (local minima) tha we have to overcome in order o find the global minimum of the cost function.\n",
    "\n",
    "\n",
    "[Who invented Backpropagation?](http://people.idsia.ch/~juergen/who-invented-backpropagation.html)\n"
   ]
  },
  {
   "cell_type": "markdown",
   "metadata": {},
   "source": [
    "Recall the __chain rule__  is an approach to compute the derivative of a complex , nesed function , such asf(g(x)), as follows:\n",
    "<center>$\\frac {d[f(g(x))]}{dx} = \\frac {df}{dg}.\\frac{dg}{dx}$</center>\n",
    "\n",
    "similarly we can use the chaine rule for an arbitarily  long function composition. like \n",
    "F = f(g(h(u(v(x))))).\n",
    "\n",
    "\n",
    "<center>$\\frac {dF}{dx} =  \\frac {dF(x)}{dx} = \\frac {df(g(h(u(v(x)))))}{dx} = \\frac {df}{dg}.\\frac{dg}{dh}.\\frac{dh}{du}.\\frac{du}{dv}.\\frac{dv}{dx}$</center>\n",
    "\n",
    "\n",
    "In the context of computer algebra, a set of techniques has been developed to solve such problems very efficiently, which is also known as __automatic differentiation__.\n",
    "\n",
    "[Automatic differentiation of algorithms for Machine learning](https://arxiv.org/pdf/1404.7456.pdf)\n",
    "\n",
    "Automatic differentiaiton comes with two modes, the __forward__ and __reverse__ modes;<font style='color:#822879'> backpropagation is simply just a special case of reverse mode automatic differnetiation</font> The key point is that applying the chaing rule in the forward mode can be quite expensive since we would have to multiply large metrices fore each layer that we eventually multiply by a vectoer to optioatn the output.\n",
    "\n",
    "- The trick of reverse mode isthat we start from right to left: we multiply a matrix by a vector, which yields another vector that is multiplied by the next matrix and so on. Matrix-vector multiplication is computationally much cheaper than matrix-matrix multiplication, which is why backpropagation is one of the most popular algorithms used in neural network training.\n",
    "\n"
   ]
  },
  {
   "cell_type": "markdown",
   "metadata": {},
   "source": [
    "![image for connected MLP backpropagation](12_12.png)"
   ]
  },
  {
   "cell_type": "markdown",
   "metadata": {},
   "source": [
    "- Mini-bathc learing is a special form of stochastic gradient descent where we compute the gradient based on a subset _k_ of the _n_ training samples with _ 1< k< n _ . Mini-bathc learning has the advantage over online learning that we can make use of our vectorized implementations to improve computational efficiency. However we can update the weights much faster than in regular gradient descent.\n",
    "\n",
    "- <font style='color:#822879'>Multilayer neural networks are much harder to train than simpler algorithms such as __ Adaline, logistic regression , or support vector machines.__  In multilayer neural networks, we typically have hundreds, thousands, or even billions of weights that we need to optimize. Unfortunately , the output function has a rough surface and the __optimisation algorithm can easily become trapped in local minima,__ as show in the following figure:</font>\n",
    "\n",
    "![Multiple local minima in neurla network training](12_13.png)\n",
    "\n",
    "Here we only show th cost surface for a single wieght on the x-ais. It is impossible to visualize the actual cost surface for the human eye."
   ]
  },
  {
   "cell_type": "code",
   "execution_count": null,
   "metadata": {
    "collapsed": true
   },
   "outputs": [],
   "source": []
  },
  {
   "cell_type": "markdown",
   "metadata": {},
   "source": [
    "Multiple refernces:\n",
    "\n",
    "[by Ian goodfellow.](http://www.deeplearningbook.org)   <br>\n",
    "[Differntial calculation concept for back propagation](https://sebastianraschka.com/pdf/books/dlb/appendix_d_calculus.pdf)\n",
    "\n",
    "\n",
    "- Books\n",
    "Pattern Recognition and Machine learning , C.M. Bishop and others\n"
   ]
  },
  {
   "cell_type": "code",
   "execution_count": null,
   "metadata": {
    "collapsed": true
   },
   "outputs": [],
   "source": []
  }
 ],
 "metadata": {
  "kernelspec": {
   "display_name": "Python 3",
   "language": "python",
   "name": "python3"
  },
  "language_info": {
   "codemirror_mode": {
    "name": "ipython",
    "version": 3
   },
   "file_extension": ".py",
   "mimetype": "text/x-python",
   "name": "python",
   "nbconvert_exporter": "python",
   "pygments_lexer": "ipython3",
   "version": "3.6.2"
  }
 },
 "nbformat": 4,
 "nbformat_minor": 2
}
