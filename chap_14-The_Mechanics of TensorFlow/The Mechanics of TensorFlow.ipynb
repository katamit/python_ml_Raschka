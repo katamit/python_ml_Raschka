{
 "cells": [
  {
   "cell_type": "markdown",
   "metadata": {},
   "source": [
    "# The Mechanics of TensorFlow\n",
    "\n",
    "## Key Features of TensorFlow\n",
    "\n",
    "1. TensorFlow givesus a scalable, mulitplatform programming interface for implementing and running machine learning algorithms.\n",
    "2. TensorFlow API has been relatively stable and mature since its 1.0 release in 2n017.\n",
    "3. Its ability to work with single or multiple GPUs, This allows users to train machine learning models very efficiently on  large-scale systems.\n",
    "4. TensorFlow has strong growth drivers : development is funded ans supported nu Google, and  so continuous imporvements and contribution from open source developers.\n",
    "5. TensorFlow support mobile deployment, which makes it a very suitable tool for application."
   ]
  },
  {
   "cell_type": "markdown",
   "metadata": {},
   "source": [
    "TensorFlow library lets users define operations and functions over tensors asn computational graphs. Tensors are a generalizable matehmatical notation for multidimensional arrays holding data vlaues, where the dimensionality of a tensor a typically referred to as its __rank__.\n",
    "\n",
    "![Tensors image](tensors.png)"
   ]
  },
  {
   "cell_type": "markdown",
   "metadata": {},
   "source": [
    "### Get the rank and shape of a tensor\n",
    "\n",
    "We can use the _tf.rank_ function to get  the rank of a tensor. It is important to note that _tf.rank_ will return a tensor a soutpt, and in order to get the actual values, we will need to evaluate that tensor.\n",
    "<br>\n",
    "\n",
    "We can get the shape of a tensor _X_ using _X.get-shape()_, whichi will return an object of a special class called _TensorShape_.\n",
    "<br>\n",
    "\n",
    "We can print the shape and use it direclty ofr the shape argumen when creating other tensors, However, we can index only after converting it into a Python list , usign the _as-list_ method of the tensor class.\n"
   ]
  },
  {
   "cell_type": "code",
   "execution_count": 1,
   "metadata": {
    "collapsed": true
   },
   "outputs": [],
   "source": [
    "import tensorflow as tf\n",
    "import numpy as np\n"
   ]
  },
  {
   "cell_type": "code",
   "execution_count": 5,
   "metadata": {},
   "outputs": [
    {
     "name": "stdout",
     "output_type": "stream",
     "text": [
      "Shapes: () (4,) (2, 2)\n"
     ]
    }
   ],
   "source": [
    "g = tf.Graph()\n",
    "\n",
    "## define the computation graph\n",
    "with g.as_default():\n",
    "    ## define tensors t1, t2, t3\n",
    "    t1 = tf.constant(np.pi)\n",
    "    t2 = tf.constant([1,2,3,4])\n",
    "    t3 = tf.constant([[1,2], [3,4]])\n",
    "    \n",
    "    ## get their ranks\n",
    "    r1 = tf.rank(t1)\n",
    "    r2 = tf.rank(t2)\n",
    "    r3 = tf.rank(t3)\n",
    "    \n",
    "    ## get their shapes\n",
    "    s1 = t1.get_shape()\n",
    "    s2 = t2.get_shape()\n",
    "    s3 = t3.get_shape()\n",
    "    print('Shapes:', s1, s2, s3)"
   ]
  },
  {
   "cell_type": "code",
   "execution_count": 6,
   "metadata": {},
   "outputs": [
    {
     "name": "stdout",
     "output_type": "stream",
     "text": [
      "Ranks 0 1 2\n",
      "Ranks 0 1 2\n"
     ]
    }
   ],
   "source": [
    "with tf.Session(graph=g) as sess:\n",
    "    print('Ranks', sess.run(r1), sess.run(r2),sess.run(r3))\n",
    "    print('Ranks', r1.eval(), r2.eval(),r3.eval())\n",
    "    "
   ]
  },
  {
   "cell_type": "markdown",
   "metadata": {},
   "source": [
    "###  Understanding TensorFlow's computation graph\n",
    "\n",
    "TensorFlow relies on building a computatiion graph at tis core, and it uses this computation graph to derive relatinsips between tensor form input all the way to the ouput.\n",
    "\n",
    "- The computation graph is simply a network of nodes. Each node resmebles an operation, which applies a function to its input tensor(s) and returns zeror or more tensors as output.\n",
    "\n",
    "\n",
    "![computation graph ](computation_graph.png)"
   ]
  },
  {
   "cell_type": "markdown",
   "metadata": {
    "collapsed": true
   },
   "source": [
    "TensorFlow build this computation graph and uses it to compute the gradients accordingly. The individual steps for building and compiling such a computation graph in TensorFlow are as follows:\n",
    "\n",
    "1. Instantiate a new, empty computation graph\n",
    "2. Add nodes (tensors and operations) to the computation graph.\n",
    "3. Execute the graph:<br>\n",
    "\n",
    "    a. Start a new session<br>\n",
    "    b. Initialize the varibales in the graph.<br>\n",
    "    c. Run the computation graph in this session.\n",
    "    \n",
    "    \n",
    "Let's create a graph for evaluationg _z = 2x(a-b)+c_"
   ]
  },
  {
   "cell_type": "code",
   "execution_count": 3,
   "metadata": {
    "collapsed": true
   },
   "outputs": [],
   "source": [
    "g = tf.Graph()\n",
    "\n",
    "with g.as_default():\n",
    "    a = tf.constant(1, name='a_conts')\n",
    "    b = tf.constant(2, name='b_conts')    \n",
    "    c = tf.constant(3, name='c_conts')\n",
    "    \n",
    "    z = 2*(a-b) + c"
   ]
  },
  {
   "cell_type": "markdown",
   "metadata": {
    "collapsed": true
   },
   "source": [
    "- If we do __not__ explicitly create ag raph, there is always a default graph, and therfore, all the nodes are added to the default graph.\n",
    "- A TensorFlow sesssion is an environment is which the opeations and tesnors ofa graph cna be exceuted A session object is crated nu calling _tf.session_ that can receive an existing graph (here, g) as an argument as in _tf.session(graph=g)_; otherwise, it will launch the efault frapht,, which might be empty.\n",
    "\n",
    "<br>\n",
    "- Evaluating each tensor involves calling its _eval_ method inside the current session, \n",
    "- When evaluating a specific tensor in the graph, TensorFlow has to execute all the preceding nodes in the graph until it reaches that particular one.\n",
    "- In case there are one or more placeholders, they would need to  be fed."
   ]
  },
  {
   "cell_type": "code",
   "execution_count": 4,
   "metadata": {},
   "outputs": [
    {
     "name": "stdout",
     "output_type": "stream",
     "text": [
      "2*(a-b)+c  => 1\n"
     ]
    }
   ],
   "source": [
    "with tf.Session(graph=g) as sess:\n",
    "    print('2*(a-b)+c  =>', z.eval())"
   ]
  },
  {
   "cell_type": "markdown",
   "metadata": {
    "collapsed": true
   },
   "source": [
    "### Placeholders in TensorFlow\n",
    "\n",
    "- TensorFlow has specil mechnaisms for feeding data, ON e of these mechanisms is the use of placeholder, whicha re predfiened tensors with specific types and shapes.\n",
    "\n",
    "- These tensors are added to the computation graph using the _tf.placeholder_ functin, and they do not contain any data. However, upon the excution of certain nodes in the graph, these placholders need to be fed with data arrays."
   ]
  },
  {
   "cell_type": "markdown",
   "metadata": {
    "collapsed": true
   },
   "source": [
    "### Defining placeholders\n",
    "\n",
    "- When defining placeholders, we need to decide what their __shape and type__ should be , according to the shape and type of the data that will be fed through them upon execution.\n",
    "\n"
   ]
  },
  {
   "cell_type": "code",
   "execution_count": 13,
   "metadata": {
    "collapsed": true
   },
   "outputs": [],
   "source": [
    "g = tf.Graph()\n",
    "\n",
    "with g.as_default():\n",
    "    tf_a = tf.placeholder(shape=(None), dtype= tf.float16, name='a_pla_holde')\n",
    "    tf_b = tf.placeholder(shape=(None), dtype= tf.float16, name='b_pla_holde')    \n",
    "    tf_c = tf.placeholder(shape=(None), dtype= tf.float16, name='c_pla_holde')\n",
    "    \n",
    "    z = 2*(tf_a-tf_b)+tf_c"
   ]
  },
  {
   "cell_type": "code",
   "execution_count": 15,
   "metadata": {},
   "outputs": [
    {
     "name": "stdout",
     "output_type": "stream",
     "text": [
      "z :  1.0\n",
      "z :  [ 0.  3.]\n",
      "z :  [[ 0.]\n",
      " [ 3.]]\n"
     ]
    }
   ],
   "source": [
    "with tf.Session(graph=g) as sess:\n",
    "    feed = {tf_a:1,\n",
    "           tf_b:2,\n",
    "           tf_c:3}\n",
    "    print('z : ', sess.run(z, feed_dict=feed))\n",
    "    \n",
    "    feed = {tf_a:[1,2],\n",
    "           tf_b:[3,2],\n",
    "           tf_c:[4,3]}\n",
    "    print('z : ', sess.run(z, feed_dict=feed))\n",
    "    \n",
    "    feed = {tf_a:[[1],[2]],\n",
    "           tf_b:[[3],[2]],\n",
    "           tf_c:[[4],[3]]}\n",
    "    print('z : ', sess.run(z, feed_dict=feed))"
   ]
  },
  {
   "cell_type": "markdown",
   "metadata": {
    "collapsed": true
   },
   "source": [
    "A useful feaute of placeholders is that we can spcify _None_ for the dimension that is varying in size. For example, we cna create a placeholder of rank2, where hte firest dimension is unkonwn (or may vary),"
   ]
  },
  {
   "cell_type": "code",
   "execution_count": 16,
   "metadata": {
    "collapsed": true
   },
   "outputs": [],
   "source": [
    "g = tf.Graph()\n",
    "\n",
    "with g.as_default():\n",
    "    tf_x = tf.placeholder(tf.float32, shape=[None,2], name='tf_x')\n",
    "    x_mean = tf.reduce_mean(tf_x , axis=0, name='mean')"
   ]
  },
  {
   "cell_type": "code",
   "execution_count": 20,
   "metadata": {},
   "outputs": [
    {
     "name": "stdout",
     "output_type": "stream",
     "text": [
      "Feeding data with shape  (5, 2)\n",
      "Result :  [ 0.62  0.47]\n",
      "Tensor(\"tf_x:0\", shape=(?, 2), dtype=float32)\n",
      "\n",
      "\n",
      "Feeding data with shape  (10, 2)\n",
      "Result :  [ 0.46  0.49]\n",
      "Tensor(\"tf_x:0\", shape=(?, 2), dtype=float32)\n"
     ]
    }
   ],
   "source": [
    "np.random.seed(123)\n",
    "np.set_printoptions(precision=2)\n",
    "\n",
    "with tf.Session(graph=g) as sess:\n",
    "    x1 = np.random.uniform(low= 0, high=1, size=(5,2))\n",
    "    \n",
    "    print('Feeding data with shape ' , x1.shape)\n",
    "    print('Result : ',sess.run(x_mean, feed_dict={tf_x:x1}))\n",
    "    print(tf_x)    \n",
    "    \n",
    "    print('\\n')\n",
    "    x2 = np.random.uniform(low= 0, high=1, size=(10,2))\n",
    "    \n",
    "    print('Feeding data with shape ', x2.shape)\n",
    "    print('Result : ',sess.run(x_mean, feed_dict={tf_x:x2}))\n",
    "    print(tf_x)    \n"
   ]
  },
  {
   "cell_type": "markdown",
   "metadata": {
    "collapsed": true
   },
   "source": [
    "### Variables in TensorFlow\n",
    "\n",
    "- __Variables__ are a special type of tensor objects that allow us to __store and update the parameters__ of our models in a TensorFflow session during tarining. \n",
    "\n",
    "### Defining Variables\n",
    "\n",
    "- TensorFlow variables sotre the paramets of a models that can be update during training, for example, the weights in thei inpt, hidden, and output layers of a neural network. \n",
    "\n",
    "TensorFlow provies two ways of defining variables:\n",
    "\n",
    "- tf.Variables({initial-value}, name='variable-name')\n",
    "- tf.get_variables(name, ...)\n",
    "\n",
    "\n",
    "The first one, _ tf.Variable _ , is a __class__ that ___creates an object for a new varibale and adds it to the graph.___ Note that tf.Variable does not have an explicity way to determine _shape_ and _dtype_; the shape and type are set to be the same sas those of the initial values.\n",
    "\n",
    "The second option, tf.get_variable , can be used to __reuse__ and _existing variable with a given name_ (if the name exist in the graph) or create a new one  if the name does not exist. In this case the name becomes cricitcal; that's probably why it has to be places as the first argument to this function. Furthermore, tf.get_variable provides an explicty way to set _shape_ and _dtype_; these paramets are only required when creating anew Variable, not reusing exsting ones.\n",
    "\n",
    "- the advantage of tf.get_variable over tf.Variable is twofold: tf.get_variable allows us to reuse exsting variables it already uses the popular Xavier/Glorot initializaiton scheme by default.\n"
   ]
  },
  {
   "cell_type": "markdown",
   "metadata": {
    "collapsed": true
   },
   "source": [
    "### Initializing Variables\n",
    "\n",
    "Here, it is critical to understand that tensors defined as variables are not allocated in memoryt and contain no values until they are initialized. Therefore, before executing any node in the computation graph , we must initialzie the variables that are within .the path  to the node that we want ot execute.\n",
    "\n",
    "The initialization process refers to allocaitong memory fro the assocaitaed tensors and assigning their intial values. TensorFlow provies a function names <bold> tf.global_varaibles_initializer </bold> that returns an operator for initalizing all the variables that exis in a computation graph. then, executing this operato rwill initialize the variables as follows:\n",
    "\n"
   ]
  },
  {
   "cell_type": "code",
   "execution_count": 7,
   "metadata": {},
   "outputs": [
    {
     "name": "stdout",
     "output_type": "stream",
     "text": [
      "<tf.Variable 'w:0' shape=(2, 4) dtype=int64_ref>\n",
      "[[1 2 3 4]\n",
      " [5 6 7 8]]\n"
     ]
    }
   ],
   "source": [
    "g1 = tf.Graph()\n",
    "\n",
    "with g1.as_default():\n",
    "    w = tf.Variable(np.array([[1,2,3,4],\n",
    "                             [5,6,7,8]]), name='w')\n",
    "    print(w)\n",
    "\n",
    "with tf.Session(graph=g1) as sess:\n",
    "    sess.run(tf.global_variables_initializer())\n",
    "    print(sess.run(w))\n"
   ]
  },
  {
   "cell_type": "code",
   "execution_count": 8,
   "metadata": {
    "collapsed": true
   },
   "outputs": [
    {
     "ename": "FailedPreconditionError",
     "evalue": "Attempting to use uninitialized value w2\n\t [[Node: _retval_w2_0_0 = _Retval[T=DT_INT32, index=0, _device=\"/job:localhost/replica:0/task:0/cpu:0\"](w2)]]",
     "output_type": "error",
     "traceback": [
      "\u001b[0;31m---------------------------------------------------------------------------\u001b[0m",
      "\u001b[0;31mFailedPreconditionError\u001b[0m                   Traceback (most recent call last)",
      "\u001b[0;32m~/anaconda3/envs/VenvPandas/lib/python3.6/site-packages/tensorflow/python/client/session.py\u001b[0m in \u001b[0;36m_do_call\u001b[0;34m(self, fn, *args)\u001b[0m\n\u001b[1;32m   1326\u001b[0m     \u001b[0;32mtry\u001b[0m\u001b[0;34m:\u001b[0m\u001b[0;34m\u001b[0m\u001b[0m\n\u001b[0;32m-> 1327\u001b[0;31m       \u001b[0;32mreturn\u001b[0m \u001b[0mfn\u001b[0m\u001b[0;34m(\u001b[0m\u001b[0;34m*\u001b[0m\u001b[0margs\u001b[0m\u001b[0;34m)\u001b[0m\u001b[0;34m\u001b[0m\u001b[0m\n\u001b[0m\u001b[1;32m   1328\u001b[0m     \u001b[0;32mexcept\u001b[0m \u001b[0merrors\u001b[0m\u001b[0;34m.\u001b[0m\u001b[0mOpError\u001b[0m \u001b[0;32mas\u001b[0m \u001b[0me\u001b[0m\u001b[0;34m:\u001b[0m\u001b[0;34m\u001b[0m\u001b[0m\n",
      "\u001b[0;32m~/anaconda3/envs/VenvPandas/lib/python3.6/site-packages/tensorflow/python/client/session.py\u001b[0m in \u001b[0;36m_run_fn\u001b[0;34m(session, feed_dict, fetch_list, target_list, options, run_metadata)\u001b[0m\n\u001b[1;32m   1305\u001b[0m                                    \u001b[0mfeed_dict\u001b[0m\u001b[0;34m,\u001b[0m \u001b[0mfetch_list\u001b[0m\u001b[0;34m,\u001b[0m \u001b[0mtarget_list\u001b[0m\u001b[0;34m,\u001b[0m\u001b[0;34m\u001b[0m\u001b[0m\n\u001b[0;32m-> 1306\u001b[0;31m                                    status, run_metadata)\n\u001b[0m\u001b[1;32m   1307\u001b[0m \u001b[0;34m\u001b[0m\u001b[0m\n",
      "\u001b[0;32m~/anaconda3/envs/VenvPandas/lib/python3.6/contextlib.py\u001b[0m in \u001b[0;36m__exit__\u001b[0;34m(self, type, value, traceback)\u001b[0m\n\u001b[1;32m     87\u001b[0m             \u001b[0;32mtry\u001b[0m\u001b[0;34m:\u001b[0m\u001b[0;34m\u001b[0m\u001b[0m\n\u001b[0;32m---> 88\u001b[0;31m                 \u001b[0mnext\u001b[0m\u001b[0;34m(\u001b[0m\u001b[0mself\u001b[0m\u001b[0;34m.\u001b[0m\u001b[0mgen\u001b[0m\u001b[0;34m)\u001b[0m\u001b[0;34m\u001b[0m\u001b[0m\n\u001b[0m\u001b[1;32m     89\u001b[0m             \u001b[0;32mexcept\u001b[0m \u001b[0mStopIteration\u001b[0m\u001b[0;34m:\u001b[0m\u001b[0;34m\u001b[0m\u001b[0m\n",
      "\u001b[0;32m~/anaconda3/envs/VenvPandas/lib/python3.6/site-packages/tensorflow/python/framework/errors_impl.py\u001b[0m in \u001b[0;36mraise_exception_on_not_ok_status\u001b[0;34m()\u001b[0m\n\u001b[1;32m    465\u001b[0m           \u001b[0mcompat\u001b[0m\u001b[0;34m.\u001b[0m\u001b[0mas_text\u001b[0m\u001b[0;34m(\u001b[0m\u001b[0mpywrap_tensorflow\u001b[0m\u001b[0;34m.\u001b[0m\u001b[0mTF_Message\u001b[0m\u001b[0;34m(\u001b[0m\u001b[0mstatus\u001b[0m\u001b[0;34m)\u001b[0m\u001b[0;34m)\u001b[0m\u001b[0;34m,\u001b[0m\u001b[0;34m\u001b[0m\u001b[0m\n\u001b[0;32m--> 466\u001b[0;31m           pywrap_tensorflow.TF_GetCode(status))\n\u001b[0m\u001b[1;32m    467\u001b[0m   \u001b[0;32mfinally\u001b[0m\u001b[0;34m:\u001b[0m\u001b[0;34m\u001b[0m\u001b[0m\n",
      "\u001b[0;31mFailedPreconditionError\u001b[0m: Attempting to use uninitialized value w2\n\t [[Node: _retval_w2_0_0 = _Retval[T=DT_INT32, index=0, _device=\"/job:localhost/replica:0/task:0/cpu:0\"](w2)]]",
      "\nDuring handling of the above exception, another exception occurred:\n",
      "\u001b[0;31mFailedPreconditionError\u001b[0m                   Traceback (most recent call last)",
      "\u001b[0;32m<ipython-input-8-48d3308c75a3>\u001b[0m in \u001b[0;36m<module>\u001b[0;34m()\u001b[0m\n\u001b[1;32m     10\u001b[0m \u001b[0;32mwith\u001b[0m \u001b[0mtf\u001b[0m\u001b[0;34m.\u001b[0m\u001b[0mSession\u001b[0m\u001b[0;34m(\u001b[0m\u001b[0mgraph\u001b[0m\u001b[0;34m=\u001b[0m\u001b[0mg2\u001b[0m\u001b[0;34m)\u001b[0m \u001b[0;32mas\u001b[0m \u001b[0msess\u001b[0m\u001b[0;34m:\u001b[0m\u001b[0;34m\u001b[0m\u001b[0m\n\u001b[1;32m     11\u001b[0m     \u001b[0msess\u001b[0m\u001b[0;34m.\u001b[0m\u001b[0mrun\u001b[0m\u001b[0;34m(\u001b[0m\u001b[0minit_op\u001b[0m\u001b[0;34m)\u001b[0m\u001b[0;34m\u001b[0m\u001b[0m\n\u001b[0;32m---> 12\u001b[0;31m     \u001b[0mprint\u001b[0m\u001b[0;34m(\u001b[0m\u001b[0;34m'w2:'\u001b[0m\u001b[0;34m,\u001b[0m \u001b[0msess\u001b[0m\u001b[0;34m.\u001b[0m\u001b[0mrun\u001b[0m\u001b[0;34m(\u001b[0m\u001b[0mw2\u001b[0m\u001b[0;34m)\u001b[0m\u001b[0;34m)\u001b[0m\u001b[0;34m\u001b[0m\u001b[0m\n\u001b[0m",
      "\u001b[0;32m~/anaconda3/envs/VenvPandas/lib/python3.6/site-packages/tensorflow/python/client/session.py\u001b[0m in \u001b[0;36mrun\u001b[0;34m(self, fetches, feed_dict, options, run_metadata)\u001b[0m\n\u001b[1;32m    893\u001b[0m     \u001b[0;32mtry\u001b[0m\u001b[0;34m:\u001b[0m\u001b[0;34m\u001b[0m\u001b[0m\n\u001b[1;32m    894\u001b[0m       result = self._run(None, fetches, feed_dict, options_ptr,\n\u001b[0;32m--> 895\u001b[0;31m                          run_metadata_ptr)\n\u001b[0m\u001b[1;32m    896\u001b[0m       \u001b[0;32mif\u001b[0m \u001b[0mrun_metadata\u001b[0m\u001b[0;34m:\u001b[0m\u001b[0;34m\u001b[0m\u001b[0m\n\u001b[1;32m    897\u001b[0m         \u001b[0mproto_data\u001b[0m \u001b[0;34m=\u001b[0m \u001b[0mtf_session\u001b[0m\u001b[0;34m.\u001b[0m\u001b[0mTF_GetBuffer\u001b[0m\u001b[0;34m(\u001b[0m\u001b[0mrun_metadata_ptr\u001b[0m\u001b[0;34m)\u001b[0m\u001b[0;34m\u001b[0m\u001b[0m\n",
      "\u001b[0;32m~/anaconda3/envs/VenvPandas/lib/python3.6/site-packages/tensorflow/python/client/session.py\u001b[0m in \u001b[0;36m_run\u001b[0;34m(self, handle, fetches, feed_dict, options, run_metadata)\u001b[0m\n\u001b[1;32m   1122\u001b[0m     \u001b[0;32mif\u001b[0m \u001b[0mfinal_fetches\u001b[0m \u001b[0;32mor\u001b[0m \u001b[0mfinal_targets\u001b[0m \u001b[0;32mor\u001b[0m \u001b[0;34m(\u001b[0m\u001b[0mhandle\u001b[0m \u001b[0;32mand\u001b[0m \u001b[0mfeed_dict_tensor\u001b[0m\u001b[0;34m)\u001b[0m\u001b[0;34m:\u001b[0m\u001b[0;34m\u001b[0m\u001b[0m\n\u001b[1;32m   1123\u001b[0m       results = self._do_run(handle, final_targets, final_fetches,\n\u001b[0;32m-> 1124\u001b[0;31m                              feed_dict_tensor, options, run_metadata)\n\u001b[0m\u001b[1;32m   1125\u001b[0m     \u001b[0;32melse\u001b[0m\u001b[0;34m:\u001b[0m\u001b[0;34m\u001b[0m\u001b[0m\n\u001b[1;32m   1126\u001b[0m       \u001b[0mresults\u001b[0m \u001b[0;34m=\u001b[0m \u001b[0;34m[\u001b[0m\u001b[0;34m]\u001b[0m\u001b[0;34m\u001b[0m\u001b[0m\n",
      "\u001b[0;32m~/anaconda3/envs/VenvPandas/lib/python3.6/site-packages/tensorflow/python/client/session.py\u001b[0m in \u001b[0;36m_do_run\u001b[0;34m(self, handle, target_list, fetch_list, feed_dict, options, run_metadata)\u001b[0m\n\u001b[1;32m   1319\u001b[0m     \u001b[0;32mif\u001b[0m \u001b[0mhandle\u001b[0m \u001b[0;32mis\u001b[0m \u001b[0;32mNone\u001b[0m\u001b[0;34m:\u001b[0m\u001b[0;34m\u001b[0m\u001b[0m\n\u001b[1;32m   1320\u001b[0m       return self._do_call(_run_fn, self._session, feeds, fetches, targets,\n\u001b[0;32m-> 1321\u001b[0;31m                            options, run_metadata)\n\u001b[0m\u001b[1;32m   1322\u001b[0m     \u001b[0;32melse\u001b[0m\u001b[0;34m:\u001b[0m\u001b[0;34m\u001b[0m\u001b[0m\n\u001b[1;32m   1323\u001b[0m       \u001b[0;32mreturn\u001b[0m \u001b[0mself\u001b[0m\u001b[0;34m.\u001b[0m\u001b[0m_do_call\u001b[0m\u001b[0;34m(\u001b[0m\u001b[0m_prun_fn\u001b[0m\u001b[0;34m,\u001b[0m \u001b[0mself\u001b[0m\u001b[0;34m.\u001b[0m\u001b[0m_session\u001b[0m\u001b[0;34m,\u001b[0m \u001b[0mhandle\u001b[0m\u001b[0;34m,\u001b[0m \u001b[0mfeeds\u001b[0m\u001b[0;34m,\u001b[0m \u001b[0mfetches\u001b[0m\u001b[0;34m)\u001b[0m\u001b[0;34m\u001b[0m\u001b[0m\n",
      "\u001b[0;32m~/anaconda3/envs/VenvPandas/lib/python3.6/site-packages/tensorflow/python/client/session.py\u001b[0m in \u001b[0;36m_do_call\u001b[0;34m(self, fn, *args)\u001b[0m\n\u001b[1;32m   1338\u001b[0m         \u001b[0;32mexcept\u001b[0m \u001b[0mKeyError\u001b[0m\u001b[0;34m:\u001b[0m\u001b[0;34m\u001b[0m\u001b[0m\n\u001b[1;32m   1339\u001b[0m           \u001b[0;32mpass\u001b[0m\u001b[0;34m\u001b[0m\u001b[0m\n\u001b[0;32m-> 1340\u001b[0;31m       \u001b[0;32mraise\u001b[0m \u001b[0mtype\u001b[0m\u001b[0;34m(\u001b[0m\u001b[0me\u001b[0m\u001b[0;34m)\u001b[0m\u001b[0;34m(\u001b[0m\u001b[0mnode_def\u001b[0m\u001b[0;34m,\u001b[0m \u001b[0mop\u001b[0m\u001b[0;34m,\u001b[0m \u001b[0mmessage\u001b[0m\u001b[0;34m)\u001b[0m\u001b[0;34m\u001b[0m\u001b[0m\n\u001b[0m\u001b[1;32m   1341\u001b[0m \u001b[0;34m\u001b[0m\u001b[0m\n\u001b[1;32m   1342\u001b[0m   \u001b[0;32mdef\u001b[0m \u001b[0m_extend_graph\u001b[0m\u001b[0;34m(\u001b[0m\u001b[0mself\u001b[0m\u001b[0;34m)\u001b[0m\u001b[0;34m:\u001b[0m\u001b[0;34m\u001b[0m\u001b[0m\n",
      "\u001b[0;31mFailedPreconditionError\u001b[0m: Attempting to use uninitialized value w2\n\t [[Node: _retval_w2_0_0 = _Retval[T=DT_INT32, index=0, _device=\"/job:localhost/replica:0/task:0/cpu:0\"](w2)]]"
     ]
    }
   ],
   "source": [
    "g2 = tf.Graph()\n",
    "\n",
    "with g2.as_default():\n",
    "    w1 = tf.Variable(1, name='w1')\n",
    "    init_op = tf.global_variables_initializer()\n",
    "    \n",
    "    ## all the variable declaration must be before tf.global_variables_initializer() in the graph\n",
    "    w2 = tf.Variable(2, name='w2')\n",
    "    \n",
    "with tf.Session(graph=g2) as sess:\n",
    "    sess.run(init_op)\n",
    "    \n",
    "    ##  Throws the error as below  == Attempting to use unitialized values w2\n",
    "    print('w2:', sess.run(w2))"
   ]
  },
  {
   "cell_type": "markdown",
   "metadata": {
    "collapsed": true
   },
   "source": [
    "### Variable Scope\n",
    "\n",
    "Especially useful if we are constructing large neural network graphs.\n",
    "\n",
    "- With Variable scopes, we can organize the variables into separate subparts. __When we create a variable scope, the name of operations and tensors that are created within that scope are prefixed with that scope__, and those scopes can further be nested. For example, if we have two subnetworks, where each subnetwork has several layers, we can define two scopes named _ 'net-A' _ and _ 'net-B' _  respectively, Then each layer will be defined within one of these scopes. "
   ]
  },
  {
   "cell_type": "code",
   "execution_count": 12,
   "metadata": {},
   "outputs": [
    {
     "name": "stdout",
     "output_type": "stream",
     "text": [
      "<tf.Variable 'net_A/layer-1/weights:0' shape=(10, 4) dtype=float32_ref>\n",
      "<tf.Variable 'net_A/layer-2/weights:0' shape=(20, 10) dtype=float32_ref>\n",
      "<tf.Variable 'net_B/layer-1/Variable:0' shape=(10, 4) dtype=float32_ref>\n"
     ]
    }
   ],
   "source": [
    "g = tf.Graph()\n",
    "\n",
    "with g.as_default():\n",
    "    with tf.variable_scope('net_A'):\n",
    "        with tf.variable_scope('layer-1'):\n",
    "            w1 = tf.Variable(tf.random_normal(shape= (10,4)), name='weights')\n",
    "        with tf.variable_scope('layer-2'):\n",
    "            w2 = tf.Variable(tf.random_normal(shape= (20,10)), name='weights')\n",
    "    with tf.variable_scope('net_B'):\n",
    "        with tf.variable_scope('layer-1'):\n",
    "            w3 = tf.Variable(tf.random_normal(shape= (10,4), name='weights'))\n",
    "    print(w1)\n",
    "    print(w2)\n",
    "    print(w3)"
   ]
  },
  {
   "cell_type": "markdown",
   "metadata": {
    "collapsed": true
   },
   "source": [
    "__Note:__ The Variable names are now prefixed with their nested scopes separated by the forward slash(/) symbol."
   ]
  },
  {
   "cell_type": "markdown",
   "metadata": {
    "collapsed": true
   },
   "source": [
    "### Reusing Variables\n",
    "\n",
    "Let's imagine that we're develping a somewhat complex neural network model that has a classifier whose input data comes from more than one source. For example, we'll assume that we have data ($X_A, y_A$) coming from source _ A _ and data ($X_B, y_B$) comes from source _ B _ . \n",
    "\n",
    "In this example, we will desing our graph in such a way that it will use the data from only one source as input tensor to build the network . Then, we can feed the data from the other source to the same classifier.\n",
    "\n",
    "In the following example, we assume the data from source A is fed through placeholder, and __ source B is the output of a generator network which we will build by calling the _ build-generator _  function within the _generator_ scope. __ then we will add a classifier by calling _ build-classifier _  within the _ classifier _ scope. "
   ]
  },
  {
   "cell_type": "code",
   "execution_count": 5,
   "metadata": {},
   "outputs": [],
   "source": [
    "import tensorflow as tf\n",
    "\n",
    "###############################\n",
    "#    Helper functions         #\n",
    "###############################\n",
    "\n",
    "\n",
    "def build_classifier(data, labels, n_classes=2):\n",
    "    data_shape = data.get_shape().as_list()\n",
    "    weigths = tf.get_variable(name='weights', shape=(data_shape[1], n_classes), dtype=tf.float32)\n",
    "    bias = tf.get_variable(name='bias', initializer = tf.zeros(shape=n_classes))\n",
    "    logits = tf.add(tf.matmul(data, weigths), bias, name='logits')\n",
    "    return logits, tf.nn.softmax(logits)\n",
    "\n",
    "\n",
    "def build_generator(data, n_hidden):\n",
    "    data_shape = data.get_shape().as_list()\n",
    "    w1 = tf.Variable(tf.random_normal(shape = (data_shape[1], n_hidden)), name='w1')\n",
    "    b1 = tf.Variable(tf.zeros(shape = (n_hidden)), name='b1')\n",
    "    hidden = tf.add(tf.matmul(data, w1), b1, name='hidden_pre-activation')\n",
    "    hidden = tf.nn.relu(hidden, 'hidden-activation')\n",
    "    \n",
    "    w2 = tf.Variable(tf.random_normal(shape = (n_hidden, data_shape[1])), name='w2')\n",
    "    b2 = tf.Variable(tf.zeros(shape = (data_shape[1])), name='b2')\n",
    "    output = tf.add(tf.matmul(hidden, w2), b2, name='output')\n",
    "    return output, tf.nn.sigmoid(output)\n",
    "\n",
    "\n",
    "################################\n",
    "#       Build the graph        #\n",
    "################################\n",
    "\n",
    "\n",
    "batch_size = 64\n",
    "g = tf.Graph()\n",
    "\n",
    "with g.as_default():\n",
    "    tf_X = tf.placeholder(shape= (batch_size, 100), dtype=tf.float32, name='tf_X')\n",
    "\n",
    "    ## build the geneartor\n",
    "    with tf.variable_scope('generator'):\n",
    "        gen_out1 = build_generator(data=tf_X, n_hidden=50)    \n",
    "        \n",
    "    ## build the classifier\n",
    "    with tf.variable_scope('classifier') as scope:\n",
    "        ## classifier for the original data\n",
    "        cls_out1 = build_classifier(data = tf_X, labels=tf.ones(shape=batch_size))\n",
    "        \n",
    "        \n",
    "        ## reuse the classifier for generated data\n",
    "        scope.reuse_variables()\n",
    "        cls_out2 = build_classifier(data= gen_out1[1], labels=tf.zeros(shape=batch_size))\n",
    "    "
   ]
  },
  {
   "cell_type": "markdown",
   "metadata": {
    "collapsed": true
   },
   "source": [
    "__Note__ we have called the _build-classifier_ function two times. <br>\n",
    "\n",
    "The first call causes the building of the network. Then, we call _scope.reuse_variables()_ and call the function again. As a result, the second call does not create new variables;; instead, it resues the same variables. akterbatuvekym we ciykd reuse the variables by specifying the _reuse=True_ parameter, as follows:"
   ]
  },
  {
   "cell_type": "code",
   "execution_count": 7,
   "metadata": {},
   "outputs": [],
   "source": [
    "g = tf.Graph()\n",
    "\n",
    "with g.as_default():\n",
    "    tf_X = tf.placeholder(shape=(batch_size,100), dtype=tf.float32, name='tf_X')\n",
    "    \n",
    "    ## build the generator\n",
    "    with tf.variable_scope('generator'):\n",
    "        gen_out1 = build_generator(data=tf_X, n_hidden=50)\n",
    "        \n",
    "    ## build the classifier\n",
    "    with tf.variable_scope('classifier'):\n",
    "        ## classifier for the original data:\n",
    "        cls_out1 = build_classifier(tf_X , labels =tf.ones(shape=batch_size))\n",
    "        \n",
    "    with tf.variable_scope('classifier', reuse=True):\n",
    "        ## reuse the classifier for generated data\n",
    "        cls_out2 = build_classifier(gen_out1[1] , labels =tf.zeros(shape=batch_size))\n",
    "        "
   ]
  },
  {
   "cell_type": "markdown",
   "metadata": {
    "collapsed": true
   },
   "source": [
    "## Building a regression model\n",
    "\n",
    "\n",
    "Since we've explored placeholders and variables, let's build an exampe model for regression analysis. With goal to implement a linear regression model : $ y^{`} = wx + b$\n",
    "\n",
    "For training the model, we need to formulate a cost funciton. Here, we use the __Mean Squared Error (MSE)__ cost funciton that we defined as :\n",
    "\n",
    "\n",
    "<center>$ \\frac{1}{n} \\sum_{i=1}^{n}  =   ( y^{(i)} - y^{`(i)} )^2 $</center>"
   ]
  },
  {
   "cell_type": "code",
   "execution_count": 84,
   "metadata": {},
   "outputs": [],
   "source": [
    "g = tf.Graph()\n",
    "\n",
    "with g.as_default():\n",
    "    tf.set_random_seed(123)\n",
    "    \n",
    "    \n",
    "    ## placeholder\n",
    "    tf_X = tf.placeholder(dtype= tf.float32, shape=(None), name='input_X')\n",
    "    tf_y = tf.placeholder(dtype= tf.float32, shape=(None), name='y_X')\n",
    "    \n",
    "    ## Defind the variable(model parameters)\n",
    "    w = tf.Variable(initial_value=tf.random_normal(shape=(1,1), stddev=0.25), name='weight')\n",
    "    b = tf.Variable(initial_value=0.0, name='bias')\n",
    "    \n",
    "    # build the model\n",
    "    y_hat = tf.add(w*tf_X, b, name='y_hat')\n",
    "    \n",
    "    ## compute the cost\n",
    "    cost = tf.reduce_mean(tf.square(tf_y - y_hat), name='cost_def')\n",
    "    \n",
    "    #train the model\n",
    "    optim = tf.train.GradientDescentOptimizer(learning_rate=0.001)\n",
    "    \n",
    "    train_op = optim.minimize(cost, name='train_operation')\n"
   ]
  },
  {
   "cell_type": "markdown",
   "metadata": {},
   "source": [
    "Let's create a random regression data with one feature (one feature so we can plot it)"
   ]
  },
  {
   "cell_type": "code",
   "execution_count": 48,
   "metadata": {
    "collapsed": true
   },
   "outputs": [],
   "source": [
    "import matplotlib.pyplot as plt\n",
    "%matplotlib inline"
   ]
  },
  {
   "cell_type": "code",
   "execution_count": 52,
   "metadata": {},
   "outputs": [
    {
     "data": {
      "image/png": "[encoded data removed]",
      "text/plain": [
       "<matplotlib.figure.Figure at 0x7f550259a240>"
      ]
     },
     "metadata": {},
     "output_type": "display_data"
    }
   ],
   "source": [
    "def make_random_data():\n",
    "    X = np.random.uniform(low=-2, high=4, size=200)\n",
    "    y = []\n",
    "    for t in X:\n",
    "        r = np.random.normal(loc=0.0, scale=(0.5 + t*t/3), size=None)\n",
    "        y.append(r)\n",
    "    return X, 1.726*X - 0.84 + np.array(y)\n",
    "\n",
    "x, y = make_random_data()\n",
    "\n",
    "plt.plot(x, y, 'o')\n",
    "plt.show()"
   ]
  },
  {
   "cell_type": "code",
   "execution_count": 65,
   "metadata": {},
   "outputs": [
    {
     "name": "stdout",
     "output_type": "stream",
     "text": [
      "Training cost    0: 17.88\n",
      "Training cost   50: 13.47\n",
      "Training cost  100: 11.70\n",
      "Training cost  150: 10.95\n",
      "Training cost  200: 10.62\n",
      "Training cost  250: 10.45\n",
      "Training cost  300: 10.35\n",
      "Training cost  350: 10.28\n",
      "Training cost  400: 10.23\n",
      "Training cost  450: 10.19\n"
     ]
    }
   ],
   "source": [
    "## Let's traing the model\n",
    "\n",
    "X_train, y_train  = x[:100], y[:100]\n",
    "X_test, y_test  = x[100:], y[100:]\n",
    "\n",
    "n_epochs = 500\n",
    "training_costs = []\n",
    "\n",
    "with tf.Session(graph=g) as sess:\n",
    "    sess.run(tf.global_variables_initializer())\n",
    "    for epoch in range(n_epochs):\n",
    "        c, _ = sess.run([cost, train_op], feed_dict={tf_X: X_train, tf_y: y_train})\n",
    "        training_costs.append(c)\n",
    "        \n",
    "        if epoch%50 == 0:\n",
    "            print('Training cost %4d: %.2f' %(epoch, c) )\n",
    "    "
   ]
  },
  {
   "cell_type": "code",
   "execution_count": 66,
   "metadata": {},
   "outputs": [
    {
     "data": {
      "text/plain": [
       "[<matplotlib.lines.Line2D at 0x7f54f9f98eb8>]"
      ]
     },
     "execution_count": 66,
     "metadata": {},
     "output_type": "execute_result"
    },
    {
     "data": {
      "image/png": "[encoded data removed]",
      "text/plain": [
       "<matplotlib.figure.Figure at 0x7f5500234b00>"
      ]
     },
     "metadata": {},
     "output_type": "display_data"
    }
   ],
   "source": [
    "plt.plot(training_costs)"
   ]
  },
  {
   "cell_type": "markdown",
   "metadata": {
    "collapsed": true
   },
   "source": [
    "### Executing objects in a tensorFlow graph using their names\n",
    "\n",
    "Executing variables and operators by their names is very useful in many scenarios. For example, we may develop a model in a seprate module; and thus the variables are not available in a different Python scope accroding ot Python scoping rules. However, iff we have a graph, we can execute the nodes off the graph using their names in the graph.\n",
    "\n"
   ]
  },
  {
   "cell_type": "code",
   "execution_count": 72,
   "metadata": {},
   "outputs": [
    {
     "name": "stdout",
     "output_type": "stream",
     "text": [
      "Epoch    0  : 17.8812\n",
      "Epoch   50  : 13.4722\n",
      "Epoch  100  : 11.6953\n",
      "Epoch  150  : 10.9524\n",
      "Epoch  200  : 10.6191\n",
      "Epoch  250  : 10.4508\n",
      "Epoch  300  : 10.3517\n",
      "Epoch  350  : 10.2836\n",
      "Epoch  400  : 10.2313\n",
      "Epoch  450  : 10.1883\n"
     ]
    }
   ],
   "source": [
    "n_epochs = 500\n",
    "training_costs = []\n",
    "\n",
    "with tf.Session(graph=g) as sess:\n",
    "    ## first , run the variables initializser\n",
    "    sess.run(tf.global_variables_initializer())\n",
    "    \n",
    "    ## train the model for n_epochs\n",
    "    for e in range(n_epochs):\n",
    "        ## executing by Name\n",
    "        c , _ = sess.run(['cost_def:0', 'train_operation'], feed_dict={'input_X:0': X_train, 'y_X:0': y_train})\n",
    "        training_costs.append(c)\n",
    "        \n",
    "        if e%50 == 0:\n",
    "            print('Epoch {:4d}  : {:.4f}'.format(e,c))"
   ]
  },
  {
   "cell_type": "markdown",
   "metadata": {
    "collapsed": true
   },
   "source": [
    "Noote that we are evaluationg the cost by its name, which is 'cost_def:0' and executing the train operator by its name'train_operation'. Also in feed_dict , instead of using tf_X: X_traing , we are using 'input_X:0': X_train\n",
    "\n",
    "> If we pay attention to the __ names of the tensors, __ we will notice that __TensorFlow adds a suffix ':0' __to the name of the tensors.\n",
    "However the __names of operators do not have any suffix __ like that . when a tensor with a given name, such as name='my_tensor', is created, TensorFlow appends ':0' ; so the name of this tensor will be 'my_tensor:0'\n",
    "<br>\n",
    "Then, if we try to create another tensor with the same name in the same graph, TensorFlow will append '\\_1:0' and so on t the namel therefore, the furtuer tensors will be names 'my_tensor_1:0' , 'my_tensor_2:0' and so on. this naming assumes that we are not trying to resue the already created tensor."
   ]
  },
  {
   "cell_type": "markdown",
   "metadata": {
    "collapsed": true
   },
   "source": [
    "## Saving and resoring a model in TensorFlow\n",
    "\n",
    "for this purpose , we need to add a new node ot the graph, an instance of _tf.train.Saver_ class, which we call saver."
   ]
  },
  {
   "cell_type": "code",
   "execution_count": 85,
   "metadata": {
    "collapsed": true
   },
   "outputs": [],
   "source": [
    "with g.as_default():\n",
    "    ## adding the saver call to the regression graph\n",
    "    saver = tf.train.Saver()"
   ]
  },
  {
   "cell_type": "markdown",
   "metadata": {
    "collapsed": true
   },
   "source": [
    "Next, we can retrain the model with an additional call to __saver.save()__ to save the model as follows:"
   ]
  },
  {
   "cell_type": "code",
   "execution_count": 86,
   "metadata": {},
   "outputs": [
    {
     "name": "stdout",
     "output_type": "stream",
     "text": [
      "Training cost    0: 17.88\n",
      "Training cost   50: 13.47\n",
      "Training cost  100: 11.70\n",
      "Training cost  150: 10.95\n",
      "Training cost  200: 10.62\n",
      "Training cost  250: 10.45\n",
      "Training cost  300: 10.35\n",
      "Training cost  350: 10.28\n",
      "Training cost  400: 10.23\n",
      "Training cost  450: 10.19\n"
     ]
    }
   ],
   "source": [
    "with tf.Session(graph=g) as sess:\n",
    "    sess.run(tf.global_variables_initializer())\n",
    "    \n",
    "    ## train the model for n_epochs\n",
    "    for epoch in range(n_epochs):\n",
    "        c, _ = sess.run([cost, train_op], feed_dict={tf_X: X_train, tf_y: y_train})\n",
    "        training_costs.append(c)\n",
    "        \n",
    "        if epoch%50 == 0:\n",
    "            print('Training cost %4d: %.2f' %(epoch, c) )\n",
    "    saver.save(sess, './trained-model')"
   ]
  },
  {
   "cell_type": "markdown",
   "metadata": {
    "collapsed": true
   },
   "source": [
    "As a result of this new 'save' statement. three files created with extensions .data, .index and .meta. Tensorflow use [Protocol Buffers](https://developers.google.com/protocol-buffers/) , which is a language-agnostic way, for serializing structured data.\n",
    "\n",
    "<br><br>\n",
    "Restoring a trained model requires two steps:\n",
    "\n",
    "1. Rebuild the graph that has the same nodes and names as the saved model.\n",
    "2. Restore the saved variables in a new _tf.Session_ enviornment\n",
    "\n",
    "Note all the of the information regarding the graph is saved as metadata i the file with the .meta extension. Using the follwoing code, we rebuild the graph by imporitng it from the meta file:"
   ]
  },
  {
   "cell_type": "code",
   "execution_count": 75,
   "metadata": {
    "collapsed": true
   },
   "outputs": [],
   "source": [
    "with tf.Session() as sess:\n",
    "    new_saver = tf.train.import_meta_graph('./trained-model.meta')"
   ]
  },
  {
   "cell_type": "markdown",
   "metadata": {
    "collapsed": true
   },
   "source": [
    "The  __ tf.train.import_meta_graph __ function recreates the graph that is saved in the './trained-model.meta' file.  After receateing the graph, we can use the new_saver object ot resotre the parameters of the model in that session and execute it."
   ]
  },
  {
   "cell_type": "code",
   "execution_count": 77,
   "metadata": {},
   "outputs": [
    {
     "name": "stdout",
     "output_type": "stream",
     "text": [
      "INFO:tensorflow:Restoring parameters from ./trained-model\n"
     ]
    }
   ],
   "source": [
    "g2 = tf.Graph()\n",
    "\n",
    "with tf.Session(graph=g2) as sess:\n",
    "    new_saver = tf.train.import_meta_graph('./trained-model.meta')\n",
    "    new_saver.restore(sess, './trained-model')\n",
    "    \n",
    "    y_pred  = sess.run('y_hat:0', feed_dict={'input_X:0': X_test})"
   ]
  },
  {
   "cell_type": "markdown",
   "metadata": {
    "collapsed": true
   },
   "source": [
    "Note that we evaluateed the $y^`$ tensor by its name that was given previously; 'y_hat:0'.  Also , we need to feed the values of the tf_X placeholder, whih is also done by its name: 'tf_X:0'."
   ]
  },
  {
   "cell_type": "code",
   "execution_count": 83,
   "metadata": {},
   "outputs": [
    {
     "name": "stdout",
     "output_type": "stream",
     "text": [
      "INFO:tensorflow:Restoring parameters from ./trained-model\n"
     ]
    },
    {
     "data": {
      "text/plain": [
       "[<matplotlib.lines.Line2D at 0x7f55002e5278>]"
      ]
     },
     "execution_count": 83,
     "metadata": {},
     "output_type": "execute_result"
    },
    {
     "data": {
      "image/png": "[encoded data removed]",
      "text/plain": [
       "<matplotlib.figure.Figure at 0x7f55099a6d68>"
      ]
     },
     "metadata": {},
     "output_type": "display_data"
    }
   ],
   "source": [
    "## Let's visualize the predicitions\n",
    "\n",
    "x_arr = np.arange(-2,4,0.1)\n",
    "\n",
    "g2 = tf.Graph()\n",
    "\n",
    "with tf.Session(graph=g2) as sess:\n",
    "    new_saver = tf.train.import_meta_graph('./trained-model.meta')\n",
    "    new_saver.restore(sess, './trained-model')\n",
    "    \n",
    "    y_pred  = sess.run('y_hat:0', feed_dict={'input_X:0': x_arr})\n",
    "    \n",
    "plt.figure()\n",
    "plt.plot(X_train, y_train, 'bo')\n",
    "plt.plot(X_test, y_test, 'bo', alpha=0.3)\n",
    "plt.plot(x_arr, y_pred.T[:,0], '-r', lw=3)\n",
    "\n",
    "    \n",
    "    \n"
   ]
  },
  {
   "cell_type": "markdown",
   "metadata": {
    "collapsed": true
   },
   "source": [
    "__Saving and restoring a model__ is very often used during the traiing stage of large models as well. Since the training stage of large models can take several hours to days, we can break the training phase inot smaller tasks. For example, if the intended number of epochs is 100 we can break it inot 25 task, where each task would run four epochs one after the other. For this purpose, we can save the trained model and restore it in the next task."
   ]
  },
  {
   "cell_type": "markdown",
   "metadata": {
    "collapsed": true
   },
   "source": [
    "##### Transforming Tensors as multidimensional data arrays\n",
    "\n",
    "- We explore a selection of operators that can be used to transofrm tensors. Note that some of these operators work very similar to NumPy array transformations. However, when we are dealing with tensors with ranks higher than 2, we need to be careful in using such transformations, for example, the transpose off a tensor."
   ]
  },
  {
   "cell_type": "markdown",
   "metadata": {
    "collapsed": true
   },
   "source": [
    "In NumPy, we can use the attribute arr.shape to get the shape of a NumPy array. In TensorFlow, we use the tf.get_shape function instead"
   ]
  },
  {
   "cell_type": "code",
   "execution_count": 103,
   "metadata": {},
   "outputs": [
    {
     "name": "stdout",
     "output_type": "stream",
     "text": [
      "Tensor(\"T1:0\", shape=(3, 4), dtype=float64)\n",
      "Shape of T1 is  (3, 4)\n",
      "<tf.Variable 'Variable:0' shape=(3, 4) dtype=float32_ref>\n",
      "<tf.Variable 'Variable_1:0' shape=(3,) dtype=float32_ref>\n"
     ]
    }
   ],
   "source": [
    "g = tf.Graph()\n",
    "with g.as_default():\n",
    "    arr = np.array([[1., 2., 3., 3.5],\n",
    "                   [4., 5., 6., 6.5],\n",
    "                   [7., 8., 9., 9.5]])\n",
    "    T1 = tf.constant(arr, name='T1')\n",
    "    print(T1)\n",
    "    s = T1.get_shape()\n",
    "    print('Shape of T1 is ', s)\n",
    "    \n",
    "    T2 = tf.Variable(tf.random_normal(shape=s))\n",
    "    print(T2)\n",
    "    \n",
    "    T3 = tf.Variable(tf.random_normal(shape=(s.as_list()[0], )))\n",
    "    print(T3)"
   ]
  },
  {
   "cell_type": "markdown",
   "metadata": {
    "collapsed": true
   },
   "source": [
    "Notice that we used s to create T2, but we cannot slice or index s for createing T3. Therefore, we convereted s into a regular Python list by s.as_list() and then used the usual indexing conventions."
   ]
  },
  {
   "cell_type": "markdown",
   "metadata": {
    "collapsed": true
   },
   "source": [
    "__Reshape__ In Numpy, we can use np.reshape or arr.reshpae for this purpose. In TensorFflow, we use the function tf.reshape to reshape a tensor."
   ]
  },
  {
   "cell_type": "code",
   "execution_count": 104,
   "metadata": {},
   "outputs": [
    {
     "name": "stdout",
     "output_type": "stream",
     "text": [
      "Tensor(\"Reshape:0\", shape=(1, 1, 12), dtype=float64)\n",
      "Tensor(\"Reshape_1:0\", shape=(1, 3, 4), dtype=float64)\n"
     ]
    }
   ],
   "source": [
    "with g.as_default():\n",
    "    T4 = tf.reshape(T1, shape= [1, 1, -1])\n",
    "    print(T4)\n",
    "    \n",
    "    T5 = tf.reshape(T1, shape=[1,3, -1])\n",
    "    print(T5)"
   ]
  },
  {
   "cell_type": "code",
   "execution_count": 105,
   "metadata": {},
   "outputs": [
    {
     "name": "stdout",
     "output_type": "stream",
     "text": [
      "[[[ 1.   2.   3.   3.5  4.   5.   6.   6.5  7.   8.   9.   9.5]]]\n",
      "\n",
      "[[[ 1.   2.   3.   3.5]\n",
      "  [ 4.   5.   6.   6.5]\n",
      "  [ 7.   8.   9.   9.5]]]\n"
     ]
    }
   ],
   "source": [
    "with tf.Session(graph=g) as sess:\n",
    "    print(sess.run(T4))\n",
    "    print()\n",
    "    print(sess.run(T5))"
   ]
  },
  {
   "cell_type": "markdown",
   "metadata": {
    "collapsed": true
   },
   "source": [
    "__Transpose:__ In Numpy : arr.T, arr.transpose() and np.transpose(arr). In TensorFlow , we use the tf.transpose funciton instead, and in addition to a regular transpose operation, we can change the order of dimensions in any way we want by specifying the oper in perm=[...],"
   ]
  },
  {
   "cell_type": "code",
   "execution_count": 106,
   "metadata": {},
   "outputs": [
    {
     "name": "stdout",
     "output_type": "stream",
     "text": [
      "Tensor(\"T6:0\", shape=(4, 3, 1), dtype=float64)\n",
      "Tensor(\"T7:0\", shape=(1, 4, 3), dtype=float64)\n"
     ]
    }
   ],
   "source": [
    "with g.as_default():\n",
    "    T6 = tf.transpose(T5, perm=[2,1,0], name='T6')\n",
    "    print(T6)\n",
    "    \n",
    "    T7 = tf.transpose(T5, perm=[0,2,1], name='T7')\n",
    "    print(T7)"
   ]
  },
  {
   "cell_type": "markdown",
   "metadata": {
    "collapsed": true
   },
   "source": [
    "__Split __ Next, we can also split a tensor into a list of subtensors using the tf.split funciton, "
   ]
  },
  {
   "cell_type": "code",
   "execution_count": 107,
   "metadata": {},
   "outputs": [
    {
     "name": "stdout",
     "output_type": "stream",
     "text": [
      "[<tf.Tensor 'T8:0' shape=(1, 3, 2) dtype=float64>, <tf.Tensor 'T8:1' shape=(1, 3, 2) dtype=float64>]\n"
     ]
    }
   ],
   "source": [
    "with g.as_default():\n",
    "    t5_splt = tf.split(T5, num_or_size_splits=2, axis=2, name='T8')\n",
    "    print(t5_splt)"
   ]
  },
  {
   "cell_type": "markdown",
   "metadata": {
    "collapsed": true
   },
   "source": [
    "Here, it's important to note that the output is not a tensorr object anymore ; rather it's a lsit of tensor. The name of these subtensors are 'T8:0' and 'T8:1'"
   ]
  },
  {
   "cell_type": "markdown",
   "metadata": {
    "collapsed": true
   },
   "source": [
    "__ Concatenation__ Another useful transfromation is the concatenation of multiple tensors. If we have a lsi of tesnors with the same shape and _dtype_ we can combine them into one big tensor using the _tf.concat_ function."
   ]
  },
  {
   "cell_type": "code",
   "execution_count": 110,
   "metadata": {},
   "outputs": [
    {
     "name": "stdout",
     "output_type": "stream",
     "text": [
      "Tensor(\"t1:0\", shape=(10, 1), dtype=float32)\n",
      "Tensor(\"t2:0\", shape=(10, 1), dtype=float32)\n",
      "Tensor(\"t3:0\", shape=(20, 1), dtype=float32)\n",
      "Tensor(\"t4:0\", shape=(10, 2), dtype=float32)\n"
     ]
    }
   ],
   "source": [
    "g = tf.Graph()\n",
    "\n",
    "with g.as_default():\n",
    "    t1 = tf.ones(shape=[10,1], dtype=tf.float32, name='t1')\n",
    "    t2 = tf.zeros(shape=[10,1], dtype=tf.float32, name='t2')    \n",
    "    \n",
    "    print(t1)\n",
    "    print(t2)\n",
    "    \n",
    "with g.as_default():\n",
    "    t3 = tf.concat([t1,t2], axis=0, name='t3')\n",
    "    print(t3)\n",
    "    t4 = tf.concat([t1,t2], axis=1, name='t4')    \n",
    "    print(t4)"
   ]
  },
  {
   "cell_type": "code",
   "execution_count": 111,
   "metadata": {
    "scrolled": true
   },
   "outputs": [
    {
     "name": "stdout",
     "output_type": "stream",
     "text": [
      "[[ 1.]\n",
      " [ 1.]\n",
      " [ 1.]\n",
      " [ 1.]\n",
      " [ 1.]\n",
      " [ 1.]\n",
      " [ 1.]\n",
      " [ 1.]\n",
      " [ 1.]\n",
      " [ 1.]\n",
      " [ 0.]\n",
      " [ 0.]\n",
      " [ 0.]\n",
      " [ 0.]\n",
      " [ 0.]\n",
      " [ 0.]\n",
      " [ 0.]\n",
      " [ 0.]\n",
      " [ 0.]\n",
      " [ 0.]]\n",
      "\n",
      "[[ 1.  0.]\n",
      " [ 1.  0.]\n",
      " [ 1.  0.]\n",
      " [ 1.  0.]\n",
      " [ 1.  0.]\n",
      " [ 1.  0.]\n",
      " [ 1.  0.]\n",
      " [ 1.  0.]\n",
      " [ 1.  0.]\n",
      " [ 1.  0.]]\n"
     ]
    }
   ],
   "source": [
    "with tf.Session(graph=g) as sess:\n",
    "    print(t3.eval())\n",
    "    print()\n",
    "    print(t4.eval())\n",
    "    "
   ]
  },
  {
   "cell_type": "markdown",
   "metadata": {
    "collapsed": true
   },
   "source": [
    "## Control flow mechanics in building graphs\n",
    "\n",
    "- TensorFlow provides a mechanism for making decisons when building a graph. However, there are some subtle differences when we use Pythong's contorl flow statements compared to TensorFlow's flow funcitons. when construtting computation graphs"
   ]
  },
  {
   "cell_type": "code",
   "execution_count": 115,
   "metadata": {},
   "outputs": [
    {
     "name": "stdout",
     "output_type": "stream",
     "text": [
      "Object :  Tensor(\"result_add:0\", dtype=float32)\n",
      " X < y True - Result:  3.0\n",
      " X < y False - Result:  3.0\n"
     ]
    }
   ],
   "source": [
    "## Using naive Python's if statement to build a graph that corresponds to the preceding equation:\n",
    "\n",
    "x, y = 1.0, 2.0\n",
    "\n",
    "g = tf.Graph()\n",
    "\n",
    "with g.as_default():\n",
    "    tf_x = tf.placeholder(dtype=tf.float32, shape=None, name='tf_x')\n",
    "    tf_y = tf.placeholder(dtype=tf.float32, shape=None, name='tf_y')    \n",
    "    \n",
    "    if x < y:\n",
    "        res = tf.add(tf_x, tf_y , name='result_add')\n",
    "    else:\n",
    "        res = tf.subtract(tf_x, tf_y , name='result_sub')\n",
    "    print('Object : ', res)\n",
    "    \n",
    "with tf.Session(graph=g) as sess:\n",
    "    print(' X < y % s - Result: ' %(x < y),\n",
    "         res.eval(feed_dict= {'tf_x:0': x, 'tf_y:0':y}))\n",
    "    x, y = 2.0 , 1.0\n",
    "    print(' X < y % s - Result: ' %(x < y),\n",
    "         res.eval(feed_dict= {'tf_x:0': x, 'tf_y:0':y}))"
   ]
  },
  {
   "cell_type": "markdown",
   "metadata": {
    "collapsed": true
   },
   "source": [
    "We can see, the _res_ object is a tensor named 'result_add:0'. It is very important to understand that in the previos mechanism , the computatio grpah has boly one brnacnh asoscaited iwth the additon operator, and the suntact operator has not been called.\n",
    "\n",
    "The TensorFlow computation __graph is static. which menat that once the computation graph is built, it remains unchanged during the executiong process.__ so, even when we change the values of x and y and feed the new values to the graph, these new tensors will go trhought he same path in the graph. Therefore, in bothe cases, we see the same ouptut 3.0 for x=2, y=1, and for x =1, y=2"
   ]
  },
  {
   "cell_type": "code",
   "execution_count": 117,
   "metadata": {},
   "outputs": [
    {
     "name": "stdout",
     "output_type": "stream",
     "text": [
      "Object :  Tensor(\"cond/Merge:0\", dtype=float32)\n",
      " X < y True - Result:  3.0\n",
      " X < y False - Result:  1.0\n"
     ]
    }
   ],
   "source": [
    "## Let's use the control flow mechnaics in TensorFlow.\n",
    "\n",
    "\n",
    "x, y = 1.0, 2.0\n",
    "\n",
    "g = tf.Graph()\n",
    "\n",
    "with g.as_default():\n",
    "    tf_x = tf.placeholder(dtype=tf.float32, shape=None, name='tf_x')\n",
    "    tf_y = tf.placeholder(dtype=tf.float32, shape=None, name='tf_y')    \n",
    "    \n",
    "    res = tf.cond(tf_x < tf_y, \n",
    "        lambda: tf.add(tf_x, tf_y , name='result_add'),\n",
    "        lambda: tf.subtract(tf_x, tf_y , name='result_sub'))\n",
    "    print('Object : ', res)\n",
    "    \n",
    "with tf.Session(graph=g) as sess:\n",
    "    print(' X < y % s - Result: ' %(x < y),\n",
    "         res.eval(feed_dict= {'tf_x:0': x, 'tf_y:0':y}))\n",
    "    x, y = 2.0 , 1.0\n",
    "    print(' X < y % s - Result: ' %(x < y),\n",
    "         res.eval(feed_dict= {'tf_x:0': x, 'tf_y:0':y}))"
   ]
  },
  {
   "cell_type": "markdown",
   "metadata": {
    "collapsed": true
   },
   "source": [
    "Here, we can see that the res object is name \"cond/Merge:0\" . In this case, the computation graph has two branches with a mechanism to decide which branch to follow at execution time. Therefore, when x-2m y=1, it follows thd addition branch and the ouptut will be 3.0 while for x=1, y-2 , the subtracitn branch is pursued and the result will be 1.0\n",
    "\n",
    "In addition, to _tf.cond_ TensorFlwo offfers wevral other conrol flow operators, such as _ tf.case _ and tf.while_loop . For instnace, _ tf.case _ is the TensorFlow contorl flow equivlaent to a python if..else statement "
   ]
  },
  {
   "cell_type": "code",
   "execution_count": null,
   "metadata": {
    "collapsed": true
   },
   "outputs": [],
   "source": [
    "if x < y :\n",
    "    result = 1\n",
    "else:\n",
    "    result = 0\n",
    "# Teh tf.case equivalne is;\n",
    "\n",
    "f1 = lambda: tf.constant(1)\n",
    "f2 = lambda: tf.constant(0)\n",
    "\n",
    "result = tf.cond([(tf.less(x,y), f1)], default=f2)"
   ]
  },
  {
   "cell_type": "code",
   "execution_count": null,
   "metadata": {
    "collapsed": true
   },
   "outputs": [],
   "source": [
    "# Similary we can add a while loop to a TensorFlow graph that increments the i variable by 1 until a threshold\n",
    "# vlaue is reached\n",
    "\n",
    "i = tf.constant(0)\n",
    "threshold = 100\n",
    "c = lambda i: tf.less(i, 100)\n",
    "b = lambda i: tf.add(i, 1) \n",
    "r = tf.while_loop(cond=c, body=b, loop_vars=[i])"
   ]
  },
  {
   "cell_type": "markdown",
   "metadata": {},
   "source": [
    "## Visualizing the graph with TensorBoard\n",
    "\n",
    "- Great feature of TensorFlow is TensorBoard, which is a module for visualizing he graph as weel as visualizing the learning of a model. Visualizng the graph allows s to see the connection between nodes, eplore their dependencies and debug the model if needed.\n"
   ]
  },
  {
   "cell_type": "code",
   "execution_count": 118,
   "metadata": {
    "collapsed": true
   },
   "outputs": [],
   "source": [
    "## Let's visualize the graph  we build before.\n",
    "\n",
    "batch_size = 64\n",
    "g = tf.Graph()\n",
    "\n",
    "with g.as_default():\n",
    "    tf_X = tf.placeholder(shape= (batch_size, 100), dtype=tf.float32, name='tf_X')\n",
    "\n",
    "    ## build the geneartor\n",
    "    with tf.variable_scope('generator'):\n",
    "        gen_out1 = build_generator(data=tf_X, n_hidden=50)    \n",
    "        \n",
    "    ## build the classifier\n",
    "    with tf.variable_scope('classifier') as scope:\n",
    "        ## classifier for the original data\n",
    "        cls_out1 = build_classifier(data = tf_X, labels=tf.ones(shape=batch_size))\n",
    "        \n",
    "        \n",
    "        ## reuse the classifier for generated data\n",
    "        scope.reuse_variables()\n",
    "        cls_out2 = build_classifier(data= gen_out1[1], labels=tf.zeros(shape=batch_size))"
   ]
  },
  {
   "cell_type": "markdown",
   "metadata": {},
   "source": [
    "Note that no changes were needed so far for building the graph. So after building the graph, its visualization is tragiht forward. the following lines of code export the graph for visualization pruposesL\n"
   ]
  },
  {
   "cell_type": "code",
   "execution_count": 120,
   "metadata": {},
   "outputs": [],
   "source": [
    "with tf.Session(graph=g) as sess:\n",
    "    sess.run(tf.global_variables_initializer())\n",
    "    \n",
    "    filt_writer = tf.summary.FileWriter(logdir='./logs/', graph=g)"
   ]
  },
  {
   "cell_type": "markdown",
   "metadata": {},
   "source": [
    "This will create a new directory: logs/. Now we just need to run the following command in a Linux terminal"
   ]
  },
  {
   "cell_type": "code",
   "execution_count": 122,
   "metadata": {},
   "outputs": [
    {
     "name": "stdout",
     "output_type": "stream",
     "text": [
      "TensorBoard 0.1.5 at http://amit-Lenovo-G570:6006 (Press CTRL+C to quit) ^C\n",
      "\n"
     ]
    }
   ],
   "source": [
    "! tensorboard --logdir logs/"
   ]
  },
  {
   "cell_type": "markdown",
   "metadata": {},
   "source": [
    "The above command will print a message, which is a URL address. We can launch Tensorboard by copying the link generated from the execution of above command."
   ]
  },
  {
   "cell_type": "code",
   "execution_count": null,
   "metadata": {
    "collapsed": true
   },
   "outputs": [],
   "source": []
  },
  {
   "cell_type": "code",
   "execution_count": null,
   "metadata": {
    "collapsed": true
   },
   "outputs": [],
   "source": []
  },
  {
   "cell_type": "code",
   "execution_count": null,
   "metadata": {
    "collapsed": true
   },
   "outputs": [],
   "source": []
  },
  {
   "cell_type": "code",
   "execution_count": null,
   "metadata": {
    "collapsed": true
   },
   "outputs": [],
   "source": []
  },
  {
   "cell_type": "code",
   "execution_count": null,
   "metadata": {
    "collapsed": true
   },
   "outputs": [],
   "source": []
  }
 ],
 "metadata": {
  "kernelspec": {
   "display_name": "Python 3",
   "language": "python",
   "name": "python3"
  },
  "language_info": {
   "codemirror_mode": {
    "name": "ipython",
    "version": 3
   },
   "file_extension": ".py",
   "mimetype": "text/x-python",
   "name": "python",
   "nbconvert_exporter": "python",
   "pygments_lexer": "ipython3",
   "version": "3.6.2"
  }
 },
 "nbformat": 4,
 "nbformat_minor": 2
}
