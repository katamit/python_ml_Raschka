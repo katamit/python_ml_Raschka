{
 "cells": [
  {
   "cell_type": "code",
   "execution_count": 1,
   "metadata": {
    "collapsed": true
   },
   "outputs": [],
   "source": [
    "import pandas as pd\n",
    "import numpy as np\n",
    "from sklearn.preprocessing import LabelEncoder"
   ]
  },
  {
   "cell_type": "code",
   "execution_count": 72,
   "metadata": {
    "collapsed": true
   },
   "outputs": [],
   "source": [
    "df = pd.read_csv('https://archive.ics.uci.edu/ml/machine-learning-databases/breast-cancer-wisconsin/wdbc.data',\n",
    "                 header=None)"
   ]
  },
  {
   "cell_type": "code",
   "execution_count": 73,
   "metadata": {
    "collapsed": true
   },
   "outputs": [],
   "source": [
    "le = LabelEncoder()"
   ]
  },
  {
   "cell_type": "code",
   "execution_count": 74,
   "metadata": {},
   "outputs": [
    {
     "name": "stdout",
     "output_type": "stream",
     "text": [
      "['B' 'M']\n"
     ]
    }
   ],
   "source": [
    "X = df.loc[:,2:].values\n",
    "y = df.loc[:,1].values\n",
    "y = le.fit_transform(y)\n",
    "print(le.classes_)"
   ]
  },
  {
   "cell_type": "code",
   "execution_count": 5,
   "metadata": {},
   "outputs": [
    {
     "data": {
      "text/plain": [
       "array([0, 1])"
      ]
     },
     "execution_count": 5,
     "metadata": {},
     "output_type": "execute_result"
    }
   ],
   "source": [
    "le.transform(['B', 'M'])"
   ]
  },
  {
   "cell_type": "code",
   "execution_count": 6,
   "metadata": {},
   "outputs": [
    {
     "data": {
      "text/plain": [
       "((455, 30), (114, 30), (455,), (114,))"
      ]
     },
     "execution_count": 6,
     "metadata": {},
     "output_type": "execute_result"
    }
   ],
   "source": [
    "from sklearn.model_selection import train_test_split\n",
    "X_train, X_test,y_train, y_test = train_test_split(X, y, test_size=0.2, stratify=y, random_state=1) \n",
    "X_train.shape, X_test.shape,y_train.shape, y_test.shape"
   ]
  },
  {
   "cell_type": "markdown",
   "metadata": {},
   "source": [
    "### Fine tuning machine learning models via - Grid Search\n",
    "\n",
    "- IN Machine learning we have __two types of parameters__, those that are __learned form the training data__, for example, the weights in logistic regression, __and the parameters of a learning algorithm__ that are optimised separetely, The latter are the tuning paremeters, also called __hyperparameters__, of a model. \n",
    "\n"
   ]
  },
  {
   "cell_type": "markdown",
   "metadata": {},
   "source": [
    "### Tuning hyperparameters via grid search\n",
    "\n",
    "- The approach of grid search is quite simple; it's a __brute-force exhaustive search paradigm__ where we specify a list- of values for different hyperparameters, and the __computer evaluates the models performance for each combination__ of those to obtain the optimal combination of values from this set: \n"
   ]
  },
  {
   "cell_type": "code",
   "execution_count": 7,
   "metadata": {
    "collapsed": true
   },
   "outputs": [],
   "source": [
    "from sklearn.model_selection import GridSearchCV\n",
    "from sklearn.svm import SVC"
   ]
  },
  {
   "cell_type": "code",
   "execution_count": 8,
   "metadata": {
    "collapsed": true
   },
   "outputs": [],
   "source": [
    "from sklearn.pipeline import make_pipeline\n",
    "from sklearn.preprocessing import StandardScaler"
   ]
  },
  {
   "cell_type": "code",
   "execution_count": 9,
   "metadata": {
    "collapsed": true
   },
   "outputs": [],
   "source": [
    "pipe_svc = make_pipeline(StandardScaler(), SVC(random_state=1))"
   ]
  },
  {
   "cell_type": "code",
   "execution_count": 10,
   "metadata": {},
   "outputs": [
    {
     "name": "stdout",
     "output_type": "stream",
     "text": [
      "Best accuracy :  0.984615384615\n",
      "{'svc__C': 100.0, 'svc__gamma': 0.001, 'svc__kernel': 'rbf'}\n"
     ]
    }
   ],
   "source": [
    "param_range = [0.0001, 0.001, 0.01, 0.1, 1.0, 10.0 , 100.0 ,1000.0]\n",
    "param_grid = [{'svc__C':param_range, 'svc__kernel':['linear']},\n",
    "               {'svc__C':param_range, 'svc__kernel':['rbf'], 'svc__gamma':param_range}]\n",
    "\n",
    "gs = GridSearchCV(estimator=pipe_svc,\n",
    "                 param_grid=param_grid,\n",
    "                 scoring='accuracy',\n",
    "                 cv=10)\n",
    "\n",
    "gs = gs.fit(X_train,y_train)\n",
    "print('Best accuracy : ', gs.best_score_)\n",
    "print(gs.best_params_)"
   ]
  },
  {
   "cell_type": "code",
   "execution_count": 11,
   "metadata": {},
   "outputs": [
    {
     "name": "stdout",
     "output_type": "stream",
     "text": [
      "Best average Precision :  0.99667969752\n",
      "{'svc__C': 100.0, 'svc__gamma': 0.01, 'svc__kernel': 'rbf'}\n"
     ]
    }
   ],
   "source": [
    "param_range = [0.0001, 0.001, 0.01, 0.1, 1.0, 10.0 , 100.0 ,1000.0]\n",
    "param_grid = [{'svc__C':param_range, 'svc__kernel':['linear']},\n",
    "               {'svc__C':param_range, 'svc__kernel':['rbf'], 'svc__gamma':param_range}]\n",
    "\n",
    "gs = GridSearchCV(estimator=pipe_svc,\n",
    "                 param_grid=param_grid,\n",
    "                 scoring='average_precision',\n",
    "                 cv=10)\n",
    "\n",
    "gs = gs.fit(X_train,y_train)\n",
    "print('Best average Precision : ', gs.best_score_)\n",
    "print(gs.best_params_)"
   ]
  },
  {
   "cell_type": "markdown",
   "metadata": {},
   "source": [
    "- After we used the training data to perform the grid search, we obtained the score of the best-performing model via the _best_score_ attributeand looked at its parameters that can be accessed via the _best_params_ atribute.\n",
    "\n",
    "- Finally, we will use the independent test datase to estimate the performance of the best-selected model, which is availabe via the _best_estimate_ attribute of the __GridSearchCV__."
   ]
  },
  {
   "cell_type": "code",
   "execution_count": 12,
   "metadata": {},
   "outputs": [
    {
     "ename": "SyntaxError",
     "evalue": "invalid syntax (<ipython-input-12-99a0e53f5960>, line 4)",
     "output_type": "error",
     "traceback": [
      "\u001b[0;36m  File \u001b[0;32m\"<ipython-input-12-99a0e53f5960>\"\u001b[0;36m, line \u001b[0;32m4\u001b[0m\n\u001b[0;31m    print('Test accuracy %.3f' %clf.score(X_test, y_test))\u001b[0m\n\u001b[0m        ^\u001b[0m\n\u001b[0;31mSyntaxError\u001b[0m\u001b[0;31m:\u001b[0m invalid syntax\n"
     ]
    }
   ],
   "source": [
    "clf = gs.best_estimator_\n",
    "\n",
    "clf.fit(X_train, y_trainT\n",
    "print('Test accuracy %.3f' %clf.score(X_test, y_test))"
   ]
  },
  {
   "cell_type": "code",
   "execution_count": null,
   "metadata": {},
   "outputs": [],
   "source": [
    "clf.fit(X_train, y_train)\n",
    "print('Test accuracy %.3f' %clf.score(X_test, y_test))"
   ]
  },
  {
   "cell_type": "markdown",
   "metadata": {},
   "source": [
    "- Although Grid Search is a powerful approach for finding the optimal set of parameters. The __evaluation of all possible parameter combinations is also computationally very expendisve.__\n",
    "- An alternative approach to sampling different parmeterr combinatios usign sklearn is __[randomized search](https://scikit-learn.org/stable/modules/generated/sklearn.model_selection.RandomizedSearchCV.html) random parameter combinatios__ from sampling distributions with a __specfied budget.__"
   ]
  },
  {
   "cell_type": "markdown",
   "metadata": {},
   "source": [
    "### Algorithm selection with nested cross-validation\n",
    "\n",
    "- If we want to select among different machine learning algorithms, another recommended approach is nested cross-validation.\n",
    " In a study on the bias of error estimate by Varma and Simon concluded that the true error of the estimate is almost unbiased relative to the test set when nested cross-validation is used."
   ]
  },
  {
   "cell_type": "markdown",
   "metadata": {},
   "source": [
    "In nested cross-validation , we have an outer k-fold cross-validation loop to split the data into training and test folds, and an inner loop is used to select the model using k-fold cross-validation on the training fold. After model selction , the test fold is then used to evaluate the model performance. The follwoing figure explains the concept of nested cross-valdation with only five outer and two inner folds, which can be useful for large datsets where computational peformance is important; this particular type of nested cross-validation is also known as __5x2 cross-validation.__"
   ]
  },
  {
   "cell_type": "markdown",
   "metadata": {},
   "source": [
    "![nested-cv.png](nested-cv.png)"
   ]
  },
  {
   "cell_type": "code",
   "execution_count": null,
   "metadata": {
    "collapsed": true
   },
   "outputs": [],
   "source": [
    "from sklearn.model_selection import cross_val_score\n",
    "from sklearn.tree import DecisionTreeClassifier"
   ]
  },
  {
   "cell_type": "code",
   "execution_count": null,
   "metadata": {},
   "outputs": [],
   "source": [
    "#  Nested Grid Search Support vector Machine\n",
    "gs = GridSearchCV(estimator=pipe_svc,\n",
    "                  param_grid=param_grid,\n",
    "                  scoring='accuracy',\n",
    "                  cv=2)\n",
    "scores = cross_val_score(gs, X_train, y_train, scoring='accuracy',cv=5)\n",
    "\n",
    "print('CV accuracy %.3f +/- %.3f' %(np.mean(scores), np.std(scores)))"
   ]
  },
  {
   "cell_type": "code",
   "execution_count": null,
   "metadata": {},
   "outputs": [],
   "source": [
    "#  Nested Grid Search Decision Tree\n",
    "\n",
    "gs = GridSearchCV(estimator=DecisionTreeClassifier(),\n",
    "                 param_grid= [{'max_depth':[11,2,3,4,5,6,7,None]}],\n",
    "                  scoring='accuracy',\n",
    "                  cv=2)\n",
    "scores = cross_val_score(gs, X_train, y_train, scoring='accuracy',cv=5)\n",
    "print('CV accuracy %.3f +/- %.3f' %(np.mean(scores), np.std(scores)))"
   ]
  },
  {
   "cell_type": "markdown",
   "metadata": {},
   "source": [
    "As we can see, the nested cross-validation of the SVM model (97.4) is notably better than the performance of the dcision dtree(93.8) and thus, we'd expect that it might be thte better choice to classify new data that comes form the same population as this paritcular datset.\n"
   ]
  },
  {
   "cell_type": "markdown",
   "metadata": {},
   "source": []
  },
  {
   "cell_type": "markdown",
   "metadata": {
    "collapsed": true
   },
   "source": [
    "### Different Evaluation metrics\n",
    "\n",
    "- There are several performance metrices which can be used to measure a model's relevance, such as -\n",
    "__ precision, recall, accuracy and the F1-score.__\n",
    "\n",
    "### Reading a Confusion Matrix\n",
    "\n",
    "__Confusion matrix :__  a matrix that lays out the perfromance of a learning algorithm. The confusion matrix is simply a square matreix that reports the counts of the __True Positive(TP), True Negative (TN), False Positive(FP) and False Negative (FN)__.\n",
    "\n",
    "![confusion_matrix.png](confusion_matrix.png)"
   ]
  },
  {
   "cell_type": "code",
   "execution_count": 15,
   "metadata": {},
   "outputs": [],
   "source": [
    "from sklearn.metrics import confusion_matrix\n",
    "pipe_svc.fit(X_train, y_train)\n",
    "y_pred = pipe_svc.predict(X_test)\n",
    "\n"
   ]
  },
  {
   "cell_type": "code",
   "execution_count": 18,
   "metadata": {},
   "outputs": [
    {
     "name": "stdout",
     "output_type": "stream",
     "text": [
      "[[71  1]\n",
      " [ 2 40]]\n"
     ]
    }
   ],
   "source": [
    "confmat = confusion_matrix(y_pred=y_pred, y_true=y_test)\n",
    "print(confmat)"
   ]
  },
  {
   "cell_type": "markdown",
   "metadata": {},
   "source": [
    "- We can map this information onto the confusion matrix illustration using __matshow__ function"
   ]
  },
  {
   "cell_type": "code",
   "execution_count": 26,
   "metadata": {},
   "outputs": [
    {
     "data": {
      "image/png": "[encoded data removed]",
      "text/plain": [
       "<matplotlib.figure.Figure at 0x7f0bca6d6320>"
      ]
     },
     "metadata": {},
     "output_type": "display_data"
    }
   ],
   "source": [
    "import matplotlib.pyplot as plt\n",
    "\n",
    "fix, ax = plt.subplots(figsize=(2.5,2.5))\n",
    "ax.matshow(confmat, cmap=plt.cm.Blues, alpha=0.3)\n",
    "for i in range(confmat.shape[0]):\n",
    "    for j in range(confmat.shape[1]):\n",
    "        ax.text(x=j, y=i, s=confmat[i,j], va='center', ha='center')\n",
    "plt.xlabel('predicted label')\n",
    "plt.ylabel('true label')\n",
    "plt.show()"
   ]
  },
  {
   "cell_type": "markdown",
   "metadata": {},
   "source": [
    "### Optimizing the precion and recall of a classificaiton model"
   ]
  },
  {
   "cell_type": "markdown",
   "metadata": {},
   "source": [
    "Both the prediction __error (ERR) __ and __accuracy (ACC)__ provides general information about how many samples are misclassified.\n",
    "<center>ERR = $\\frac{FP+FN}{FP+FN+TP+TN}$<center/>\n",
    "<center>ACC = $\\frac{TP+TN}{FP+FN+TP+TN}$ = 1- ERR<center/>"
   ]
  },
  {
   "cell_type": "markdown",
   "metadata": {},
   "source": [
    "- The __True Positive rate (TPR)__ and __Flase Positve rate(FPR)__ are performance metries that are especially useful for imbalanced classs problems:\n",
    "<center>FPR = $\\frac{FP}{FP+TN}$<center/>\n",
    "<center>TPR = $\\frac{TP}{FN+TP}$<center/>"
   ]
  },
  {
   "cell_type": "markdown",
   "metadata": {},
   "source": [
    "- The performance metrices __precision (PRE)__ and __ recall (REC)__ are related to those true positive rate and negative restes, and in fact, REC is synonymous with TPR:\n",
    "<center>PRE = $\\frac{TP}{FP+TP}$<center/>\n",
    "<center>REC = TPR = $\\frac{TP}{P} = \\frac{TP}{FN+TP}$<center/>"
   ]
  },
  {
   "cell_type": "markdown",
   "metadata": {},
   "source": [
    "- in practive, often a combinationon of __PRE__ and __REC__ is used, the so-called __F1-score__:\n",
    "<center>F1= 2$\\frac{PRE * REC}{PRE+REC}$<center/>\n"
   ]
  },
  {
   "cell_type": "markdown",
   "metadata": {},
   "source": [
    "The scoring metrices are all implemeted in scikt-learn and can be imported from _sklearn.metrics_ modules as shown in the following snippet:\n"
   ]
  },
  {
   "cell_type": "code",
   "execution_count": 27,
   "metadata": {
    "collapsed": true
   },
   "outputs": [],
   "source": [
    "from sklearn.metrics import precision_score\n",
    "from sklearn.metrics import recall_score, f1_score"
   ]
  },
  {
   "cell_type": "code",
   "execution_count": 28,
   "metadata": {},
   "outputs": [
    {
     "name": "stdout",
     "output_type": "stream",
     "text": [
      "Precision: 0.976\n",
      "Recall: 0.952\n",
      "F1: 0.964\n"
     ]
    }
   ],
   "source": [
    "print('Precision: %.3f' %precision_score(y_true=y_test, y_pred=y_pred))\n",
    "print('Recall: %.3f' %recall_score(y_true=y_test, y_pred=y_pred))\n",
    "print('F1: %.3f' %f1_score(y_true=y_test, y_pred=y_pred))"
   ]
  },
  {
   "cell_type": "markdown",
   "metadata": {},
   "source": [
    "- __Note:__ Furthuremore, we can use a different scoring metric than accuracy in the _GridSearchCV_ via the scoring parameter. A complete of the different values that are accepted by the scoring parameter can be found [here](https://scikit-learn.org/stable/modules/model_evaluation.html)"
   ]
  },
  {
   "cell_type": "markdown",
   "metadata": {},
   "source": [
    "Remember that the __positive class in scikit-learn is the class that is labeled as class 1__. If we want to specify a different positive label we can construct our own scorer via _make\\_scorer_ funciton , which we can then directly provide as an argument to the scoring parameter in _GridSearchCV_:"
   ]
  },
  {
   "cell_type": "code",
   "execution_count": 30,
   "metadata": {},
   "outputs": [],
   "source": [
    "from sklearn.metrics import make_scorer, f1_score\n",
    "scorer = make_scorer(f1_score, pos_label=0)"
   ]
  },
  {
   "cell_type": "code",
   "execution_count": 31,
   "metadata": {
    "collapsed": true
   },
   "outputs": [],
   "source": [
    "gs = GridSearchCV(pipe_svc,\n",
    "                 param_grid=param_grid,\n",
    "                 scoring=scorer,\n",
    "                 cv=10)"
   ]
  },
  {
   "cell_type": "code",
   "execution_count": 32,
   "metadata": {},
   "outputs": [
    {
     "name": "stdout",
     "output_type": "stream",
     "text": [
      "0.988021913796\n",
      "{'svc__C': 100.0, 'svc__gamma': 0.001, 'svc__kernel': 'rbf'}\n"
     ]
    }
   ],
   "source": [
    "gs= gs.fit(X_train, y_train)\n",
    "print(gs.best_score_)\n",
    "print(gs.best_params_)"
   ]
  },
  {
   "cell_type": "markdown",
   "metadata": {},
   "source": [
    "### Plotting a receiver operating characterisitic\n",
    "Receiver Operating Characteristic (ROC) graphs are usefful tools to select modes for classifcation based on theier performance with respect tot he FPR  and TPR, which are computed by shifting the decision threshold of the classifier. the dagonal of an ROC graph can be interpeted as _random guessing_, and classification models that fall below the diagonal are considered as worse than randomguessing, A perfect classifier would fall into the top left corner of the graph with a TPR of 1 and an FPR of 0. Based on the ROC  curve, we can then compurte the so-called __ROC Area Under the Curve (ROC AUC) __ to characterize the performance of a classification model.\n",
    "\n",
    "Similar to ROC curves, we can ompute __precision-recall curves __ for differenct probability thresholds of a classifier. A function for plotting those precion-recall curves is also implemented in scikit-learn."
   ]
  },
  {
   "cell_type": "code",
   "execution_count": 42,
   "metadata": {
    "collapsed": true
   },
   "outputs": [],
   "source": [
    "from sklearn.metrics import roc_curve, auc\n",
    "from scipy import interp\n",
    "from sklearn.decomposition import PCA\n",
    "from sklearn.linear_model import LogisticRegression\n",
    "from sklearn.cross_validation import StratifiedKFold"
   ]
  },
  {
   "cell_type": "code",
   "execution_count": 41,
   "metadata": {},
   "outputs": [],
   "source": [
    "pipe_lr = make_pipeline(StandardScaler(),\n",
    "                       PCA(n_components=2),\n",
    "                          LogisticRegression(penalty='l2',random_state=1, C=100.0))"
   ]
  },
  {
   "cell_type": "code",
   "execution_count": null,
   "metadata": {
    "collapsed": true
   },
   "outputs": [],
   "source": [
    "X_train2 = X_train[:,[4,14]]"
   ]
  },
  {
   "cell_type": "code",
   "execution_count": 47,
   "metadata": {},
   "outputs": [],
   "source": [
    "cv = list(StratifiedKFold(y_train,n_folds=3, random_state=1))#.split(X_train,y_train))"
   ]
  },
  {
   "cell_type": "code",
   "execution_count": 49,
   "metadata": {
    "collapsed": true
   },
   "outputs": [],
   "source": [
    "fig = plt.figure(figsize=(7,5))\n",
    "mean_tpr = 0.0\n",
    "mean_fpr = np.linspace(0,1,100)\n",
    "all_tpr= []"
   ]
  },
  {
   "cell_type": "code",
   "execution_count": 50,
   "metadata": {},
   "outputs": [],
   "source": [
    "for i, (train, test) in enumerate(cv):\n",
    "    probas = pipe_lr.fit(X_train2[train], y_train[train]).predict_proba(X_train2[test])\n",
    "    fpr, tpr, thresholds = roc_curve(y_train[test],\n",
    "                                    probas[:,1],\n",
    "                                    pos_label=1)\n",
    "    mean_tpr += interp(mean_fpr, fpr, tpr)\n",
    "    mean_tpr[0] = 0.0\n",
    "    roc_auc = auc(tpr, fpr)\n",
    "    plt.plot(fpr, tpr, label='ROC fold %d (area = %0.2f)' %(i+1, roc_auc))\n",
    "    "
   ]
  },
  {
   "cell_type": "code",
   "execution_count": 51,
   "metadata": {},
   "outputs": [
    {
     "data": {
      "text/plain": [
       "[<matplotlib.lines.Line2D at 0x7f0bc60be358>]"
      ]
     },
     "execution_count": 51,
     "metadata": {},
     "output_type": "execute_result"
    }
   ],
   "source": [
    "plt.plot([0,1],[0,1],linestyle='--', color=(0.6,0.6,0.6), label='random guessing')"
   ]
  },
  {
   "cell_type": "code",
   "execution_count": 52,
   "metadata": {},
   "outputs": [
    {
     "data": {
      "text/plain": [
       "[<matplotlib.lines.Line2D at 0x7f0bc5e8e5c0>]"
      ]
     },
     "execution_count": 52,
     "metadata": {},
     "output_type": "execute_result"
    }
   ],
   "source": [
    "mean_tpr /= len(cv)\n",
    "mean_tpr[-1] = 1.0\n",
    "mean_auc = auc(mean_fpr, mean_tpr)\n",
    "plt.plot(mean_fpr, mean_tpr, 'k--',label='mean ROC (area = %0.2f)' %mean_auc, lw=2)\n",
    "plt.plot([0,0,1],[0,1,1], linestyle=':',color='black',label='pefect performance')"
   ]
  },
  {
   "cell_type": "code",
   "execution_count": 53,
   "metadata": {},
   "outputs": [
    {
     "data": {
      "image/png": "[encoded data removed]",
      "text/plain": [
       "<matplotlib.figure.Figure at 0x7f0bc5fe22b0>"
      ]
     },
     "metadata": {},
     "output_type": "display_data"
    }
   ],
   "source": [
    "plt.xlim([-0.05,1.05])\n",
    "plt.ylim([-0.05,1.05])\n",
    "plt.xlabel('false positive rate')\n",
    "plt.ylabel('true positive rate')\n",
    "plt.legend(loc='lower right')\n",
    "plt.show()"
   ]
  },
  {
   "cell_type": "markdown",
   "metadata": {},
   "source": [
    "In the preceding code example, we used the already familiar _StratifiedKFold_ class form scikit-learn and calculated the ROC performance of the _LogisticRegression_ classifier in our _pipe-lr_ pipeline using the _roc-curve_ fromction form the sklearn.metris module separately fore each iteration. Furthuremore, we interpolated the average ROC curve form the threee ffolds via the _interp_ function that we imported form SciPy and calcuated teh areas udner the curve via the _auc_ function . The resulting ROC  curve indicates that there is a certaing degree of variance btween the differnet folds, and the avearage ROC AUC (0.76) falss between a perfect score (1.0) and random guessing(0.5)\n",
    "\n",
    "- Now if we are just intersted in the ROC AUC score, we could also directly imor the roc_auc_score functin form sklearn.metrics submodule.\n",
    "\n",
    "Reporting the performance of a classifier as the ROC AUC can yield further insights in a classifier's perfromance with respect to imbalanced samples. However, while the accuracy score can be interpreted as a single cut-off point on an ROC curve, A.P.Bardley showed that the ROC AUC and accuracy metircs mostly agree with each other."
   ]
  },
  {
   "cell_type": "markdown",
   "metadata": {},
   "source": [
    "### Scoring metrics for multiclass classification\n",
    "\n",
    "Scikit-learn also implements macro and micro average methods fto those (binary classification scoring metrices) scoring metrics to multiclass problems via __One-versus-All (OvA)__ classification. </br>\n",
    "- The __micro-average__ is calculated form the individual TPs, TNs, FPs and FNs of the system. For example, the micro-average of the precision score in a k-class system can be calculated as follows.\n",
    "\n",
    "<center>$PRE_{micro} = \\frac{TP_1 + ... + TP_k}{FP1+...+FP_k+TP_1+...+TP_k}$</center></br>\n",
    "\n",
    "- The __macro-average__ is simply calculated as the average scores of the different systems:\n",
    "\n",
    "<center>$PRE_{macro} = \\frac{PRE_1 + ... + PRE_k}{k}$</center>\n"
   ]
  },
  {
   "cell_type": "markdown",
   "metadata": {},
   "source": [
    "__Micro-averaging __ is useful if we want to __weight each instacne or prediciton equally,__ whereas\n",
    "__macro-averaging__ is __weighs all classes equally to evaluate the overall performance__ of a classifier with regard tot he most frequesnt class labels"
   ]
  },
  {
   "cell_type": "markdown",
   "metadata": {},
   "source": [
    "If we are using binary performance metrics to evaluate multiclass classificaiton models in scikit-learn , a normalized or weighted variant of the macro-average is used by default. The weighted macro-average is calcuated by weighting the score of each class label by the number of true instance when calcuating the average. The weighted macro-average is useful if we are dealing with class imbalances, that is, different numbers of instances for each label.\n",
    "- While the weighted macro-average is the default for multiclass problems in scikit-learn, we can specify the averaging method via the average parameter inside the different scoring functions that we import from the _sklearn.metrics_ modules for example , the _precision-score_ or _make-scorer_ functions:"
   ]
  },
  {
   "cell_type": "code",
   "execution_count": 54,
   "metadata": {
    "collapsed": true
   },
   "outputs": [],
   "source": [
    "pre_scorer = make_scorer(score_func=precision_score,\n",
    "                        pos_label=1,\n",
    "                        greater_is_better=True,\n",
    "                        average='micro')"
   ]
  },
  {
   "cell_type": "markdown",
   "metadata": {},
   "source": [
    "### Dealing with class imbalance\n",
    "Samples from one class or multiple classes are over-represented in a dataset. This may occur such as spam filterning, fraud detection , or screening for diseases."
   ]
  },
  {
   "cell_type": "code",
   "execution_count": 75,
   "metadata": {},
   "outputs": [],
   "source": [
    "# let's create an imblanced datsef rom our breast cancer datset\n",
    "\n",
    "X_imb = np.vstack((X[y==0], X[y==1][:40]))\n",
    "\n",
    "\n",
    "y_imb = np.hstack((y[y==0], y[y==1][:40]))"
   ]
  },
  {
   "cell_type": "markdown",
   "metadata": {},
   "source": [
    "In the previous code snipped, we took all 357 benign tumor samples and stacked them with the first 40 malignant samples to create a stark calss imbalace, I we to compute the accuracy of a model that always predicts the majority class(benign class 0), wwe would achive a prdiction accuracy of aproxximately 90 percent."
   ]
  },
  {
   "cell_type": "code",
   "execution_count": 78,
   "metadata": {},
   "outputs": [
    {
     "data": {
      "text/plain": [
       "89.924433249370267"
      ]
     },
     "execution_count": 78,
     "metadata": {},
     "output_type": "execute_result"
    }
   ],
   "source": [
    "y_pred = np.zeros(y_imb.shape[0])\n",
    "np.mean(y_pred == y_imb)*100\n"
   ]
  },
  {
   "cell_type": "markdown",
   "metadata": {},
   "source": [
    "Thus, when we fit classifiers on such dataset, it would make sense to __focus on other metrics than acuray when comparing differnet models, such as precision , recal the ROC curve-__ whatever ewe care most about in our application. For instance if our priority might be tto identf the __majority of patients with mlaignant cance pateints to recommend an additional screening, then recall__ should be our metirc off choice. In spam filterning, wehre we don't want to lable emails as spam in the system in our very certain, preciision might be a more appropriate metric."
   ]
  },
  {
   "cell_type": "markdown",
   "metadata": {},
   "source": [
    "- Class imbalacne also influence a machine learning algirith during model fitting iteself. Algorithm implicity learn as model that optimizes the precictions based on the most abundant class in the datset, inorder to minimize the cost or maximize the reward during training, since ML algorithms typically optimize a reward or cost function that is computed as a sum over the triaining examples.\n",
    "- __one way __ to deal with imlanced class proportins during __model fitting is to assign a larger penalyt to wriong predicitons on the minority class,__Via _sklearn_ class_weight_parameter to 'balanced'implemented in most classifiers.\n",
    "- Other populart stratergies for dealing with class imbalance include upsampling the minooryt class, downsampling the mahority class and the generation of synthetic training samples (SMOTE). The sklearn library implements a simple _resample_ funciton that can help with the upsampling of the minority class by drqwing new samples form the dataset with replacement."
   ]
  },
  {
   "cell_type": "code",
   "execution_count": 80,
   "metadata": {},
   "outputs": [
    {
     "name": "stdout",
     "output_type": "stream",
     "text": [
      "Number of class 1smaples before: 40\n"
     ]
    }
   ],
   "source": [
    "from sklearn.utils import resample\n",
    "print('Number of class 1 samples before:', X_imb[y_imb==1].shape[0])"
   ]
  },
  {
   "cell_type": "code",
   "execution_count": 81,
   "metadata": {},
   "outputs": [
    {
     "name": "stdout",
     "output_type": "stream",
     "text": [
      "Number of class 1samples after: 357\n"
     ]
    }
   ],
   "source": [
    "X_upsampled, y_upsampled = resample(X_imb[y_imb==1],\n",
    "                                   y_imb[y_imb==1],\n",
    "                                   replace=True,\n",
    "                                   n_samples=X_imb[y_imb==0].shape[0],\n",
    "                                   random_state=123)\n",
    "print('Number of class 1samples after:', X_upsampled.shape[0])"
   ]
  },
  {
   "cell_type": "markdown",
   "metadata": {},
   "source": [
    "After resmpling we can then stack the origncla class 0 samples with the upsampled class 1 subset to obtain a balanced dataset as follows:"
   ]
  },
  {
   "cell_type": "code",
   "execution_count": 82,
   "metadata": {
    "collapsed": true
   },
   "outputs": [],
   "source": [
    "X_bal = np.vstack((X[y==0], X_upsampled))\n",
    "y_bal = np.hstack((y[y==0], y_upsampled))"
   ]
  },
  {
   "cell_type": "markdown",
   "metadata": {},
   "source": [
    "Consequently, a majority vote prediction rrule would only achieve 50 percent accuracy"
   ]
  },
  {
   "cell_type": "code",
   "execution_count": 83,
   "metadata": {},
   "outputs": [
    {
     "data": {
      "text/plain": [
       "50.0"
      ]
     },
     "execution_count": 83,
     "metadata": {},
     "output_type": "execute_result"
    }
   ],
   "source": [
    "y_pred = np.zeros(y_bal.shape[0])\n",
    "np.mean(y_pred==y_bal)*100"
   ]
  },
  {
   "cell_type": "markdown",
   "metadata": {},
   "source": [
    "Similary, we can downsample the majority class by remove trainig examples form the dataset. \n",
    "- The most widely used algorithm for synthetic training sample generation is __Synthetiet Minotiy Over Sampling Technique (SMOTE)__. \n",
    "- It is highly recommended to learn about _imbalance-learn_, a PYTHON library that is entierly focused on imbalanced datasets, including an implementation of SMOTE."
   ]
  },
  {
   "cell_type": "code",
   "execution_count": null,
   "metadata": {
    "collapsed": true
   },
   "outputs": [],
   "source": []
  }
 ],
 "metadata": {
  "kernelspec": {
   "display_name": "Python 3",
   "language": "python",
   "name": "python3"
  },
  "language_info": {
   "codemirror_mode": {
    "name": "ipython",
    "version": 3
   },
   "file_extension": ".py",
   "mimetype": "text/x-python",
   "name": "python",
   "nbconvert_exporter": "python",
   "pygments_lexer": "ipython3",
   "version": "3.6.2"
  }
 },
 "nbformat": 4,
 "nbformat_minor": 2
}
