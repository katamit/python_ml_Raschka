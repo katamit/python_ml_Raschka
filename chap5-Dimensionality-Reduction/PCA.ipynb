{
 "cells": [
  {
   "cell_type": "markdown",
   "metadata": {},
   "source": [
    "## Dimensionality Reduction"
   ]
  },
  {
   "cell_type": "markdown",
   "metadata": {},
   "source": [
    "- __Feature Extraction__ : _An alternative approach to feature selection for_ Dimensionality Reduction.\n",
    "- In feature selection we maintian the original features, we use feature extraction to transform or__project the data onto a new feature space__.\n",
    "- In the context of __dimensionality reduction__, feature extraction can be understood as an approach to __data compression with the goal of maintaining most of th relevant information.__\n",
    "\n",
    "__Note :__ In practice, feature extraction is not only used to improve storage space or computational efficiency of learning algorithm ,  but can also improve the predictive performance by reducing the _curse of dimensionality_ - especially if we are working with _non-regularized_ models."
   ]
  },
  {
   "cell_type": "markdown",
   "metadata": {},
   "source": [
    "### Principal Component Analysis - unsupervised linear transformation\n",
    "\n",
    "- PCA wildely used across fields, most prominently for feature extraction and dimensionality reduction.\n",
    "- Other applications, in de-noising the signals in stock-market trading, and analysis of genome data and gene expresssions levels.\n"
   ]
  },
  {
   "cell_type": "markdown",
   "metadata": {},
   "source": [
    "__PCA__ helps to identify patterns based on <u><font style=\"color:#0073e6\">correlation between features</font></u>.<br>\n",
    "__PCA aims__ to <font style=\"color:#0073e6\">find the direction of maximum variance</font> in high-dimensional data and __projects it into a new subspace__ with equal ro less fewer dimensions.</font>\n",
    "> The __orthogonal axes(principal component)__ of new subspace can be interpreted as the directions of maximum variance given the constraint that, new feature are orthogonal to each other."
   ]
  },
  {
   "cell_type": "markdown",
   "metadata": {},
   "source": [
    "![pca](pca.png)\n",
    "\n",
    "- __x1__ and __x2__ are orignial featues, and __PC1__ and __PC2__ are principal components"
   ]
  },
  {
   "cell_type": "markdown",
   "metadata": {},
   "source": [
    "Summarize the approach of PCA:<br>\n",
    "1. Standarize the d-dimensional dataset\n",
    "2. Construct the covariance matrix\n",
    "3. Decompose the covariance matrix into its eigenvectors and eigenvalues.\n",
    "4. Sort the eigenvalues by decreasing order to rank the corresponding eigenvectors.\n",
    "5. select _k_ eigenvectors which corresponds to the _k_ largest eigenvalues, where _k_ is the dimensionality of the new feature subspace $ k \\leq d$\n",
    "6. Construct a projection matrix __W__ form the \"top\" _k_ eigenvectors.\n",
    "7. Transform the _d_-dimensional input dataset __X__ using the projection matrix __W__ to obtain the new _k_-dimensional feature subspace."
   ]
  },
  {
   "cell_type": "markdown",
   "metadata": {},
   "source": [
    "As a result of transformation, __first principal component will have the larges possible variance, and all consequent principal component will have the largest variance given the constraint that these components are uncorrelated(orthogonal) to other principal components --even if the input features are correlated, the resulting principal component will be mutually orthogonal (uncorrelated).__\n",
    "\n",
    "__Note :__ PCA are highly sensitive to data scaling, we need to standarize feature __prior to PCA__."
   ]
  },
  {
   "cell_type": "code",
   "execution_count": null,
   "metadata": {
    "collapsed": true
   },
   "outputs": [],
   "source": [
    "import pandas as pd"
   ]
  },
  {
   "cell_type": "code",
   "execution_count": null,
   "metadata": {
    "collapsed": true
   },
   "outputs": [],
   "source": [
    "df_wine = pd.read_csv('https://archive.ics.uci.edu/ml/machine-learning-databases/wine/wine.data',header=None)"
   ]
  },
  {
   "cell_type": "code",
   "execution_count": null,
   "metadata": {
    "collapsed": true
   },
   "outputs": [],
   "source": [
    "from sklearn.model_selection import train_test_split\n",
    "X, y = df_wine.iloc[: ,1:].values , df_wine.iloc[:,0].values\n",
    "X_train, X_test, y_train, y_test = train_test_split(X, y, test_size=0.3, random_state=0, stratify=y)"
   ]
  },
  {
   "cell_type": "code",
   "execution_count": 1,
   "metadata": {
    "collapsed": true
   },
   "outputs": [],
   "source": [
    "from sklearn.preprocessing import StandardScaler\n",
    "sc = StandardScaler()\n",
    "X_train_std = sc.fit_transform(X_train)\n",
    "X_test_std = sc.fit_transform(X_test)"
   ]
  },
  {
   "cell_type": "code",
   "execution_count": 2,
   "metadata": {
    "collapsed": true
   },
   "outputs": [],
   "source": [
    "df_wine = pd.read_csv('https://archive.ics.uci.edu/ml/machine-learning-databases/wine/wine.data',header=None)"
   ]
  },
  {
   "cell_type": "code",
   "execution_count": 4,
   "metadata": {
    "collapsed": true
   },
   "outputs": [],
   "source": [
    "from sklearn.model_selection import train_test_split\n",
    "X, y = df_wine.iloc[: ,1:].values , df_wine.iloc[:,0].values\n",
    "X_train, X_test, y_train, y_test = train_test_split(X, y, test_size=0.3, random_state=0, stratify=y)"
   ]
  },
  {
   "cell_type": "code",
   "execution_count": 5,
   "metadata": {
    "collapsed": true
   },
   "outputs": [],
   "source": [
    "from sklearn.preprocessing import StandardScaler\n",
    "sc = StandardScaler()\n",
    "X_train_std = sc.fit_transform(X_train)\n",
    "X_test_std = sc.fit_transform(X_test)"
   ]
  },
  {
   "cell_type": "markdown",
   "metadata": {
    "collapsed": true
   },
   "source": [
    "- The symmetric _dxd_- dimensional covariance matrix, where _d_ is the number of dimensions in the dataset, stores the pairwise covariances betweent he different features.<br>\n",
    "- The covariance between two features $x_j$ and $x_k$ on the __population level__ can be calculated as:\n",
    "\n",
    "<br>\n",
    "<center style='font-size:16px;'> $ \\sigma_{jk} \\space = \\space \\frac {1}{n} \\sum_{i=1}^{n}\\left(x_j^{(i)} - \\mu_j\\right)\\left(x_k^{(i)} - \\mu_k\\right)$</center>\n",
    "\n",
    "\n",
    "<br>\n",
    "where $\\mu_{j}$ and $\\mu_k$, are the sample means of feature _j_ and _k_<br>\n",
    "__Note:__ that the sample means are zero if we standarized the dataset."
   ]
  },
  {
   "cell_type": "code",
   "execution_count": null,
   "metadata": {
    "collapsed": true
   },
   "outputs": [],
   "source": [
    "import numpy as np\n",
    "cov_mat = np.cov(X_train_std.T)"
   ]
  },
  {
   "cell_type": "code",
   "execution_count": 10,
   "metadata": {
    "collapsed": true
   },
   "outputs": [
    {
     "data": {
      "text/plain": [
       "array([[ 1.00813008,  0.06709556,  0.17405351, -0.35439069,  0.26374703,\n",
       "         0.29079481,  0.21835807, -0.08111974,  0.10436705,  0.54282846,\n",
       "         0.05893536, -0.01797029,  0.6415292 ],\n",
       "       [ 0.06709556,  1.00813008,  0.08326463,  0.26356776, -0.11349172,\n",
       "        -0.33735555, -0.41035281,  0.33653916, -0.21602672,  0.17504154,\n",
       "        -0.551593  , -0.40561695, -0.24089991],\n",
       "       [ 0.17405351,  0.08326463,  1.00813008,  0.46420355,  0.29092834,\n",
       "         0.18020384,  0.15537535,  0.15918823, -0.00703776,  0.20549146,\n",
       "         0.00665422,  0.02039019,  0.223495  ],\n",
       "       [-0.35439069,  0.26356776,  0.46420355,  1.00813008, -0.07406447,\n",
       "        -0.28060672, -0.31391899,  0.31581353, -0.24621059, -0.08872685,\n",
       "        -0.22595587, -0.16799906, -0.46393412],\n",
       "       [ 0.26374703, -0.11349172,  0.29092834, -0.07406447,  1.00813008,\n",
       "         0.25667578,  0.21025773, -0.26003426,  0.19601657,  0.20606456,\n",
       "         0.13359768,  0.06633258,  0.41810999],\n",
       "       [ 0.29079481, -0.33735555,  0.18020384, -0.28060672,  0.25667578,\n",
       "         1.00813008,  0.87123661, -0.44979792,  0.62334099, -0.05689854,\n",
       "         0.50664086,  0.71978745,  0.52986924],\n",
       "       [ 0.21835807, -0.41035281,  0.15537535, -0.31391899,  0.21025773,\n",
       "         0.87123661,  1.00813008, -0.54824079,  0.64800868, -0.15864896,\n",
       "         0.60417124,  0.79319622,  0.52836141],\n",
       "       [-0.08111974,  0.33653916,  0.15918823,  0.31581353, -0.26003426,\n",
       "        -0.44979792, -0.54824079,  1.00813008, -0.39989328,  0.19810581,\n",
       "        -0.36629252, -0.57622953, -0.34099709],\n",
       "       [ 0.10436705, -0.21602672, -0.00703776, -0.24621059,  0.19601657,\n",
       "         0.62334099,  0.64800868, -0.39989328,  1.00813008, -0.00330144,\n",
       "         0.32019524,  0.50615495,  0.32976133],\n",
       "       [ 0.54282846,  0.17504154,  0.20549146, -0.08872685,  0.20606456,\n",
       "        -0.05689854, -0.15864896,  0.19810581, -0.00330144,  1.00813008,\n",
       "        -0.45834115, -0.4666752 ,  0.32156154],\n",
       "       [ 0.05893536, -0.551593  ,  0.00665422, -0.22595587,  0.13359768,\n",
       "         0.50664086,  0.60417124, -0.36629252,  0.32019524, -0.45834115,\n",
       "         1.00813008,  0.6435365 ,  0.35356248],\n",
       "       [-0.01797029, -0.40561695,  0.02039019, -0.16799906,  0.06633258,\n",
       "         0.71978745,  0.79319622, -0.57622953,  0.50615495, -0.4666752 ,\n",
       "         0.6435365 ,  1.00813008,  0.26670793],\n",
       "       [ 0.6415292 , -0.24089991,  0.223495  , -0.46393412,  0.41810999,\n",
       "         0.52986924,  0.52836141, -0.34099709,  0.32976133,  0.32156154,\n",
       "         0.35356248,  0.26670793,  1.00813008]])"
      ]
     },
     "execution_count": 10,
     "metadata": {},
     "output_type": "execute_result"
    }
   ],
   "source": [
    "cov_mat"
   ]
  },
  {
   "cell_type": "markdown",
   "metadata": {},
   "source": [
    "- The eigenvectors of the covariance matrix represent the principal component(__the direction of maximum variance__), whereas the corresponding eigenvalues will define their magnitude<br>\n",
    "<br>\n",
    "an eigenvector __v__ satisfies the following condition: <br>\n",
    "\n",
    "<center> $ \\sum  v = \\lambda v$</center><br>\n",
    "where;<br>\n",
    "$\\sum$: is the covariance matrix<br>\n",
    "v: is the eigenvector<br>\n",
    "$\\lambda$: is the eigenvalue"
   ]
  },
  {
   "cell_type": "code",
   "execution_count": 62,
   "metadata": {
    "collapsed": true
   },
   "outputs": [],
   "source": [
    "eigen_value, eigen_vecs = np.linalg.eig(cov_mat)"
   ]
  },
  {
   "cell_type": "code",
   "execution_count": 7,
   "metadata": {
    "collapsed": true
   },
   "outputs": [
    {
     "data": {
      "text/plain": [
       "array([ 4.84274532,  2.41602459,  1.54845825,  0.96120438,  0.84166161,\n",
       "        0.6620634 ,  0.51828472,  0.34650377,  0.3131368 ,  0.10754642,\n",
       "        0.21357215,  0.15362835,  0.1808613 ])"
      ]
     },
     "execution_count": 7,
     "metadata": {},
     "output_type": "execute_result"
    }
   ],
   "source": [
    "#  Printing the eigen values\n",
    "eigen_value"
   ]
  },
  {
   "cell_type": "code",
   "execution_count": 9,
   "metadata": {
    "collapsed": true
   },
   "outputs": [
    {
     "data": {
      "text/plain": [
       "array([[ -1.37242175e-01,   5.03034778e-01,  -1.37748734e-01,\n",
       "         -3.29610003e-03,  -2.90625226e-01,   2.99096847e-01,\n",
       "          7.90529293e-02,  -3.68176414e-01,  -3.98377017e-01,\n",
       "         -9.44869777e-02,   3.74638877e-01,  -1.27834515e-01,\n",
       "          2.62834263e-01],\n",
       "       [  2.47243265e-01,   1.64871190e-01,   9.61503863e-02,\n",
       "          5.62646692e-01,   8.95378697e-02,   6.27036396e-01,\n",
       "         -2.74002014e-01,  -1.25775752e-02,   1.10458230e-01,\n",
       "          2.63652406e-02,  -1.37405597e-01,   8.06401578e-02,\n",
       "         -2.66769211e-01],\n",
       "       [ -2.54515927e-02,   2.44564761e-01,   6.77775667e-01,\n",
       "         -1.08977111e-01,  -1.60834991e-01,   3.89128239e-04,\n",
       "          1.32328045e-01,   1.77578177e-01,   3.82496856e-01,\n",
       "          1.42747511e-01,   4.61583035e-01,   1.67924873e-02,\n",
       "         -1.15542548e-01],\n",
       "       [  2.06945084e-01,  -1.13529045e-01,   6.25040550e-01,\n",
       "          3.38187002e-02,   5.15873402e-02,  -4.05836452e-02,\n",
       "          2.23999097e-01,  -4.40592110e-01,  -2.43373853e-01,\n",
       "         -1.30485780e-01,  -4.18953989e-01,  -1.10845657e-01,\n",
       "          1.99483410e-01],\n",
       "       [ -1.54365821e-01,   2.89745182e-01,   1.96135481e-01,\n",
       "         -3.67511070e-01,   6.76487073e-01,   6.57772614e-02,\n",
       "         -4.05268966e-01,   1.16617503e-01,  -2.58982359e-01,\n",
       "         -6.76080782e-02,   1.00470630e-02,   7.93879562e-02,\n",
       "          2.89018810e-02],\n",
       "       [ -3.93769523e-01,   5.08010391e-02,   1.40310572e-01,\n",
       "          2.40245127e-01,  -1.18511144e-01,  -5.89776247e-02,\n",
       "         -3.47419412e-02,   3.50192127e-01,  -3.42312860e-01,\n",
       "          4.59917661e-01,  -2.21254241e-01,  -4.91459313e-01,\n",
       "         -6.63868598e-02],\n",
       "       [ -4.17351064e-01,  -2.28733792e-02,   1.17053859e-01,\n",
       "          1.87053299e-01,  -1.07100349e-01,  -3.01103180e-02,\n",
       "          4.17835724e-02,   2.18718183e-01,  -3.61231642e-02,\n",
       "         -8.14583947e-01,  -4.17513600e-02,  -5.03074004e-02,\n",
       "         -2.13349079e-01],\n",
       "       [  3.05728961e-01,   9.04888470e-02,   1.31217777e-01,\n",
       "         -2.29262234e-02,  -5.07581610e-01,  -2.71728086e-01,\n",
       "         -6.31145686e-01,   1.97129425e-01,  -1.71436883e-01,\n",
       "         -9.57480885e-02,  -8.87569452e-02,   1.75328030e-01,\n",
       "          1.86391279e-01],\n",
       "       [ -3.06683469e-01,   8.35232677e-03,   3.04309008e-02,\n",
       "          4.96262330e-01,   2.01634619e-01,  -4.39997519e-01,\n",
       "         -3.23122775e-01,  -4.33055871e-01,   2.44370210e-01,\n",
       "          6.72468934e-02,   1.99921861e-01,  -3.67595797e-03,\n",
       "          1.68082985e-01],\n",
       "       [  7.55406578e-02,   5.49775805e-01,  -7.99299713e-02,\n",
       "          1.06482939e-01,   5.73607091e-03,  -4.11743459e-01,\n",
       "          2.69082623e-01,  -6.68411823e-02,  -1.55514919e-01,\n",
       "          8.73336218e-02,  -2.21668868e-01,   3.59756535e-01,\n",
       "         -4.66369031e-01],\n",
       "       [ -3.26132628e-01,  -2.07164328e-01,   5.30591506e-02,\n",
       "         -3.69053747e-01,  -2.76914216e-01,   1.41673377e-01,\n",
       "         -3.02640661e-01,  -4.59762295e-01,   2.11961247e-02,\n",
       "          1.29061125e-01,  -9.84694573e-02,   4.04669797e-02,\n",
       "         -5.32483880e-01],\n",
       "       [ -3.68610222e-01,  -2.49025357e-01,   1.32391030e-01,\n",
       "          1.42016088e-01,  -6.66275572e-02,   1.75842384e-01,\n",
       "          1.30540143e-01,   1.10827548e-01,  -2.38089559e-01,\n",
       "          1.87646268e-01,   1.91205783e-02,   7.42229543e-01,\n",
       "          2.37835283e-01],\n",
       "       [ -2.96696514e-01,   3.80229423e-01,  -7.06502178e-02,\n",
       "         -1.67682173e-01,  -1.28029045e-01,   1.38018388e-01,\n",
       "          8.11335043e-04,   5.60817288e-03,   5.17278463e-01,\n",
       "          1.21112574e-02,  -5.42532072e-01,   3.87395209e-02,\n",
       "          3.67763359e-01]])"
      ]
     },
     "execution_count": 9,
     "metadata": {},
     "output_type": "execute_result"
    }
   ],
   "source": [
    "# Printe the eigen vectors\n",
    "eigen_vecs"
   ]
  },
  {
   "cell_type": "markdown",
   "metadata": {},
   "source": [
    "_Variance explained ratio_: The variance explained ratio of an eigenvalue $\\lambda_j$ is simply the fraction of an eigenvalue $\\lambda_j$ and the total sum of the eigenvalues:<br><br>\n",
    "\n",
    "<center style='font-size:16px;'>$ \\frac {\\lambda_j}{\\sum_{j=1}^{d} \\space \\lambda _j}$</center>"
   ]
  },
  {
   "cell_type": "code",
   "execution_count": 13,
   "metadata": {
    "collapsed": true
   },
   "outputs": [],
   "source": [
    "tot = sum(eigen_value)\n",
    "var_expld = [ i/tot for i in sorted(eigen_value, reverse=True)]\n",
    "cum_var_expld = np.cumsum(var_expld)"
   ]
  },
  {
   "cell_type": "code",
   "execution_count": 64,
   "metadata": {},
   "outputs": [
    {
     "data": {
      "image/png": "[encoded data removed]",
      "text/plain": [
       "<matplotlib.figure.Figure at 0x7fa29c5d3d30>"
      ]
     },
     "metadata": {},
     "output_type": "display_data"
    }
   ],
   "source": [
    "import matplotlib.pyplot as plt\n",
    "plt.bar(range(1,14), var_expld, alpha=0.5, align='center',label='individual explained variance')\n",
    "plt.step(range(1,14), cum_var_expld, where='mid', label='cumulative explained variance')\n",
    "plt.ylabel('Explained variance ratio')\n",
    "plt.xlabel('Principal component index')\n",
    "plt.title('Variance Explained ratio')\n",
    "plt.legend(loc='best')\n",
    "plt.show()"
   ]
  },
  {
   "cell_type": "markdown",
   "metadata": {},
   "source": [
    "- We can see that the first 2 Princicpal component combined explain almost 60 percent of the variance in the dataset"
   ]
  },
  {
   "cell_type": "markdown",
   "metadata": {},
   "source": [
    "#### Feature Transformation"
   ]
  },
  {
   "cell_type": "code",
   "execution_count": 30,
   "metadata": {
    "collapsed": true
   },
   "outputs": [],
   "source": [
    "#  Making a list of (eigenvalue, eigenvector) tuples\n",
    "eigen_pairs  = [(np.abs(eigen_value[i]), eigen_vecs[:,i]) for i in range(len(eigen_value))]\n",
    "\n",
    "# Sort the (eigenvalue, eigenvector) tuple from high to low\n",
    "eigen_pairs.sort(key = lambda x: x[0], reverse=True)"
   ]
  },
  {
   "cell_type": "markdown",
   "metadata": {},
   "source": [
    "We collect the two eigenvectors that correspond to the two largest eigenvalues<br>\n",
    "Note that we only choose two eigenvectors for the purpose of illlustration, since we will plot the data"
   ]
  },
  {
   "cell_type": "code",
   "execution_count": 65,
   "metadata": {},
   "outputs": [
    {
     "name": "stdout",
     "output_type": "stream",
     "text": [
      "Matrix W: \n",
      " [[-0.13724218  0.24724326]\n",
      " [ 0.24724326  0.16487119]\n",
      " [-0.02545159  0.09615039]\n",
      " [ 0.20694508  0.56264669]\n",
      " [-0.15436582  0.08953787]\n",
      " [-0.39376952  0.6270364 ]\n",
      " [-0.41735106  0.27400201]\n",
      " [ 0.30572896  0.01257758]\n",
      " [-0.30668347  0.11045823]\n",
      " [ 0.07554066  0.02636524]\n",
      " [-0.32613263  0.1374056 ]\n",
      " [-0.36861022  0.08064016]\n",
      " [-0.29669651  0.26676921]]\n"
     ]
    }
   ],
   "source": [
    "# Creating a w matrix\n",
    "w = np.hstack((eigen_pairs[0][1][:,np.newaxis],\n",
    "              eigen_pairs[1][1][:, np.newaxis]))\n",
    "print('Matrix W: \\n', w)"
   ]
  },
  {
   "cell_type": "code",
   "execution_count": 38,
   "metadata": {
    "collapsed": true
   },
   "outputs": [],
   "source": [
    "# np.matmul(X_train_std, w).shape\n",
    "X_train_pca = X_train_std.dot(w)"
   ]
  },
  {
   "cell_type": "code",
   "execution_count": 40,
   "metadata": {},
   "outputs": [
    {
     "data": {
      "image/png": "[encoded data removed]",
      "text/plain": [
       "<matplotlib.figure.Figure at 0x7fa2a05edc50>"
      ]
     },
     "metadata": {},
     "output_type": "display_data"
    }
   ],
   "source": [
    "colors = ['r','b','g']\n",
    "markers = ['o','x','s']\n",
    "for l, c, m in zip(np.unique(y_train), colors, markers):\n",
    "    plt.scatter(X_train_pca[y_train == l, 0],\n",
    "                X_train_pca[y_train == l, 1],\n",
    "               c=c, label=l, marker =m)\n",
    "plt.xlabel('PC 1')\n",
    "plt.ylabel('PC 2')\n",
    "plt.legend(loc='best')\n",
    "plt.show()"
   ]
  },
  {
   "cell_type": "markdown",
   "metadata": {},
   "source": [
    "- We can see in the plot, the data is more spread along the x-axis -the first principal component - than the second principal component (y-axis), which is consistent with the explained variance ratio plot."
   ]
  },
  {
   "cell_type": "markdown",
   "metadata": {},
   "source": [
    "### Principal Component Analysis in scikit-learn"
   ]
  },
  {
   "cell_type": "code",
   "execution_count": 50,
   "metadata": {
    "collapsed": true
   },
   "outputs": [],
   "source": [
    "import sys\n",
    "sys.path.append('/home/amit/Documents/ML/python_ML_RASCHKA/chap2/')\n",
    "\n",
    "from utilities import plot_decision_regions"
   ]
  },
  {
   "cell_type": "code",
   "execution_count": 58,
   "metadata": {
    "collapsed": true
   },
   "outputs": [],
   "source": [
    "from sklearn.linear_model import LogisticRegression\n",
    "from sklearn.decomposition import PCA\n",
    "pca = PCA(n_components=2)\n",
    "lr = LogisticRegression()\n",
    "X_train_pca = pca.fit_transform(X_train_std)\n",
    "X_test_pca = pca.transform(X_test_std)"
   ]
  },
  {
   "cell_type": "code",
   "execution_count": 59,
   "metadata": {},
   "outputs": [
    {
     "data": {
      "text/plain": [
       "LogisticRegression(C=1.0, class_weight=None, dual=False, fit_intercept=True,\n",
       "          intercept_scaling=1, max_iter=100, multi_class='ovr', n_jobs=1,\n",
       "          penalty='l2', random_state=None, solver='liblinear', tol=0.0001,\n",
       "          verbose=0, warm_start=False)"
      ]
     },
     "execution_count": 59,
     "metadata": {},
     "output_type": "execute_result"
    }
   ],
   "source": [
    "lr.fit(X_train_pca,y_train)"
   ]
  },
  {
   "cell_type": "code",
   "execution_count": 60,
   "metadata": {},
   "outputs": [
    {
     "data": {
      "image/png": "[encoded data removed]",
      "text/plain": [
       "<matplotlib.figure.Figure at 0x7fa29f6a8da0>"
      ]
     },
     "metadata": {},
     "output_type": "display_data"
    }
   ],
   "source": [
    "plot_decision_regions(X_train_pca,y_train, classifier=lr)\n",
    "plt.xlabel('PC 1')\n",
    "plt.ylabel('PC 2')\n",
    "plt.legend(loc='lower left')\n",
    "plt.show()"
   ]
  },
  {
   "cell_type": "code",
   "execution_count": 61,
   "metadata": {},
   "outputs": [
    {
     "data": {
      "image/png": "[encoded data removed]",
      "text/plain": [
       "<matplotlib.figure.Figure at 0x7fa29c788cf8>"
      ]
     },
     "metadata": {},
     "output_type": "display_data"
    }
   ],
   "source": [
    "plot_decision_regions(X_test_pca,y_test, classifier=lr)\n",
    "plt.xlabel('PC 1')\n",
    "plt.ylabel('PC 2')\n",
    "plt.legend(loc='lower left')\n",
    "plt.show()"
   ]
  },
  {
   "cell_type": "markdown",
   "metadata": {
    "collapsed": true
   },
   "source": [
    " "
   ]
  },
  {
   "cell_type": "markdown",
   "metadata": {
    "collapsed": true
   },
   "source": [
    "- If we are interested in the explained variance ratios of the different principal components, we can simply intialize the PCA with the _n_components_ paramert set to _None_, so all principal components are kept."
   ]
  },
  {
   "cell_type": "code",
   "execution_count": 66,
   "metadata": {},
   "outputs": [
    {
     "data": {
      "text/plain": [
       "array([ 0.36951469,  0.18434927,  0.11815159,  0.07334252,  0.06422108,\n",
       "        0.05051724,  0.03954654,  0.02643918,  0.02389319,  0.01629614,\n",
       "        0.01380021,  0.01172226,  0.00820609])"
      ]
     },
     "execution_count": 66,
     "metadata": {},
     "output_type": "execute_result"
    }
   ],
   "source": [
    "pca = PCA(n_components=None)\n",
    "X_train_pca = pca.fit(X_train_std)\n",
    "pca.explained_variance_ratio_"
   ]
  },
  {
   "cell_type": "code",
   "execution_count": null,
   "metadata": {
    "collapsed": true
   },
   "outputs": [],
   "source": []
  },
  {
   "cell_type": "code",
   "execution_count": null,
   "metadata": {
    "collapsed": true
   },
   "outputs": [],
   "source": []
  }
 ],
 "metadata": {
  "kernelspec": {
   "display_name": "Python 3",
   "language": "python",
   "name": "python3"
  },
  "language_info": {
   "codemirror_mode": {
    "name": "ipython",
    "version": 3
   },
   "file_extension": ".py",
   "mimetype": "text/x-python",
   "name": "python",
   "nbconvert_exporter": "python",
   "pygments_lexer": "ipython3",
   "version": "3.6.2"
  }
 },
 "nbformat": 4,
 "nbformat_minor": 2
}
