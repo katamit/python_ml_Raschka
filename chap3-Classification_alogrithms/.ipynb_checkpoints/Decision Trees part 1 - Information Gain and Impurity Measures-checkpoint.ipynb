{
 "cells": [
  {
   "cell_type": "markdown",
   "metadata": {},
   "source": [
    "- Decision Tree classifiers are attractive models if we care about interpretability.\n",
    "- Based on the features in our training data, decision tree model learns a series of questions to infer the class labels of the samples.\n",
    "\n",
    "- <p style='color:blue;font-size:16px;'>Using the decision tree algorithm we start at the tree root, and split the data on the feature that results in the largest __Information Gain(IG)__.</p>\n",
    "- In an iterative process, we can then repeat this splitting procedure at each child node until the leaves are pure.\n",
    "- In practice, this can result in a very deep tree with many nodes, which can easily lead to __overfitting__. Thus, we typically want to __prune__ the tree by setting a max depth limit."
   ]
  },
  {
   "cell_type": "markdown",
   "metadata": {},
   "source": [
    "### Maximizing the Information Gain -- getting the most bang for your buck"
   ]
  },
  {
   "cell_type": "markdown",
   "metadata": {},
   "source": [
    "In order to split the nodes at the most informative featues, we need to define an objective function that we want to optimize via the tree learning algorithm.<br>\n",
    "Here, our __objective function is to maixmize the infromation gain at each split__, defined as follows:"
   ]
  },
  {
   "cell_type": "markdown",
   "metadata": {},
   "source": [
    "<center >$IG\\left (D_p,f\\right) = I\\left (D_p\\right) - \\sum_{j=1}^{m}\\frac{N_j}{N_p}I\\left(D_j\\right)$</center>\n",
    "\n",
    "Here,<br>\n",
    "f - is the feauture to perform the split<br>\n",
    "$D_p \\space and \\space D_j$ are the dataset of the _parent_ and jth child node<br>\n",
    "I - is the __impurity measure__.<br>\n",
    "$N_p$ is the total number of samples at parent node<br>\n",
    "$N_j$ is the number of samples, in the jth child node."
   ]
  },
  {
   "cell_type": "markdown",
   "metadata": {},
   "source": [
    "__Information Gain__ -- __is simply the difference between the impurity of the parent node and the sum of the child node impurities.__\n",
    "- The lower the impurity of the child nodes, the larger the Information Gain(IG)"
   ]
  },
  {
   "cell_type": "markdown",
   "metadata": {},
   "source": [
    "For simplicity, and to reduce the combinatorial search space, most libaries(including scikit-learn) implement binary decision trees. This means each node is split two child nodes, $D_{left}$ and $D_{right}$:"
   ]
  },
  {
   "cell_type": "markdown",
   "metadata": {},
   "source": [
    "<center style='color:blue;font-size:16px;'>$IG\\left (D_p,f\\right) = I\\left (D_p\\right) - \\frac{N_{left}}{N_p}I\\left(D_{left}\\right) - \\frac{N_{right}}{N_p}I\\left(D_{right}\\right)$</center>\n"
   ]
  },
  {
   "cell_type": "markdown",
   "metadata": {},
   "source": [
    " "
   ]
  },
  {
   "cell_type": "markdown",
   "metadata": {},
   "source": [
    "Now, the three measures or __splitting criteria__ that are commonly used in binary decision trees are <br>\n",
    "\n",
    "- __Gini Impurity($I_G$),__ <br>\n",
    "- __Entropy($I_H$),__ and the <br>\n",
    "- __Classification error($I_E$)__. "
   ]
  },
  {
   "cell_type": "markdown",
   "metadata": {},
   "source": [
    "### Entropy"
   ]
  },
  {
   "cell_type": "markdown",
   "metadata": {},
   "source": [
    "<center>$ I_H(t) = - \\sum_{i=1}^{c}p\\left(i|t\\right)\\log_2p\\left(i|t\\right)$</center><br>\n",
    "Here , $p\\left(i|t\\right)$ is the __proportion of the samples that belongs to class c for a particular node t.__\n",
    "- __Note:__ Entropy is therefore maximal if we have a uniform class distribution and 0 if all the samples at a node belongs to the same class.\n",
    "\n",
    "Therefore, we can say __entropy criterion attempts to maximize the mutual information in the tree.__"
   ]
  },
  {
   "cell_type": "markdown",
   "metadata": {},
   "source": [
    " "
   ]
  },
  {
   "cell_type": "markdown",
   "metadata": {},
   "source": [
    "### Gini\n",
    "the Gini impurity can be understood __as a criterion to minimize the probability of misclassification:__"
   ]
  },
  {
   "cell_type": "markdown",
   "metadata": {},
   "source": [
    "<center>$I_G(t) = \\sum_{i=1}^{c}p\\left(i|t\\right)\\left(1-p\\left(i|t\\right)\\right) \\space = \\space 1 - \\sum_{i=1}^{c}p\\left(i|t\\right)^2$</center>\n",
    "<br>similary, to entropy, the __Gini impurity is maximal if the classes are perfectly mixed__"
   ]
  },
  {
   "cell_type": "markdown",
   "metadata": {},
   "source": [
    "__Note:__ <p style='color:blue;font-size:16px;'>in practice both Gini impurity and entropy typically yield very similar results, and it is often not worth spending much time on evaluation tree using differnt impurity criteria rather than experimenting with different pruning cut-offs<p>"
   ]
  },
  {
   "cell_type": "markdown",
   "metadata": {},
   "source": [
    "### Classification Error"
   ]
  },
  {
   "cell_type": "markdown",
   "metadata": {},
   "source": [
    "<center>$I_E = 1 - max \\{ \\space p (i|t)  \\space \\}$ <c/enter>"
   ]
  },
  {
   "cell_type": "markdown",
   "metadata": {},
   "source": [
    " \n",
    " \n",
    " \n",
    " "
   ]
  },
  {
   "cell_type": "markdown",
   "metadata": {},
   "source": [
    "- Let us plot the impurity indices for the probability range [0,1] for class 1."
   ]
  },
  {
   "cell_type": "code",
   "execution_count": 1,
   "metadata": {
    "collapsed": true
   },
   "outputs": [],
   "source": [
    "import matplotlib.pyplot as plt\n",
    "import numpy as np"
   ]
  },
  {
   "cell_type": "code",
   "execution_count": 2,
   "metadata": {
    "collapsed": true
   },
   "outputs": [],
   "source": [
    "def gini(p):\n",
    "    return (p*(1-p)) + (1-p)*(1-(1-p))"
   ]
  },
  {
   "cell_type": "code",
   "execution_count": 3,
   "metadata": {
    "collapsed": true
   },
   "outputs": [],
   "source": [
    "def entropy(p):\n",
    "    return -p*np.log2(p) - (1-p)*np.log2((1-p))"
   ]
  },
  {
   "cell_type": "code",
   "execution_count": 31,
   "metadata": {
    "collapsed": true
   },
   "outputs": [],
   "source": [
    "def error(p):\n",
    "    return 1- np.max([p, (1-p)])"
   ]
  },
  {
   "cell_type": "code",
   "execution_count": 32,
   "metadata": {
    "collapsed": true
   },
   "outputs": [],
   "source": [
    "x = np.arange(0.0, 1.0, 0.01)"
   ]
  },
  {
   "cell_type": "code",
   "execution_count": 33,
   "metadata": {
    "collapsed": true
   },
   "outputs": [],
   "source": [
    "ent = [ entropy(p) if p != 0 else None for p in x]\n",
    "scaled_ent = [e*0.5 if e else None for e in ent]\n",
    "err = [error(i) for i in x]"
   ]
  },
  {
   "cell_type": "code",
   "execution_count": 54,
   "metadata": {
    "collapsed": true
   },
   "outputs": [],
   "source": [
    "fig = plt.figure()\n",
    "ax = plt.subplot(111)"
   ]
  },
  {
   "cell_type": "code",
   "execution_count": 47,
   "metadata": {
    "collapsed": true
   },
   "outputs": [],
   "source": [
    "for i, lab, ls, c in zip([ent, scaled_ent,gini(x),err],\n",
    "                      ['Entropy', 'Scaled[Entorpy]','Gini Impurity', 'Classification error'],\n",
    "                      ['-','-','--','-.'],\n",
    "                      ['black','lightgray','red','green']):\n",
    "    line = ax.plot(x, i, label=lab, linestyle=ls, lw=2, color=c)"
   ]
  },
  {
   "cell_type": "code",
   "execution_count": null,
   "metadata": {
    "collapsed": true
   },
   "outputs": [],
   "source": []
  },
  {
   "cell_type": "code",
   "execution_count": 7,
   "metadata": {},
   "outputs": [
    {
     "data": {
      "text/plain": [
       "(100,)"
      ]
     },
     "execution_count": 7,
     "metadata": {},
     "output_type": "execute_result"
    }
   ],
   "source": [
    "x.shape"
   ]
  },
  {
   "cell_type": "code",
   "execution_count": 48,
   "metadata": {},
   "outputs": [
    {
     "data": {
      "text/plain": [
       "<matplotlib.legend.Legend at 0x7f5b3809d438>"
      ]
     },
     "execution_count": 48,
     "metadata": {},
     "output_type": "execute_result"
    }
   ],
   "source": [
    "ax.legend(loc='upper center', bbox_to_anchor= (0.5,1.15), \n",
    "         ncol=5, fancybox=True, shadow=False)"
   ]
  },
  {
   "cell_type": "code",
   "execution_count": 49,
   "metadata": {},
   "outputs": [
    {
     "data": {
      "text/plain": [
       "<matplotlib.lines.Line2D at 0x7f5b37e2b6a0>"
      ]
     },
     "execution_count": 49,
     "metadata": {},
     "output_type": "execute_result"
    }
   ],
   "source": [
    "ax.axhline(y=0.5, linewidth=1, color='k', linestyle='--')\n",
    "ax.axhline(y=1.0, linewidth=1, color='k', linestyle='--')"
   ]
  },
  {
   "cell_type": "code",
   "execution_count": null,
   "metadata": {
    "collapsed": true
   },
   "outputs": [],
   "source": [
    "plt.subplot()"
   ]
  },
  {
   "cell_type": "code",
   "execution_count": 50,
   "metadata": {},
   "outputs": [
    {
     "data": {
      "image/png": "[encoded data removed]",
      "text/plain": [
       "<matplotlib.figure.Figure at 0x7f5b37f14048>"
      ]
     },
     "metadata": {},
     "output_type": "display_data"
    }
   ],
   "source": [
    "plt.ylim([0,1.1])\n",
    "plt.xlabel('p(i=1)')\n",
    "plt.ylabel('Impurity Index')\n",
    "plt.show()"
   ]
  },
  {
   "cell_type": "markdown",
   "metadata": {},
   "source": [
    "__Note :__ that we have also added a scaled version of the entropy (entropy/2) to observe that the __Gini impurity is an intermediate measure between entropy and the classification error.__"
   ]
  },
  {
   "cell_type": "code",
   "execution_count": null,
   "metadata": {
    "collapsed": true
   },
   "outputs": [],
   "source": []
  },
  {
   "cell_type": "code",
   "execution_count": null,
   "metadata": {
    "collapsed": true
   },
   "outputs": [],
   "source": []
  },
  {
   "cell_type": "markdown",
   "metadata": {},
   "source": [
    "\n",
    "Q - what is the range of Entropy, gini Index<br>\n",
    "Q - difference between Entory and gini impurity. <br>\n",
    "Q - When to use gini impurity and when to use entropy"
   ]
  }
 ],
 "metadata": {
  "kernelspec": {
   "display_name": "Python 3",
   "language": "python",
   "name": "python3"
  },
  "language_info": {
   "codemirror_mode": {
    "name": "ipython",
    "version": 3
   },
   "file_extension": ".py",
   "mimetype": "text/x-python",
   "name": "python",
   "nbconvert_exporter": "python",
   "pygments_lexer": "ipython3",
   "version": "3.6.2"
  }
 },
 "nbformat": 4,
 "nbformat_minor": 2
}
