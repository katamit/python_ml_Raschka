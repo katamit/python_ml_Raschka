{
 "cells": [
  {
   "cell_type": "markdown",
   "metadata": {},
   "source": [
    "- __Logistic Regression__ is a __probabilistic classification algorithm__ that performs very well on __linearly separable__ classes\n",
    "- Logistic Regression is a linear model for _binary classification_ that can be extended to multiclass classification for ex via OVR or OVA"
   ]
  },
  {
   "cell_type": "markdown",
   "metadata": {},
   "source": [
    "- __odds ratio :__ the odds in favor of a particular event\n",
    "<center>$\\frac{p}{1-p}$</center><br>\n",
    "_where p stands for the probability of the positive event_\n"
   ]
  },
  {
   "cell_type": "markdown",
   "metadata": {},
   "source": [
    "__logit__ function, can be further defined as\n",
    "<center> _logit(p)_ = $\\log\\frac{p}{1-p}$\n"
   ]
  },
  {
   "cell_type": "markdown",
   "metadata": {},
   "source": [
    "The __logit__ function takes value in the range 0 and 1 and transfromm them to values over the entire real-number range, __which we can use to express a linear relationship between feature values and the log-odds__"
   ]
  },
  {
   "cell_type": "markdown",
   "metadata": {},
   "source": [
    "We are actually interesed in predicting the probability that a certain sample belongs to a particular class, which __is the inverse form of _logit_ function__.\n",
    "- It is also called ___LOGISTIC SIGMOID FUNCTION___ , sometimes abbreviated as ___sigmoid function___<br>\n",
    "<center>$\\phi\\left( z \\right) = \\frac {1} {1 + e^{-z}} $ </center><br>\n",
    "_Here_, z is the net input, the linear commbination of weights and sample features,<br>\n",
    "<center>z = $w^Tx = w_0x_0 + w_1x_1 + w_2x_2 + ... + w_nx_n$</center><br>\n",
    "_Note :_ $w_0$ refers to bias unit, and  is an additional input value that we provide $x_0$, which is set to 1."
   ]
  },
  {
   "cell_type": "markdown",
   "metadata": {},
   "source": [
    "![Logistic Regression ](logistic.png)"
   ]
  },
  {
   "cell_type": "markdown",
   "metadata": {},
   "source": [
    "![Linear Regression vs Adaline](linear-vs-adaline.png)"
   ]
  },
  {
   "cell_type": "code",
   "execution_count": 1,
   "metadata": {
    "collapsed": true
   },
   "outputs": [],
   "source": [
    "# Lets plot the sigmoid function\n",
    "\n",
    "import matplotlib.pyplot as plt\n",
    "import numpy as np\n",
    "\n",
    "%matplotlib inline"
   ]
  },
  {
   "cell_type": "code",
   "execution_count": 2,
   "metadata": {
    "collapsed": true
   },
   "outputs": [],
   "source": [
    "def sigmoid(z):\n",
    "    return 1.0/(1.0 + np.exp(-z))"
   ]
  },
  {
   "cell_type": "code",
   "execution_count": 3,
   "metadata": {
    "collapsed": true
   },
   "outputs": [],
   "source": [
    "z = np.arange(-7,7,0.1)\n",
    "phi_z = sigmoid(z)"
   ]
  },
  {
   "cell_type": "code",
   "execution_count": 4,
   "metadata": {},
   "outputs": [
    {
     "data": {
      "image/png": "[encoded data removed]",
      "text/plain": [
       "<matplotlib.figure.Figure at 0x7f1920aa7e10>"
      ]
     },
     "metadata": {},
     "output_type": "display_data"
    }
   ],
   "source": [
    "plt.plot(z,phi_z)\n",
    "plt.axvline(0.0, color='k')\n",
    "plt.ylim(-0.1, 1.1)\n",
    "plt.xlabel('z')\n",
    "plt.ylabel('$\\phi (z) $')\n",
    "plt.title('SIGMOID FUNCTION')\n",
    "# y axis ticks and gridline\n",
    "plt.yticks([0.0,0.5,1.0])\n",
    "ax = plt.gca()\n",
    "ax.yaxis.grid(True)\n",
    "plt.show()"
   ]
  },
  {
   "cell_type": "markdown",
   "metadata": {
    "collapsed": true
   },
   "source": [
    "_Loss function_ for the logistic regression\n",
    "<center>$J\\left(w\\right ) = \\sum_{i=1}^{n} \\left[ - y^{(i)} \\log \\left(\\phi \\left(z^{(i)}\\right)  \\right)  \n",
    "- \\left( 1 - y^{(i)}\\right) \\log \\left( 1-\\phi \\left(z^{(i)}\\right)  \\right) \\right]$</center>"
   ]
  },
  {
   "cell_type": "code",
   "execution_count": 5,
   "metadata": {
    "collapsed": true
   },
   "outputs": [],
   "source": [
    "def cost_1(z):\n",
    "    return -np.log(sigmoid(z))\n",
    "\n",
    "def cost_0(z):\n",
    "    return -np.log(1-sigmoid(z))"
   ]
  },
  {
   "cell_type": "code",
   "execution_count": 6,
   "metadata": {
    "collapsed": true
   },
   "outputs": [],
   "source": [
    "z = np.arange(-10, 10, 0.1)\n",
    "phi_z = sigmoid(z)"
   ]
  },
  {
   "cell_type": "code",
   "execution_count": 7,
   "metadata": {},
   "outputs": [
    {
     "data": {
      "text/plain": [
       "(200,)"
      ]
     },
     "execution_count": 7,
     "metadata": {},
     "output_type": "execute_result"
    }
   ],
   "source": [
    "z.shape"
   ]
  },
  {
   "cell_type": "code",
   "execution_count": 8,
   "metadata": {},
   "outputs": [
    {
     "data": {
      "image/png": "[encoded data removed]",
      "text/plain": [
       "<matplotlib.figure.Figure at 0x7f191e0bff28>"
      ]
     },
     "metadata": {},
     "output_type": "display_data"
    }
   ],
   "source": [
    "c1 = [cost_1(x) for x in z]\n",
    "plt.plot(phi_z, c1, label= 'j(w) if y = 1')\n",
    "c0 = [cost_0(x) for x in z]\n",
    "plt.plot(phi_z, c0, linestyle = '--',label= 'j(w) if y = 0')\n",
    "plt.xlim((0,1))\n",
    "plt.ylim((0,5.1))\n",
    "plt.xlabel('$\\phi(z)$')\n",
    "plt.ylabel('J(w)')\n",
    "plt.legend(loc = 'best')\n",
    "plt.show()"
   ]
  },
  {
   "cell_type": "code",
   "execution_count": null,
   "metadata": {
    "collapsed": true
   },
   "outputs": [],
   "source": []
  },
  {
   "cell_type": "code",
   "execution_count": 9,
   "metadata": {
    "collapsed": true
   },
   "outputs": [],
   "source": [
    "# import LogistcRegressionGD"
   ]
  },
  {
   "cell_type": "code",
   "execution_count": 10,
   "metadata": {
    "collapsed": true
   },
   "outputs": [],
   "source": [
    "# from imp import reload\n",
    "# reload(LogistcRegressionGD)"
   ]
  },
  {
   "cell_type": "code",
   "execution_count": null,
   "metadata": {
    "collapsed": true
   },
   "outputs": [],
   "source": [
    "from LogistcRegressionGD import LogisticRegressionGD"
   ]
  },
  {
   "cell_type": "code",
   "execution_count": null,
   "metadata": {
    "collapsed": true
   },
   "outputs": [],
   "source": [
    "from sklearn import datasets\n",
    "\n",
    "iris = datasets.load_iris()\n",
    "X = iris.data[:,[2,3]]\n",
    "Y = iris.target"
   ]
  },
  {
   "cell_type": "code",
   "execution_count": null,
   "metadata": {
    "collapsed": true
   },
   "outputs": [],
   "source": [
    "from sklearn.model_selection import train_test_split\n",
    "X_train, X_test, Y_train, Y_test = train_test_split(X,Y, test_size=0.3,  random_state=1, stratify=Y)"
   ]
  },
  {
   "cell_type": "code",
   "execution_count": null,
   "metadata": {
    "collapsed": true
   },
   "outputs": [],
   "source": [
    "from sklearn.preprocessing import StandardScaler\n",
    "\n",
    "sc = StandardScaler()\n",
    "sc.fit(X_train)"
   ]
  },
  {
   "cell_type": "code",
   "execution_count": 11,
   "metadata": {
    "collapsed": true
   },
   "outputs": [],
   "source": [
    "X_train = sc.transform(X_train)\n",
    "X_test = sc.transform(X_test)"
   ]
  },
  {
   "cell_type": "code",
   "execution_count": 12,
   "metadata": {
    "collapsed": true
   },
   "outputs": [],
   "source": [
    "from sklearn import datasets"
   ]
  },
  {
   "cell_type": "code",
   "execution_count": 13,
   "metadata": {
    "collapsed": true
   },
   "outputs": [],
   "source": [
    "iris = datasets.load_iris()\n",
    "X = iris.data[:,[2,3]]\n",
    "Y = iris.target"
   ]
  },
  {
   "cell_type": "code",
   "execution_count": 14,
   "metadata": {
    "collapsed": true
   },
   "outputs": [],
   "source": [
    "from sklearn.model_selection import train_test_split\n",
    "X_train, X_test, Y_train, Y_test = train_test_split(X,Y, test_size=0.3,  random_state=1, stratify=Y)"
   ]
  },
  {
   "cell_type": "code",
   "execution_count": 15,
   "metadata": {
    "collapsed": true
   },
   "outputs": [],
   "source": [
    "from sklearn.preprocessing import StandardScaler"
   ]
  },
  {
   "cell_type": "code",
   "execution_count": 16,
   "metadata": {},
   "outputs": [
    {
     "data": {
      "text/plain": [
       "StandardScaler(copy=True, with_mean=True, with_std=True)"
      ]
     },
     "execution_count": 16,
     "metadata": {},
     "output_type": "execute_result"
    }
   ],
   "source": [
    "sc = StandardScaler()\n",
    "sc.fit(X_train)"
   ]
  },
  {
   "cell_type": "code",
   "execution_count": 17,
   "metadata": {
    "collapsed": true
   },
   "outputs": [],
   "source": [
    "X_train = sc.transform(X_train)\n",
    "X_test = sc.transform(X_test)"
   ]
  },
  {
   "cell_type": "markdown",
   "metadata": {
    "collapsed": true
   },
   "source": [
    "when we train logistic Regression we have to keep in mind that it only work for binary classification tasks, so let us consider only _Iris_setosa_ and _Iris_versicolor_ (classes 0 and 1)"
   ]
  },
  {
   "cell_type": "code",
   "execution_count": 18,
   "metadata": {
    "collapsed": true
   },
   "outputs": [],
   "source": [
    "X_train_01_subset = X_train[(Y_train == 0) | (Y_train == 1)]\n",
    "Y_train_01_subset = Y_train[(Y_train == 0) | (Y_train == 1)]\n",
    "\n",
    "X_test_01_subset = X_test[(Y_test == 0) | (Y_test == 1)]\n",
    "Y_test_01_subset = Y_test[(Y_test == 0) | (Y_test == 1)]"
   ]
  },
  {
   "cell_type": "code",
   "execution_count": 19,
   "metadata": {
    "collapsed": true
   },
   "outputs": [],
   "source": [
    "lrgd = LogisticRegressionGD(eta = 0.01, n_iter= 100, random_state=4)"
   ]
  },
  {
   "cell_type": "code",
   "execution_count": 20,
   "metadata": {},
   "outputs": [
    {
     "name": "stdout",
     "output_type": "stream",
     "text": [
      "iteration : 0 and cost : 48.410970878639986\n",
      "iteration : 1 and cost : 64.08728479228928\n",
      "iteration : 2 and cost : 90.19366965412193\n",
      "iteration : 3 and cost : 128.9307957571167\n",
      "iteration : 4 and cost : 176.82446654532927\n",
      "iteration : 5 and cost : 228.92290690139575\n",
      "iteration : 6 and cost : 282.7325421826587\n",
      "iteration : 7 and cost : 337.39732958432086\n",
      "iteration : 8 and cost : 392.6115886154284\n",
      "iteration : 9 and cost : 448.2306519791031\n",
      "iteration : 10 and cost : 504.16418550163115\n",
      "iteration : 11 and cost : 560.347073656439\n",
      "iteration : 12 and cost : 616.7298618460317\n",
      "iteration : 13 and cost : 673.2743295420253\n",
      "iteration : 14 and cost : 729.9507123558265\n",
      "iteration : 15 and cost : 786.7356924449551\n",
      "iteration : 16 and cost : 843.6108801089869\n",
      "iteration : 17 and cost : 900.5616970168787\n",
      "iteration : 18 and cost : 957.5764123347415\n",
      "iteration : 19 and cost : 1014.6459484852892\n",
      "iteration : 20 and cost : 1071.7661952869248\n",
      "iteration : 21 and cost : 1128.931256378592\n",
      "iteration : 22 and cost : 1186.0397928466978\n",
      "iteration : 23 and cost : 1243.1933113796304\n",
      "iteration : 24 and cost : inf\n",
      "iteration : 25 and cost : inf\n",
      "iteration : 26 and cost : inf\n",
      "iteration : 27 and cost : inf\n",
      "iteration : 28 and cost : inf\n",
      "iteration : 29 and cost : inf\n",
      "iteration : 30 and cost : inf\n",
      "iteration : 31 and cost : inf\n",
      "iteration : 32 and cost : inf\n",
      "iteration : 33 and cost : inf\n",
      "iteration : 34 and cost : inf\n",
      "iteration : 35 and cost : inf\n",
      "iteration : 36 and cost : inf\n",
      "iteration : 37 and cost : inf\n",
      "iteration : 38 and cost : inf\n",
      "iteration : 39 and cost : inf\n",
      "iteration : 40 and cost : inf\n",
      "iteration : 41 and cost : inf\n",
      "iteration : 42 and cost : inf\n",
      "iteration : 43 and cost : inf\n",
      "iteration : 44 and cost : inf\n",
      "iteration : 45 and cost : inf\n",
      "iteration : 46 and cost : inf\n",
      "iteration : 47 and cost : inf\n",
      "iteration : 48 and cost : inf\n",
      "iteration : 49 and cost : inf\n",
      "iteration : 50 and cost : inf\n",
      "iteration : 51 and cost : inf\n",
      "iteration : 52 and cost : inf\n",
      "iteration : 53 and cost : inf\n",
      "iteration : 54 and cost : inf\n",
      "iteration : 55 and cost : inf\n",
      "iteration : 56 and cost : inf\n",
      "iteration : 57 and cost : inf\n",
      "iteration : 58 and cost : inf\n",
      "iteration : 59 and cost : inf\n",
      "iteration : 60 and cost : inf\n",
      "iteration : 61 and cost : inf\n",
      "iteration : 62 and cost : inf\n",
      "iteration : 63 and cost : inf\n",
      "iteration : 64 and cost : inf\n",
      "iteration : 65 and cost : inf\n",
      "iteration : 66 and cost : inf\n",
      "iteration : 67 and cost : inf\n",
      "iteration : 68 and cost : inf\n",
      "iteration : 69 and cost : inf\n",
      "iteration : 70 and cost : inf\n",
      "iteration : 71 and cost : inf\n",
      "iteration : 72 and cost : inf\n",
      "iteration : 73 and cost : inf\n",
      "iteration : 74 and cost : inf\n",
      "iteration : 75 and cost : inf\n",
      "iteration : 76 and cost : inf\n",
      "iteration : 77 and cost : inf\n",
      "iteration : 78 and cost : inf\n",
      "iteration : 79 and cost : inf\n",
      "iteration : 80 and cost : inf\n",
      "iteration : 81 and cost : inf\n",
      "iteration : 82 and cost : inf\n",
      "iteration : 83 and cost : inf\n",
      "iteration : 84 and cost : inf\n",
      "iteration : 85 and cost : inf\n",
      "iteration : 86 and cost : inf\n",
      "iteration : 87 and cost : inf\n",
      "iteration : 88 and cost : inf\n",
      "iteration : 89 and cost : inf\n",
      "iteration : 90 and cost : inf\n",
      "iteration : 91 and cost : inf\n",
      "iteration : 92 and cost : inf\n",
      "iteration : 93 and cost : inf\n",
      "iteration : 94 and cost : inf\n",
      "iteration : 95 and cost : nan\n",
      "iteration : 96 and cost : nan\n",
      "iteration : 97 and cost : nan\n",
      "iteration : 98 and cost : nan\n",
      "iteration : 99 and cost : nan\n"
     ]
    },
    {
     "name": "stderr",
     "output_type": "stream",
     "text": [
      "/home/amit/Documents/ML/python_ML_RASCHKA/chap3/LogistcRegressionGD.py:67: RuntimeWarning: divide by zero encountered in log\n",
      "  cost = (-y.dot(np.log(output)) - ((1-y).dot(np.log(1-output))))\n"
     ]
    },
    {
     "data": {
      "text/plain": [
       "<LogistcRegressionGD.LogisticRegressionGD at 0x7f191e0bea90>"
      ]
     },
     "execution_count": 20,
     "metadata": {},
     "output_type": "execute_result"
    }
   ],
   "source": [
    "lrgd.fit(X_train_01_subset, Y_train_01_subset)"
   ]
  },
  {
   "cell_type": "code",
   "execution_count": 21,
   "metadata": {
    "collapsed": true
   },
   "outputs": [],
   "source": [
    "import sys\n",
    "\n",
    "sys.path.append('/home/amit/Documents/ML/python_ML_RASCHKA/chap2/')"
   ]
  },
  {
   "cell_type": "code",
   "execution_count": 22,
   "metadata": {
    "collapsed": true
   },
   "outputs": [],
   "source": [
    "from utilities import plot_decision_regions"
   ]
  },
  {
   "cell_type": "code",
   "execution_count": 23,
   "metadata": {},
   "outputs": [
    {
     "data": {
      "image/png": "[encoded data removed]",
      "text/plain": [
       "<matplotlib.figure.Figure at 0x7f1914476358>"
      ]
     },
     "metadata": {},
     "output_type": "display_data"
    }
   ],
   "source": [
    "plot_decision_regions(X = X_test_01_subset, y=Y_test_01_subset, classifier=lrgd)\n",
    "plt.xlabel('petal length [standardized]')\n",
    "plt.ylabel('petal width [standardized]')\n",
    "plt.legend(loc ='best')\n",
    "plt.show()"
   ]
  },
  {
   "cell_type": "markdown",
   "metadata": {},
   "source": [
    "#### Training a logistic regression with scikit- learn"
   ]
  },
  {
   "cell_type": "code",
   "execution_count": 24,
   "metadata": {
    "collapsed": true
   },
   "outputs": [],
   "source": [
    "X_train, X_test, Y_train, Y_test = train_test_split(X,Y, test_size=0.3,  random_state=1, stratify=Y)"
   ]
  },
  {
   "cell_type": "code",
   "execution_count": 25,
   "metadata": {},
   "outputs": [
    {
     "data": {
      "text/plain": [
       "StandardScaler(copy=True, with_mean=True, with_std=True)"
      ]
     },
     "execution_count": 25,
     "metadata": {},
     "output_type": "execute_result"
    }
   ],
   "source": [
    "sc.fit(X_train)"
   ]
  },
  {
   "cell_type": "code",
   "execution_count": 26,
   "metadata": {
    "collapsed": true
   },
   "outputs": [],
   "source": [
    "X_train_std = sc.transform(X_train)\n",
    "X_test_std = sc.transform(X_test)"
   ]
  },
  {
   "cell_type": "code",
   "execution_count": 27,
   "metadata": {
    "collapsed": true
   },
   "outputs": [],
   "source": [
    "X_combined_std = np.vstack((X_train_std,X_test_std))\n",
    "Y_combined = np.hstack((Y_train,Y_test))"
   ]
  },
  {
   "cell_type": "code",
   "execution_count": 28,
   "metadata": {
    "collapsed": true
   },
   "outputs": [],
   "source": [
    "from sklearn.linear_model import LogisticRegression"
   ]
  },
  {
   "cell_type": "code",
   "execution_count": 29,
   "metadata": {
    "collapsed": true
   },
   "outputs": [],
   "source": [
    "lr = LogisticRegression(C=100.0, random_state=1,verbose=10)"
   ]
  },
  {
   "cell_type": "code",
   "execution_count": 30,
   "metadata": {},
   "outputs": [
    {
     "name": "stdout",
     "output_type": "stream",
     "text": [
      "[LibLinear]"
     ]
    },
    {
     "data": {
      "text/plain": [
       "LogisticRegression(C=100.0, class_weight=None, dual=False, fit_intercept=True,\n",
       "          intercept_scaling=1, max_iter=100, multi_class='ovr', n_jobs=1,\n",
       "          penalty='l2', random_state=1, solver='liblinear', tol=0.0001,\n",
       "          verbose=10, warm_start=False)"
      ]
     },
     "execution_count": 30,
     "metadata": {},
     "output_type": "execute_result"
    }
   ],
   "source": [
    "lr.fit(X_combined_std,Y_combined)"
   ]
  },
  {
   "cell_type": "code",
   "execution_count": 31,
   "metadata": {
    "collapsed": true
   },
   "outputs": [],
   "source": [
    "# lr."
   ]
  },
  {
   "cell_type": "code",
   "execution_count": 32,
   "metadata": {},
   "outputs": [
    {
     "data": {
      "image/png": "[encoded data removed]",
      "text/plain": [
       "<matplotlib.figure.Figure at 0x7f1911b2f780>"
      ]
     },
     "metadata": {},
     "output_type": "display_data"
    }
   ],
   "source": [
    "plot_decision_regions(X=X_combined_std, y=Y_combined, classifier=lr, test_idx=range(105,150))\n",
    "plt.xlabel('petal length [standardized]')\n",
    "plt.ylabel('petal width [standardized]')\n",
    "plt.legend(loc ='lower right')\n",
    "plt.show()"
   ]
  },
  {
   "cell_type": "markdown",
   "metadata": {},
   "source": [
    "##### Predicting the probabilites using logistic regression"
   ]
  },
  {
   "cell_type": "code",
   "execution_count": 33,
   "metadata": {},
   "outputs": [
    {
     "data": {
      "text/plain": [
       "array([[  5.56550430e-09,   1.39942886e-01,   8.60057109e-01],\n",
       "       [  8.41683943e-01,   1.58316057e-01,   3.59974420e-12],\n",
       "       [  8.58128863e-01,   1.41871137e-01,   3.62565681e-13]])"
      ]
     },
     "execution_count": 33,
     "metadata": {},
     "output_type": "execute_result"
    }
   ],
   "source": [
    "pre_pro = lr.predict_proba(X_test_std[:3,:])\n",
    "pre_pro"
   ]
  },
  {
   "cell_type": "code",
   "execution_count": 34,
   "metadata": {},
   "outputs": [
    {
     "data": {
      "text/plain": [
       "array([2, 0, 0])"
      ]
     },
     "execution_count": 34,
     "metadata": {},
     "output_type": "execute_result"
    }
   ],
   "source": [
    "np.argmax(pre_pro, axis=1)"
   ]
  },
  {
   "cell_type": "code",
   "execution_count": 35,
   "metadata": {},
   "outputs": [
    {
     "data": {
      "text/plain": [
       "array([2, 0, 0])"
      ]
     },
     "execution_count": 35,
     "metadata": {},
     "output_type": "execute_result"
    }
   ],
   "source": [
    "lr.predict(X_test_std[:3,:])"
   ]
  },
  {
   "cell_type": "code",
   "execution_count": 36,
   "metadata": {},
   "outputs": [
    {
     "data": {
      "text/plain": [
       "array([2])"
      ]
     },
     "execution_count": 36,
     "metadata": {},
     "output_type": "execute_result"
    }
   ],
   "source": [
    "lr.predict(X_test_std[0,:].reshape(1,-1))"
   ]
  }
 ],
 "metadata": {
  "kernelspec": {
   "display_name": "Python 3",
   "language": "python",
   "name": "python3"
  },
  "language_info": {
   "codemirror_mode": {
    "name": "ipython",
    "version": 3
   },
   "file_extension": ".py",
   "mimetype": "text/x-python",
   "name": "python",
   "nbconvert_exporter": "python",
   "pygments_lexer": "ipython3",
   "version": "3.6.2"
  }
 },
 "nbformat": 4,
 "nbformat_minor": 2
}
