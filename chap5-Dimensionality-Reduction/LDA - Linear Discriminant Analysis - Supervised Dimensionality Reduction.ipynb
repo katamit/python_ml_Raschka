{
 "cells": [
  {
   "cell_type": "markdown",
   "metadata": {},
   "source": [
    "## Linear Discriminant Analysis (LDA)\n",
    "- used as feature extraction technique to increase __computational efficiency__ and __reduce degree of overfitting__ due to curse of dimensionality in non-regularized models.\n",
    "- Where PCA attempt to find the orthogonal component axes of __maximum variance in the dataset__, the __goal__ of __LDA__ is to find the __feature Sub-space that optimizes class separability.__"
   ]
  },
  {
   "cell_type": "markdown",
   "metadata": {},
   "source": [
    "Following figure summarizes the concept of LDA for a two-class problem samples .\n",
    "<br>\n",
    "![lda](lda.png)\n"
   ]
  },
  {
   "cell_type": "markdown",
   "metadata": {},
   "source": [
    "A __linear-Discriminant__, as shown on the x-axis (LD1), would seprate the two normal distributed classes well. \n",
    "- Althought the exemplary Linear discrimanant on y-axis(LD2) caputures a lot of the variance , but it would fail as a good linear discriminant since it does not capture any of the class-discriminatory information."
   ]
  },
  {
   "cell_type": "markdown",
   "metadata": {
    "collapsed": true
   },
   "source": [
    "\n",
    "#### Assumpiton\n",
    "- One assumption in LDA is that the data is __normally distributed__.\n",
    "- Also we assume, that the classes have identical covariance matrices and that the features are statistically independent of each other.\n",
    "\n",
    "However, if one or more of these assumpitons are (slightly) violated, LDA for dimensionality reduction can still work resasonably well."
   ]
  },
  {
   "cell_type": "code",
   "execution_count": null,
   "metadata": {
    "collapsed": true
   },
   "outputs": [],
   "source": []
  },
  {
   "cell_type": "markdown",
   "metadata": {},
   "source": [
    "Let's briefly summarize the __main steps that are required to perform LDA:__\n",
    "1. Standardize the d-dimensional dataset(d is the number of features).\n",
    "2. For ___each class___, comput the _d-dimensonal_ mean vector.\n",
    "3. Construct the between-class scatter matrix <font style='font-size:16px;font-family: cursive;'> $S_B$ </font>and the within class scatter matrix <font style='font-size:16px;font-family: cursive;'> $S_w$.</font>\n",
    "4. Compute the eigenvectors and corresponding eigenvalues of the maxtix <font style='font-size:16px;font-family: cursive;'> $S_w^{-1}S_B$.</font>\n",
    "5. Sort the eigenvalues by decreasing order to rank the corresponding  eigenvectors.\n",
    "6. Choose the _k_ eigenvector corresponding to the k-largest eigenvalues to contruct _dxk_ dimensional transformation matrix __W__; the eigenvectors are the columns of this matrix.\n",
    "\n",
    "7. Project the samples onto the new feature subspace using the transformation matrix __W__"
   ]
  },
  {
   "cell_type": "markdown",
   "metadata": {
    "collapsed": true
   },
   "source": [
    "#### Computing the Scatter matrices\n",
    "\n",
    "Each mean vector ___m___ store the mean feature value $ \\mu_m$ with respect to the samples of class i:\n",
    "\n",
    "<center>$m_i = \\frac {1}{n_i} \\sum^{c}_{x \\in D_i}x_m $</center>"
   ]
  },
  {
   "cell_type": "markdown",
   "metadata": {},
   "source": [
    "<center>$m_i = \\begin{bmatrix} \\mu_{i,alcohol} \\\\ \\mu_{i,malic acid} \\\\ . \\\\ .  \\\\. \\\\ \\mu_{i, proline} \\end{bmatrix} \\space \\space i\n",
    "\\in \\{ 1,2,3 \\}$</center>"
   ]
  },
  {
   "cell_type": "code",
   "execution_count": 11,
   "metadata": {
    "collapsed": true
   },
   "outputs": [],
   "source": [
    "# Loading and Standardizing the data\n",
    "\n",
    "import pandas as pd\n",
    "\n",
    "df_wine = pd.read_csv('https://archive.ics.uci.edu/ml/machine-learning-databases/wine/wine.data',header=None)\n",
    "\n",
    "from sklearn.model_selection import train_test_split\n",
    "X, y = df_wine.iloc[: ,1:].values , df_wine.iloc[:,0].values\n",
    "X_train, X_test, y_train, y_test = train_test_split(X, y, test_size=0.3, random_state=0, stratify=y)\n",
    "\n",
    "from sklearn.preprocessing import StandardScaler\n",
    "sc = StandardScaler()\n",
    "X_train_std = sc.fit_transform(X_train)\n",
    "X_test_std = sc.fit_transform(X_test)"
   ]
  },
  {
   "cell_type": "code",
   "execution_count": 12,
   "metadata": {},
   "outputs": [
    {
     "data": {
      "text/plain": [
       "array([1, 2, 3])"
      ]
     },
     "execution_count": 12,
     "metadata": {},
     "output_type": "execute_result"
    }
   ],
   "source": [
    "np.unique(y_train)"
   ]
  },
  {
   "cell_type": "code",
   "execution_count": 13,
   "metadata": {
    "collapsed": true
   },
   "outputs": [],
   "source": [
    "import numpy as np"
   ]
  },
  {
   "cell_type": "code",
   "execution_count": 14,
   "metadata": {},
   "outputs": [
    {
     "name": "stdout",
     "output_type": "stream",
     "text": [
      "MV 1: [ 0.9066 -0.3497  0.3201 -0.7189  0.5056  0.8807  0.9589 -0.5516  0.5416\n",
      "  0.2338  0.5897  0.6563  1.2075]\n",
      "\n",
      "MV 2: [-0.8749 -0.2848 -0.3735  0.3157 -0.3848 -0.0433  0.0635 -0.0946  0.0703\n",
      " -0.8286  0.3144  0.3608 -0.7253]\n",
      "\n",
      "MV 3: [ 0.1992  0.866   0.1682  0.4148 -0.0451 -1.0286 -1.2876  0.8287 -0.7795\n",
      "  0.9649 -1.209  -1.3622 -0.4013]\n",
      "\n"
     ]
    }
   ],
   "source": [
    "np.set_printoptions(precision=4)\n",
    "mean_vecs = []\n",
    "for label in range(1,4):\n",
    "    mean_vecs.append(np.mean(X_train_std[y_train == label], axis=0))\n",
    "    print('MV %s: %s\\n'%(label, mean_vecs[label-1]))"
   ]
  },
  {
   "cell_type": "markdown",
   "metadata": {
    "collapsed": true
   },
   "source": [
    "Using the above mean vectors, we can now compute the within-class scatter matrix ___$S_w$___:<br><br>\n",
    "<center>$S_w = \\sum_{i=1}^cS_i$</center>\n",
    "\n",
    "<br>\n",
    "<br>\n",
    "This is calculated by summing up the individual sactter matrices $S_i$ of each individual class i:\n",
    "<center>$S_i = \\sum_{x\\in D_i}^c ( x-m_i ) ( x-m_i )^T$</center>"
   ]
  },
  {
   "cell_type": "code",
   "execution_count": 18,
   "metadata": {},
   "outputs": [
    {
     "name": "stdout",
     "output_type": "stream",
     "text": [
      "Within-class scatter matrix : 13x13\n"
     ]
    }
   ],
   "source": [
    "d = 13 # number of features in wine dataset\n",
    "\n",
    "S_W = np.zeros((d,d))\n",
    "for label, mv in zip(range(1,4) , mean_vecs):\n",
    "    class_scatter = np.zeros((d,d))\n",
    "#     print(label)\n",
    "    for row in X_train_std[y_train == label]:\n",
    "#         print(row)\n",
    "        row, mv = row.reshape(d,1), mv.reshape(d,1)\n",
    "        class_scatter += (row - mv).dot((row - mv).T)\n",
    "    S_W += class_scatter\n",
    "    \n",
    "print('Within-class scatter matrix : %sx%s' %(S_W.shape[0], S_W.shape[1]))"
   ]
  },
  {
   "cell_type": "markdown",
   "metadata": {
    "collapsed": true
   },
   "source": [
    "The assmption we are making , when computing scatter matrices is that the class labels in the training set are uniformly distirbuted.\n",
    "However, print the number of class labels, we can see that this assumption is violated:"
   ]
  },
  {
   "cell_type": "code",
   "execution_count": 20,
   "metadata": {},
   "outputs": [
    {
     "name": "stdout",
     "output_type": "stream",
     "text": [
      "Class label distribution :[41 50 33]\n"
     ]
    }
   ],
   "source": [
    "print('Class label distribution :%s' %np.bincount(y_train)[1:])"
   ]
  },
  {
   "cell_type": "markdown",
   "metadata": {
    "collapsed": true
   },
   "source": [
    "As we see, that training set in not uniformly distributed across class labes. Thus, we want to scale the individual scatter matrices __$S_i$__ , before we sum them up as scatter matrix $S_W$. \n",
    "<br>\n",
    "When we divide the scatter matrices by the number of class-samples _n_, we see that computing the scatter matrixx is in fact the same as computing the covariance matrix $\\sum_i$, --- __the covariance matrix is a normalized version of the scatter matrix.__"
   ]
  },
  {
   "cell_type": "markdown",
   "metadata": {
    "collapsed": true
   },
   "source": [
    "<center>$ \\sum_i = \\frac{1}{n_i}S_W = \\frac{1}{n_i}\\sum_{x\\in D_i}^c ( x-m_i ) ( x-m_i )^T$</center>"
   ]
  },
  {
   "cell_type": "code",
   "execution_count": 24,
   "metadata": {},
   "outputs": [
    {
     "name": "stdout",
     "output_type": "stream",
     "text": [
      "Scaled Within-class scatter matrix : 13x13\n"
     ]
    }
   ],
   "source": [
    "d = 13 # number of features in wine dataset\n",
    "\n",
    "S_W = np.zeros((d,d))\n",
    "for label, mv in zip(range(1,4) , mean_vecs):\n",
    "    class_scatter = np.cov(X_train_std[y_train == label].T)\n",
    "    S_W += class_scatter\n",
    "    \n",
    "print('Scaled Within-class scatter matrix : %sx%s' %(S_W.shape[0], S_W.shape[1]))"
   ]
  },
  {
   "cell_type": "markdown",
   "metadata": {
    "collapsed": true
   },
   "source": [
    "After computing the scaled within class scatter matrix, we can move on to __compute the between-class scatter matrix $S_B$:__\n",
    "<center>$S_B = \\sum_{x = i}^c n_i( m_i - m ) ( m_i-m )^T$</center>\n",
    "\n",
    "Here __m__, is the overall mean that is computed, including samples from all classes:"
   ]
  },
  {
   "cell_type": "code",
   "execution_count": 27,
   "metadata": {},
   "outputs": [
    {
     "name": "stdout",
     "output_type": "stream",
     "text": [
      "Between-class scatter matrix: 13x13\n"
     ]
    }
   ],
   "source": [
    "mean_overall = np.mean(X_train_std, axis = 0)\n",
    "d = 13 # Number of features in wine dataset\n",
    "S_B = np.zeros((d,d))\n",
    "for i, mean_vec in enumerate(mean_vecs):\n",
    "    n = X_train_std[y_train == i +1, :].shape[0]\n",
    "    mean_vec = mean_vec.reshape(d,1)  #MAKING columns vector\n",
    "    mean_overall = mean_overall.reshape(d,1)\n",
    "    S_B += n*((mean_vec - mean_overall).dot((mean_vec - mean_overall).T))\n",
    "print('Between-class scatter matrix: %sx%s' %(S_B.shape[0], S_B.shape[1]))"
   ]
  },
  {
   "cell_type": "markdown",
   "metadata": {
    "collapsed": true
   },
   "source": [
    "### Selecting linear discriminants for the new feature subspace\n",
    "\n",
    "The remaining steps of the LDA are similARr to tte the steps of the PCA. However, instead of performing the eigen decomposition on the covariance matrix, we solve the generalized eigenvalue problem of the matrix $S_W^{-1}S_B$:"
   ]
  },
  {
   "cell_type": "code",
   "execution_count": 57,
   "metadata": {
    "collapsed": true
   },
   "outputs": [],
   "source": [
    "eigen_vals, eigen_vecs = np.linalg.eig(np.linalg.inv(S_W).dot(S_B))"
   ]
  },
  {
   "cell_type": "code",
   "execution_count": 58,
   "metadata": {},
   "outputs": [
    {
     "name": "stdout",
     "output_type": "stream",
     "text": [
      "Eigenvalues in descending order :\n",
      "\n",
      "349.617808906\n",
      "172.76152219\n",
      "6.04295215732e-14\n",
      "5.68434188608e-14\n",
      "3.46719772654e-14\n",
      "3.46719772654e-14\n",
      "2.41811010948e-14\n",
      "2.41811010948e-14\n",
      "1.47416823371e-14\n",
      "1.47416823371e-14\n",
      "4.96504385334e-15\n",
      "4.48476732166e-15\n",
      "4.48476732166e-15\n"
     ]
    }
   ],
   "source": [
    "eigen_pairs = [(np.abs(eigen_vals[i]), eigen_vecs[:,i]) for i in range(len(eigen_vals))]\n",
    "eigen_pairs = sorted(eigen_pairs, key = lambda k: k[0], reverse=True)\n",
    "\n",
    "print('Eigenvalues in descending order :\\n')\n",
    "\n",
    "for eigen_val in eigen_pairs:\n",
    "    print(eigen_val[0])"
   ]
  },
  {
   "cell_type": "markdown",
   "metadata": {},
   "source": [
    "<font style=\"color:red\">In LDA, the number of linear discriminant __is at most c-1, where c is the number of class labels, __ since the in-between scatter matrix $S_B$ is the sum of matrices __ with rank 1 or less. __ </font><br>\n",
    "- We can indeed see that we only have two nonzero eignevalues(the eigenvalues 3-13 are not exactly zero , but this is due to the floating poin arithmetic in NumPy)."
   ]
  },
  {
   "cell_type": "markdown",
   "metadata": {},
   "source": [
    "- To measure how much of the class-discriminatory information is captured by the linear discriminants (eignevectors), let's plot the linear discriminants by decresaing eigenvalues similar to the the explained variance plot that we created in the PCA section. For simplicity, we will call the content o class-discrimnatory information __discriminability:__"
   ]
  },
  {
   "cell_type": "code",
   "execution_count": 59,
   "metadata": {},
   "outputs": [],
   "source": [
    "import matplotlib.pyplot as plt\n",
    "% matplotlib inline"
   ]
  },
  {
   "cell_type": "code",
   "execution_count": 60,
   "metadata": {
    "collapsed": true
   },
   "outputs": [],
   "source": [
    "tot = sum(eigen_vals.real)\n",
    "discr = [(i/tot) for i in sorted(eigen_vals.real, reverse=True)]\n",
    "cum_discr = np.cumsum(discr)\n"
   ]
  },
  {
   "cell_type": "code",
   "execution_count": 61,
   "metadata": {},
   "outputs": [
    {
     "data": {
      "image/png": "[encoded data removed]",
      "text/plain": [
       "<matplotlib.figure.Figure at 0x7fb48d6424a8>"
      ]
     },
     "metadata": {},
     "output_type": "display_data"
    }
   ],
   "source": [
    "plt.bar(range(1,14), discr, alpha=0.5, align='center', label='individual \"discriminality\"')\n",
    "plt.step(range(1,14), cum_discr, where='mid', label='cumulative \"discriminality\"')\n",
    "plt.xlabel('Linear Discriminants')\n",
    "plt.ylabel('\"discriminability\" ratio')\n",
    "plt.ylim([-0.1,1.1])\n",
    "plt.legend(loc='best')\n",
    "plt.show()"
   ]
  },
  {
   "cell_type": "markdown",
   "metadata": {},
   "source": [
    "- As we can see in the resulting figure, the first two linear discriminats alone capture 100 percent of the useful information in the Wine traiing datset."
   ]
  },
  {
   "cell_type": "markdown",
   "metadata": {},
   "source": [
    "- Let's now stack the tow mos discriminative eigenvectors columns to create the transformation matrix __W__:"
   ]
  },
  {
   "cell_type": "code",
   "execution_count": 62,
   "metadata": {
    "collapsed": true
   },
   "outputs": [
    {
     "data": {
      "text/plain": [
       "[(349.61780890599402,\n",
       "  array([-0.1481+0.j,  0.0908+0.j, -0.0168+0.j,  0.1484+0.j, -0.0163+0.j,\n",
       "          0.1913+0.j, -0.7338+0.j, -0.0750+0.j,  0.0018+0.j,  0.2940+0.j,\n",
       "         -0.0328+0.j, -0.3547+0.j, -0.3915+0.j])),\n",
       " (172.76152218979396,\n",
       "  array([-0.4092+0.j, -0.1577+0.j, -0.3537+0.j,  0.3223+0.j, -0.0817+0.j,\n",
       "          0.0842+0.j,  0.2823+0.j, -0.0102+0.j,  0.0907+0.j, -0.2152+0.j,\n",
       "          0.2747+0.j, -0.0124+0.j, -0.5958+0.j])),\n",
       " (6.0429521573237899e-14,\n",
       "  array([-0.3320+0.j,  0.2939+0.j,  0.3042+0.j, -0.0605+0.j,  0.0142+0.j,\n",
       "         -0.5013+0.j,  0.2307+0.j,  0.1236+0.j, -0.0590+0.j, -0.1381+0.j,\n",
       "         -0.2178+0.j,  0.4074+0.j,  0.3889+0.j])),\n",
       " (5.6843418860808015e-14,\n",
       "  array([ 0.7517+0.j, -0.0834+0.j, -0.2406+0.j,  0.2515+0.j, -0.0586+0.j,\n",
       "          0.1027+0.j,  0.0109+0.j, -0.0250+0.j,  0.0611+0.j, -0.0726+0.j,\n",
       "          0.1757+0.j, -0.0943+0.j, -0.4933+0.j])),\n",
       " (3.4671977265449034e-14,\n",
       "  array([-0.2953+0.2571j, -0.0380-0.2804j, -0.0833-0.3669j,  0.0869+0.2037j,\n",
       "          0.0223+0.0328j, -0.0523-0.1552j,  0.5641+0.j    , -0.0507+0.0757j,\n",
       "         -0.0164-0.023j ,  0.2630+0.1007j, -0.0237+0.0858j, -0.3619+0.0459j,\n",
       "          0.0068+0.0023j])),\n",
       " (3.4671977265449034e-14,\n",
       "  array([-0.2953-0.2571j, -0.0380+0.2804j, -0.0833+0.3669j,  0.0869-0.2037j,\n",
       "          0.0223-0.0328j, -0.0523+0.1552j,  0.5641-0.j    , -0.0507-0.0757j,\n",
       "         -0.0164+0.023j ,  0.2630-0.1007j, -0.0237-0.0858j, -0.3619-0.0459j,\n",
       "          0.0068-0.0023j])),\n",
       " (2.4181101094771409e-14,\n",
       "  array([ 0.2063+0.0883j, -0.4503+0.j    ,  0.3516+0.0082j,  0.0945-0.0624j,\n",
       "          0.0995-0.0928j, -0.1153-0.1625j,  0.0382-0.0724j,  0.0618+0.1081j,\n",
       "          0.0195-0.011j ,  0.1146-0.3612j,  0.3299+0.0805j, -0.2165-0.1469j,\n",
       "         -0.3562+0.2741j])),\n",
       " (2.4181101094771409e-14,\n",
       "  array([ 0.2063-0.0883j, -0.4503-0.j    ,  0.3516-0.0082j,  0.0945+0.0624j,\n",
       "          0.0995+0.0928j, -0.1153+0.1625j,  0.0382+0.0724j,  0.0618-0.1081j,\n",
       "          0.0195+0.011j ,  0.1146+0.3612j,  0.3299-0.0805j, -0.2165+0.1469j,\n",
       "         -0.3562-0.2741j])),\n",
       " (1.4741682337136273e-14,\n",
       "  array([-0.5289+0.1529j,  0.3400-0.0859j,  0.0922-0.0373j,  0.2265+0.2128j,\n",
       "         -0.0439+0.0703j, -0.1035+0.0226j,  0.1969-0.0809j,  0.0660-0.1005j,\n",
       "         -0.1785+0.0793j,  0.0787-0.0936j,  0.1415-0.0571j,  0.0206-0.0371j,\n",
       "          0.5581+0.j    ])),\n",
       " (1.4741682337136273e-14,\n",
       "  array([-0.5289-0.1529j,  0.3400+0.0859j,  0.0922+0.0373j,  0.2265-0.2128j,\n",
       "         -0.0439-0.0703j, -0.1035-0.0226j,  0.1969+0.0809j,  0.0660+0.1005j,\n",
       "         -0.1785-0.0793j,  0.0787+0.0936j,  0.1415+0.0571j,  0.0206+0.0371j,\n",
       "          0.5581-0.j    ])),\n",
       " (4.9650438533431838e-15,\n",
       "  array([-0.3632+0.j,  0.1976+0.j,  0.1187+0.j,  0.3135+0.j, -0.1141+0.j,\n",
       "         -0.1258+0.j,  0.4501+0.j,  0.0206+0.j, -0.4349+0.j,  0.0478+0.j,\n",
       "          0.2333+0.j, -0.1888+0.j,  0.4510+0.j])),\n",
       " (4.4847673216613854e-15,\n",
       "  array([-0.0199+0.0846j,  0.1109+0.086j , -0.0490-0.0281j, -0.1868-0.3889j,\n",
       "          0.4465+0.j    , -0.1654-0.1657j, -0.0700-0.3716j,  0.1068-0.1286j,\n",
       "         -0.1949+0.027j , -0.2639-0.2282j,  0.3753+0.1536j, -0.1733+0.0176j,\n",
       "          0.0363+0.0421j])),\n",
       " (4.4847673216613854e-15,\n",
       "  array([-0.0199-0.0846j,  0.1109-0.086j , -0.0490+0.0281j, -0.1868+0.3889j,\n",
       "          0.4465-0.j    , -0.1654+0.1657j, -0.0700+0.3716j,  0.1068+0.1286j,\n",
       "         -0.1949-0.027j , -0.2639+0.2282j,  0.3753-0.1536j, -0.1733-0.0176j,\n",
       "          0.0363-0.0421j]))]"
      ]
     },
     "execution_count": 62,
     "metadata": {},
     "output_type": "execute_result"
    }
   ],
   "source": [
    "eigen_pairs"
   ]
  },
  {
   "cell_type": "code",
   "execution_count": 63,
   "metadata": {
    "collapsed": true
   },
   "outputs": [],
   "source": [
    "W  = np.hstack([eigen_pairs[0][1][:,np.newaxis].real,\n",
    "               eigen_pairs[1][1][:, np.newaxis].real])"
   ]
  },
  {
   "cell_type": "code",
   "execution_count": 64,
   "metadata": {},
   "outputs": [
    {
     "name": "stdout",
     "output_type": "stream",
     "text": [
      "Matrix W: \n",
      " [[-0.1481 -0.4092]\n",
      " [ 0.0908 -0.1577]\n",
      " [-0.0168 -0.3537]\n",
      " [ 0.1484  0.3223]\n",
      " [-0.0163 -0.0817]\n",
      " [ 0.1913  0.0842]\n",
      " [-0.7338  0.2823]\n",
      " [-0.075  -0.0102]\n",
      " [ 0.0018  0.0907]\n",
      " [ 0.294  -0.2152]\n",
      " [-0.0328  0.2747]\n",
      " [-0.3547 -0.0124]\n",
      " [-0.3915 -0.5958]]\n"
     ]
    }
   ],
   "source": [
    "print('Matrix W: \\n', W)"
   ]
  },
  {
   "cell_type": "markdown",
   "metadata": {},
   "source": [
    "#### Projecting samples onto the new feature space\n",
    "\n",
    "Using the transformation matrix __W__ that we created in the previous subsection, we can now transform the training dataset by multiplying the matrices:\n",
    "<center>$X^` = XW$</center>"
   ]
  },
  {
   "cell_type": "code",
   "execution_count": 65,
   "metadata": {},
   "outputs": [
    {
     "data": {
      "image/png": "[encoded data removed]",
      "text/plain": [
       "<matplotlib.figure.Figure at 0x7fb486aa0710>"
      ]
     },
     "metadata": {},
     "output_type": "display_data"
    }
   ],
   "source": [
    "X_train_lda = X_train_std.dot(W)\n",
    "colors = ['r','b','g']\n",
    "markers = ['s','x','o']\n",
    "\n",
    "for l, c,m in zip(np.unique(y_train), colors, markers):\n",
    "    plt.scatter(X_train_lda[y_train == l,0], X_train_lda[y_train== l , 1] * (-1),\n",
    "               c = c, label=l, marker= m)\n",
    "plt.xlabel('LD1')\n",
    "plt.ylabel('LD2')\n",
    "plt.legend(loc='lower right')\n",
    "plt.show()"
   ]
  },
  {
   "cell_type": "code",
   "execution_count": null,
   "metadata": {
    "collapsed": true
   },
   "outputs": [],
   "source": []
  },
  {
   "cell_type": "markdown",
   "metadata": {},
   "source": [
    "## LDA via Scikit-learn\n",
    "\n"
   ]
  },
  {
   "cell_type": "code",
   "execution_count": 71,
   "metadata": {
    "collapsed": true
   },
   "outputs": [],
   "source": [
    "import sys\n",
    "sys.path.append('/home/amit/Documents/ML/python_ML_RASCHKA/chap2/')\n",
    "\n",
    "from utilities import plot_decision_regions"
   ]
  },
  {
   "cell_type": "code",
   "execution_count": 69,
   "metadata": {
    "collapsed": true
   },
   "outputs": [],
   "source": [
    "from sklearn.discriminant_analysis import LinearDiscriminantAnalysis as LDA\n",
    "from sklearn.linear_model import LogisticRegression\n"
   ]
  },
  {
   "cell_type": "code",
   "execution_count": 67,
   "metadata": {
    "collapsed": true
   },
   "outputs": [],
   "source": [
    "lda = LDA(n_components=2)\n",
    "X_train_lda = lda.fit_transform(X_train_std, y_train)"
   ]
  },
  {
   "cell_type": "code",
   "execution_count": 72,
   "metadata": {},
   "outputs": [
    {
     "data": {
      "image/png": "[encoded data removed]",
      "text/plain": [
       "<matplotlib.figure.Figure at 0x7fb48d50ee80>"
      ]
     },
     "metadata": {},
     "output_type": "display_data"
    }
   ],
   "source": [
    "#  Now let's see how logistic regression handles the lower-dimensional training dataset after the LDA transformation:\n",
    "lr = LogisticRegression()\n",
    "lr = lr.fit(X_train_lda, y_train)\n",
    "plot_decision_regions(X_train_lda, y_train, classifier=lr)\n",
    "plt.xlabel('LD1')\n",
    "plt.ylabel('LD2')\n",
    "plt.legend(loc='lower left')\n",
    "plt.show()"
   ]
  },
  {
   "cell_type": "code",
   "execution_count": 74,
   "metadata": {},
   "outputs": [
    {
     "data": {
      "image/png": "[encoded data removed]",
      "text/plain": [
       "<matplotlib.figure.Figure at 0x7fb485fb3710>"
      ]
     },
     "metadata": {},
     "output_type": "display_data"
    }
   ],
   "source": [
    "X_test_lda = lda.transform(X_test_std)\n",
    "plot_decision_regions(X_test_lda, y_test, classifier=lr)\n",
    "plt.xlabel('LD1')\n",
    "plt.ylabel('LD2')\n",
    "plt.legend(loc = 'lower left')\n",
    "plt.show()"
   ]
  },
  {
   "cell_type": "code",
   "execution_count": null,
   "metadata": {
    "collapsed": true
   },
   "outputs": [],
   "source": []
  }
 ],
 "metadata": {
  "kernelspec": {
   "display_name": "Python 3",
   "language": "python",
   "name": "python3"
  },
  "language_info": {
   "codemirror_mode": {
    "name": "ipython",
    "version": 3
   },
   "file_extension": ".py",
   "mimetype": "text/x-python",
   "name": "python",
   "nbconvert_exporter": "python",
   "pygments_lexer": "ipython3",
   "version": "3.6.2"
  }
 },
 "nbformat": 4,
 "nbformat_minor": 2
}
