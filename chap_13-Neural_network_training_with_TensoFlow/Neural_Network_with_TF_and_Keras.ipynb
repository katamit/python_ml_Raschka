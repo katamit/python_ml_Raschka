{
 "cells": [
  {
   "cell_type": "markdown",
   "metadata": {},
   "source": [
    "# Parallelizing Neural Network Training with TensorFlow\n",
    "\n",
    "- Since its release in __ November 2015, __ TensorFlow has gained a lot of popluarity among machine learning researcher.\n",
    "- While TensorFlow can be considered a low-level deep learning library, simplifying API such as Keras have been developed that make the construction of common deep learning models even  convenient.\n",
    "\n",
    "- TensorFlow can speed up our machine learning tasks significantly. \n",
    "\n"
   ]
  },
  {
   "cell_type": "markdown",
   "metadata": {},
   "source": [
    "### TensorFlow and training peformance.\n",
    "\n",
    "![Price and no. of cores comparison of cpu and gpu](cpv_vs_gpu.png)\n",
    "\n",
    "(Date august 2017)\n",
    "\n",
    "At 70 perent of the price of a modern CPU, we got a GPU that has __ 450 times more cores__ and is capable of around __15 times__ more floating-point calcualtiongs per second. So what is holding us back from utilizing GPUs for our machine learning tasks?\n",
    "\n",
    "The challenge is that writing code to target GPUs is not as simple as executing Python code in our interpreter. There are special packages, such as __ CUDA and openCL, that allow us to target the GPU.__ However , writing code in CUDA or OpenCL  is probably not the most convenient environment for implemeting and running machine leanring algorithms. The good news is that this is what TensorFlow was developed for!"
   ]
  },
  {
   "cell_type": "markdown",
   "metadata": {},
   "source": [
    "## What is TensorFlow?\n",
    "\n",
    "<font style=\"color:#aa2eb3\">TensorFlow is a scalable and multiplatform programming interface for implementing and running machine learning algorithms, including convenience wrapper for deep learning </font>\n",
    "\n",
    "To improve the performance of training machine learning models, TensorFlow allows execution on both CPUs and GPUs. However its greatest perforamcne capabilities can be discovered using GPUs.\n",
    "\n",
    "<font style=\"color:#aa2eb3\">TensorFlow computations rely on constructiong a directed graph for representing the data flow. Even though building the graph may sound complicated, TensorFlow comes with high-level APIs that has made it very easy.</font>"
   ]
  },
  {
   "cell_type": "markdown",
   "metadata": {},
   "source": [
    "We start with low-level TensoFlow API. while implemeting models at this level can be alittle bit cumberosme at first, lthe advantage of the low-level API  si taht it gives us mor frelixbility as progammers to comne the basic oprations and evelp complex macine learning modesl. \n",
    "\n",
    "Starting TensorFlow 1.1.0 high level APIs are added on top of the low-level API(the so-called Layers and Estimators), which allows building and prototyping models much faster."
   ]
  },
  {
   "cell_type": "markdown",
   "metadata": {},
   "source": [
    "<font style=\"color:#e6020e\">TensorFlow is built around a computation graph composed of a set of nodes. Each node represents an operation that may have zero or more input or output. The values that flow through the edges of the computation graph are called __tensors__</font>\n",
    "\n",
    "__Tensors__ can be understood as a __generalization of scalars, vectors, matrices and so on.__ More concretely, ascalar can be dfined as a rank-0 tensor, a vector as a rank-1 tensor, a matrix as a rank-2 tensor, and matrices stacked in a third dimension as rank-3 tensors."
   ]
  },
  {
   "cell_type": "markdown",
   "metadata": {},
   "source": [
    "<center> $ z \\space = \\space w \\space X \\space x + b$</center>"
   ]
  },
  {
   "cell_type": "code",
   "execution_count": 22,
   "metadata": {},
   "outputs": [
    {
     "name": "stdout",
     "output_type": "stream",
     "text": [
      " x=  1.0 --> z =  3.0\n",
      " x=  0.6 --> z =  2.2\n",
      " x= -1.8 --> z = -2.6\n"
     ]
    }
   ],
   "source": [
    "import tensorflow as tf\n",
    "\n",
    "# Create a graph\n",
    "g = tf.Graph()\n",
    "with g.as_default():\n",
    "    x = tf.placeholder(dtype = tf.float32, shape =(None), name='input_x')\n",
    "    w = tf.Variable(2.0, name='weight')\n",
    "    b = tf.Variable(1.0, name='bias')\n",
    "    z = tf.add(tf.multiply(w,x) ,b )\n",
    "\n",
    "with tf.Session(graph=g) as sess:\n",
    "    sess.run(tf.global_variables_initializer())\n",
    "    for t in [1.0,0.6,-1.8]:\n",
    "        print(' x= %4.1f --> z = %4.1f' %(t, sess.run(z, feed_dict={x:t})))\n",
    "    \n",
    "\n",
    "# print(result)"
   ]
  },
  {
   "cell_type": "markdown",
   "metadata": {},
   "source": [
    "- In general, when we develp a model in the TensorFlow low-level API, we need to define placeholders for iinput data(x, y, and sometimes other tunable parameters); then , define the weight matrices and build the model form input to ouptut.\n",
    "- It this is an optimization problem we should degine the loss or csot ffunciton and etermine which optimation algorithm to use.\n",
    "\n",
    "- TensorFlow will create a graph that contains all the sumbols that we have defined as nodes in this graph."
   ]
  },
  {
   "cell_type": "code",
   "execution_count": 23,
   "metadata": {},
   "outputs": [
    {
     "name": "stdout",
     "output_type": "stream",
     "text": [
      "[ 3.          2.20000005 -2.5999999 ]\n"
     ]
    }
   ],
   "source": [
    "with tf.Session(graph=g) as sess:\n",
    "    sess.run(tf.global_variables_initializer())\n",
    "    print(sess.run(z, feed_dict={x: [1.0, 0.6, -1.8]}))\n"
   ]
  },
  {
   "cell_type": "markdown",
   "metadata": {},
   "source": [
    "> Official TensorFlow style gid recommend usign tow-characer spacing for code indents. However here we chose foru character for inetns as it sis more cosnistent with tht officila PYthon style guide and aslo help sin displayig the code syntax higlighting in many text editors correctly as well as the accompanying Jupyter code notebooks"
   ]
  },
  {
   "cell_type": "markdown",
   "metadata": {},
   "source": [
    "### Working with array structures:\n",
    "Let's dicuss how to use array sturctures in TensorFlow. By executing the following code , we wil crate a simpler rank-3 tensor of size _batchsizex2x3_ , reshape it, and calcuate the column sums using TensorFlow's optmized expressions.  since we don't know the bactch size a priori, we specify _NOne_ for the batch size in the argument for the _shape_ parameter of the placeholder _z_."
   ]
  },
  {
   "cell_type": "code",
   "execution_count": 28,
   "metadata": {},
   "outputs": [
    {
     "name": "stdout",
     "output_type": "stream",
     "text": [
      "input shape :  (3, 2, 3)\n",
      "Reshape \n",
      " [[  0.   1.   2.   3.   4.   5.]\n",
      " [  6.   7.   8.   9.  10.  11.]\n",
      " [ 12.  13.  14.  15.  16.  17.]]\n",
      "Column Sums : \n",
      " [ 18.  21.  24.  27.  30.  33.]\n",
      "Columns Means: \n",
      " [  6.   7.   8.   9.  10.  11.]\n"
     ]
    }
   ],
   "source": [
    "import numpy as np\n",
    "\n",
    "g = tf.Graph()\n",
    "with g.as_default():\n",
    "    x = tf.placeholder(dtype=tf.float32, shape=(None,2,3), name='input_x')\n",
    "    x2 = tf.reshape(x, shape=(-1,6),name='x2')\n",
    "    \n",
    "    ## Calculate the sum of each columns\n",
    "    xsum = tf.reduce_sum(x2, axis=0, name='col_sum')\n",
    "    \n",
    "    ## Calculate the mean of each columns\n",
    "    xmean = tf.reduce_mean(x2, axis=0, name='col_mean')\n",
    "    \n",
    "with tf.Session(graph=g) as sess:\n",
    "    X_array = np.arange(18).reshape(3,2,3)\n",
    "    \n",
    "    \n",
    "    print('input shape : ', X_array.shape)\n",
    "    print('Reshape \\n', sess.run(x2, feed_dict={x:X_array}))\n",
    "    print('Column Sums : \\n', sess.run(xsum, feed_dict={x:X_array}))\n",
    "    print('Columns Means: \\n', sess.run(xmean, feed_dict={x:X_array}))\n",
    "    \n",
    "    "
   ]
  },
  {
   "cell_type": "markdown",
   "metadata": {},
   "source": [
    "- we worked with three function  tf.reshape, tf.reduce_sum , tf.reduce_mean . When reshaping a tensor, if you use -1 for a specfic dimension, the size of the that diemsion will be compute daccoridng to the total size ofthe esnor andthe remaining dismension.\n",
    "- Therefore _tf.reshape(tensor, shape=(-1,))_ can be used to flatten a tensor."
   ]
  },
  {
   "cell_type": "markdown",
   "metadata": {},
   "source": [
    "### Developing a simple model with the low-level TensorFlow API\n",
    "\n",
    "Let's implemen _ordingary Least Square_"
   ]
  },
  {
   "cell_type": "code",
   "execution_count": 1,
   "metadata": {
    "collapsed": true
   },
   "outputs": [],
   "source": [
    "import tensorflow as tf\n",
    "import numpy as np"
   ]
  },
  {
   "cell_type": "code",
   "execution_count": 2,
   "metadata": {
    "collapsed": true
   },
   "outputs": [],
   "source": [
    "\n",
    "X_train = np.arange(10).reshape((10,1))\n",
    "y_train = np.array([1.0, 1.3, 3.1, 2.0, 5.0, 6.3, 6.6, 7.4, 8.0, 9.0])\n",
    "\n",
    "# Given the dataset, we want to train a linear regression model to predict the output y from the input x.\n",
    "\n",
    "class TfLinreg(object):\n",
    "    def __init__(self, x_dim, learning_rate=0.01, random_seed=None):\n",
    "        self.x_dim = x_dim\n",
    "        self.learning_rate = learning_rate\n",
    "        self.g = tf.Graph()\n",
    "        \n",
    "        ## Build the model\n",
    "        with self.g.as_default():\n",
    "            ## set graph-level; random -seed\n",
    "            tf.set_random_seed(random_seed)\n",
    "            \n",
    "            self.build()\n",
    "            ## create initializer\n",
    "            self.init_op = tf.global_variables_initializer()\n",
    "            \n",
    "    def build(self):\n",
    "        ## define placeholders for inputs\n",
    "        self.X = tf.placeholder(dtype=tf.float32,\n",
    "                               shape=(None,self.x_dim),\n",
    "                               name='x_input')\n",
    "        self.y = tf.placeholder(dtype=tf.float32,\n",
    "                               shape=(None),\n",
    "                               name='y_input')\n",
    "        \n",
    "        print(self.X)\n",
    "        print(self.y)\n",
    "        ## define weight matrix and bias vector\n",
    "        w = tf.Variable(tf.zeros(shape=(1)), name='weight')\n",
    "        b = tf.Variable(tf.zeros(shape=(1)), name='bias')\n",
    "        print(w)\n",
    "        print(b)\n",
    "        \n",
    "        self.z_net = tf.squeeze(w*self.X + b, name='z_net')\n",
    "        print(self.z_net)\n",
    "        \n",
    "        sqr_errors = tf.square(self.y - self.z_net, name='sqr_errors')\n",
    "        print(sqr_errors)\n",
    "        \n",
    "        self.mean_cost = tf.reduce_mean(sqr_errors, name='mean_cost')\n",
    "        \n",
    "        optimizer = tf.train.GradientDescentOptimizer(learning_rate=self.learning_rate, name='GradientDescent')\n",
    "        self.optimizer = optimizer.minimize(self.mean_cost)"
   ]
  },
  {
   "cell_type": "code",
   "execution_count": 3,
   "metadata": {},
   "outputs": [
    {
     "name": "stdout",
     "output_type": "stream",
     "text": [
      "Tensor(\"x_input:0\", shape=(?, 1), dtype=float32)\n",
      "Tensor(\"y_input:0\", dtype=float32)\n",
      "<tf.Variable 'weight:0' shape=(1,) dtype=float32_ref>\n",
      "<tf.Variable 'bias:0' shape=(1,) dtype=float32_ref>\n",
      "Tensor(\"z_net:0\", dtype=float32)\n",
      "Tensor(\"sqr_errors:0\", dtype=float32)\n"
     ]
    }
   ],
   "source": [
    "lrmodel = TfLinreg(X_train.shape[1], learning_rate=0.01)"
   ]
  },
  {
   "cell_type": "code",
   "execution_count": 5,
   "metadata": {
    "collapsed": true
   },
   "outputs": [],
   "source": [
    "def train_linreg(sess, model, X_train, y_train, num_epochs=10):\n",
    "    ## Initialize all vairbles : W and b\n",
    "    sess.run(model.init_op)\n",
    "    \n",
    "    \n",
    "    training_cost = []\n",
    "    for i in range(num_epochs):\n",
    "        _, cost = sess.run([model.optimizer, model.mean_cost], \n",
    "                          feed_dict={model.X:X_train, model.y:y_train})\n",
    "        training_cost.append(cost)\n",
    "    return training_cost"
   ]
  },
  {
   "cell_type": "code",
   "execution_count": 15,
   "metadata": {
    "collapsed": true
   },
   "outputs": [],
   "source": [
    "sess = tf.Session(graph=lrmodel.g)\n",
    "\n",
    "training_costs = train_linreg(sess, lrmodel, X_train, y_train)"
   ]
  },
  {
   "cell_type": "code",
   "execution_count": 16,
   "metadata": {
    "collapsed": true
   },
   "outputs": [],
   "source": [
    "import matplotlib.pyplot as plt\n",
    "%matplotlib inline"
   ]
  },
  {
   "cell_type": "code",
   "execution_count": 17,
   "metadata": {},
   "outputs": [
    {
     "data": {
      "image/png": "[encoded data removed]",
      "text/plain": [
       "<matplotlib.figure.Figure at 0x7f6aed259eb8>"
      ]
     },
     "metadata": {},
     "output_type": "display_data"
    }
   ],
   "source": [
    "plt.plot(range(1, len(training_costs) + 1), training_costs )\n",
    "plt.tight_layout()\n",
    "plt.xlabel('Epoch')\n",
    "plt.ylabel('Training cost')\n",
    "\n",
    "plt.show()"
   ]
  },
  {
   "cell_type": "markdown",
   "metadata": {
    "collapsed": true
   },
   "source": [
    "This simple model converges very quickly after a few epochs. Looking a the cost funciton, it seems that we buld a working regression model form this particular dataset."
   ]
  },
  {
   "cell_type": "code",
   "execution_count": 22,
   "metadata": {
    "collapsed": true
   },
   "outputs": [],
   "source": [
    "def predict_linreg(sess, model, X_test):\n",
    "    y_pred = sess.run(model.z_net, feed_dict={model.X:X_test})\n",
    "    return y_pred"
   ]
  },
  {
   "cell_type": "code",
   "execution_count": 28,
   "metadata": {},
   "outputs": [
    {
     "data": {
      "image/png": "[encoded data removed]",
      "text/plain": [
       "<matplotlib.figure.Figure at 0x7f6aecc94f60>"
      ]
     },
     "metadata": {},
     "output_type": "display_data"
    }
   ],
   "source": [
    "plt.scatter(X_train, y_train, marker='s', s=50, label='Training Data')\n",
    "plt.plot(range(X_train.shape[0]), predict_linreg(sess, lrmodel, X_train), color='gray', marker='o',\n",
    "        markersize=6, linewidth=3, label='LinReg model')\n",
    "\n",
    "plt.xlabel('X')\n",
    "plt.ylabel('y')\n",
    "plt.legend()\n",
    "plt.tight_layout()\n",
    "plt.show()"
   ]
  },
  {
   "cell_type": "markdown",
   "metadata": {
    "collapsed": true
   },
   "source": [
    "### Training Neural Network efficiently with high-level TensorFlow APIs\n",
    "\n",
    "In this section we will look at 2 high-level APIs - the layer API (_ tensorflow.layers_ or _tf.layers_) and the keras API (_tensorflow.contrib.keras_)"
   ]
  },
  {
   "cell_type": "markdown",
   "metadata": {
    "collapsed": true
   },
   "source": [
    "## Building multilayer neural networks using TensorFlow's Layers API\n",
    "\n",
    "let's implement a multilayer percptron to classify the handwritten digits form the MNIST dataset, "
   ]
  },
  {
   "cell_type": "code",
   "execution_count": 29,
   "metadata": {
    "collapsed": true
   },
   "outputs": [],
   "source": [
    "from tensorflow.examples.tutorials.mnist import input_data\n"
   ]
  },
  {
   "cell_type": "code",
   "execution_count": 31,
   "metadata": {},
   "outputs": [
    {
     "name": "stdout",
     "output_type": "stream",
     "text": [
      "Successfully downloaded train-images-idx3-ubyte.gz 9912422 bytes.\n",
      "Extracting MNIST_data/train-images-idx3-ubyte.gz\n",
      "Successfully downloaded train-labels-idx1-ubyte.gz 28881 bytes.\n",
      "Extracting MNIST_data/train-labels-idx1-ubyte.gz\n",
      "Successfully downloaded t10k-images-idx3-ubyte.gz 1648877 bytes.\n",
      "Extracting MNIST_data/t10k-images-idx3-ubyte.gz\n",
      "Successfully downloaded t10k-labels-idx1-ubyte.gz 4542 bytes.\n",
      "Extracting MNIST_data/t10k-labels-idx1-ubyte.gz\n"
     ]
    }
   ],
   "source": [
    "mnist = input_data.read_data_sets(\"MNIST_data/\", one_hot=True)"
   ]
  },
  {
   "cell_type": "code",
   "execution_count": 43,
   "metadata": {
    "collapsed": true
   },
   "outputs": [],
   "source": [
    "!gzip ./MNIST_data/*ubyte.gz -d"
   ]
  },
  {
   "cell_type": "code",
   "execution_count": 33,
   "metadata": {
    "collapsed": true
   },
   "outputs": [],
   "source": [
    "import os\n",
    "import struct\n",
    "import numpy as np\n",
    "\n",
    "def load_mnist(path, kind='train'):\n",
    "    \"\"\"Load MNIST data from `path`\"\"\"\n",
    "    labels_path = os.path.join(path, '%s-labels-idx1-ubyte' % kind)\n",
    "    images_path = os.path.join(path, '%s-images-idx3-ubyte' % kind)    \n",
    "    \n",
    "    with open(labels_path, 'rb') as lbpath:\n",
    "        magic, n = struct.unpack('>II', lbpath.read(8))\n",
    "#         print(magic, n)\n",
    "        labels = np.fromfile(lbpath, dtype = np.uint8)\n",
    "    \n",
    "    with open(images_path, 'rb') as imgpath:\n",
    "        magic, num, rows, cols = struct.unpack('>IIII', imgpath.read(16))\n",
    "#         print(magic, num, rows, cols)\n",
    "        images =np.fromfile(imgpath, dtype=np.uint8).reshape(len(labels), 784)\n",
    "        images = ((images / 255.) - .5)*2\n",
    "    \n",
    "    return images, labels"
   ]
  },
  {
   "cell_type": "code",
   "execution_count": 44,
   "metadata": {},
   "outputs": [
    {
     "name": "stdout",
     "output_type": "stream",
     "text": [
      "Rows 60000, Columns: 60000\n"
     ]
    }
   ],
   "source": [
    "X_train, y_train = load_mnist('MNIST_data/', kind='train')\n",
    "\n",
    "print('Rows %d, Columns: %d'%(X_train.shape[0], y_train.shape[0]))"
   ]
  },
  {
   "cell_type": "code",
   "execution_count": 45,
   "metadata": {},
   "outputs": [
    {
     "name": "stdout",
     "output_type": "stream",
     "text": [
      "Rows: 10000, columns: 784\n"
     ]
    }
   ],
   "source": [
    "X_test, y_test = load_mnist('MNIST_data/', kind='t10k')\n",
    "print('Rows: %d, columns: %d' %(X_test.shape[0], X_test.shape[1]))"
   ]
  },
  {
   "cell_type": "code",
   "execution_count": 47,
   "metadata": {},
   "outputs": [
    {
     "name": "stdout",
     "output_type": "stream",
     "text": [
      "(60000, 784) (60000,)\n",
      "(10000, 784) (10000,)\n"
     ]
    }
   ],
   "source": [
    "## Mean Centering and normalization\n",
    "\n",
    "mean_vals = np.mean(X_train, axis=0)\n",
    "std_val = np.std(X_train)\n",
    "\n",
    "X_train_centered = (X_train - mean_vals)/std_val\n",
    "X_test_centered = (X_test - mean_vals)/std_val\n",
    "\n",
    "\n",
    "del X_train, X_test\n",
    "\n",
    "print(X_train_centered.shape, y_train.shape)\n",
    "print(X_test_centered.shape, y_test.shape)\n"
   ]
  },
  {
   "cell_type": "code",
   "execution_count": null,
   "metadata": {
    "collapsed": true
   },
   "outputs": [],
   "source": [
    "np.savez_compressed('mnist_centered.npz',\n",
    "                    X_train=X_train_centered,\n",
    "                   y_train=y_train,\n",
    "                   X_test=X_test_centered,\n",
    "                   y_test=y_test)"
   ]
  },
  {
   "cell_type": "code",
   "execution_count": 2,
   "metadata": {
    "collapsed": true
   },
   "outputs": [],
   "source": [
    "mnist = np.load('mnist_centered.npz')\n",
    "X_train_centered = mnist['X_train']\n",
    "y_train = mnist['y_train']\n",
    "X_test_centered = mnist['X_test']\n",
    "y_test = mnist['y_test']"
   ]
  },
  {
   "cell_type": "code",
   "execution_count": 13,
   "metadata": {
    "collapsed": true
   },
   "outputs": [],
   "source": [
    "# Now we can start building our mode. We will start \n",
    "# by crating two placeholder,s named _tf-x_ and _tf-y_ , but with threee fully connected layers.\n",
    "\n",
    "n_features = X_train_centered.shape[1]\n",
    "n_classes = 10\n",
    "random_seed =123\n",
    "np.random.seed(random_seed)\n",
    "\n",
    "g = tf.Graph()\n",
    "with g.as_default():\n",
    "    tf.set_random_seed(random_seed)\n",
    "    tf_x = tf.placeholder(dtype=tf.float32, shape=(None,n_features), \n",
    "                         name='tf_x')\n",
    "    tf_y = tf.placeholder(dtype=tf.int32, shape=None, name='tf_y')\n",
    "    \n",
    "    y_onehot = tf.one_hot(indices=tf_y, depth=n_classes)\n",
    "    \n",
    "    h1 = tf.layers.dense(inputs=tf_x, units=50, activation=tf.tanh, name='layer1')\n",
    "    h2 = tf.layers.dense(inputs=h1, units=50, activation=tf.tanh, name='layer2')\n",
    "    \n",
    "    logits = tf.layers.dense(inputs=h2, units=10, activation=None, name='layer3')\n",
    "    \n",
    "    predictions = {\n",
    "        'classes': tf.argmax(logits, axis=1, name='predicted_classes'),\n",
    "                  'probabilities': tf.nn.softmax(logits, name='softmax_tensor')\n",
    "    }\n",
    "    \n",
    "## define cost funciton and optimizer:\n",
    "with g.as_default():\n",
    "    cost = tf.losses.softmax_cross_entropy(onehot_labels=y_onehot, logits=logits)\n",
    "    optimizer = tf.train.GradientDescentOptimizer(learning_rate=0.01)\n",
    "\n",
    "    train_op = optimizer.minimize(loss=cost)\n",
    "\n",
    "    init_op  = tf.global_variables_initializer()\n",
    "    "
   ]
  },
  {
   "cell_type": "code",
   "execution_count": 16,
   "metadata": {},
   "outputs": [],
   "source": [
    "## Generator implementatio for : batch generation.\n",
    "\n",
    "def create_batch_generator(X,y, batch_size=128, shuffle=False):\n",
    "    X_copy = np.array(X)\n",
    "    y_copy = np.array(y)\n",
    "    if shuffle:\n",
    "        data = np.column_stack((X_copy, y_copy))\n",
    "        np.random.shuffle(data)\n",
    "        X_copy = data[:,:-1]\n",
    "        y_copy = data[:,-1].astype(int)\n",
    "    for i in range(0, X.shape[0], batch_size):\n",
    "        yield (X_copy[i:i+batch_size, :], y_copy[i:i+batch_size])"
   ]
  },
  {
   "cell_type": "code",
   "execution_count": 17,
   "metadata": {
    "scrolled": true
   },
   "outputs": [
    {
     "name": "stdout",
     "output_type": "stream",
     "text": [
      " --- Epoch  1 Avg. Training Loss : 0.8969\n",
      " --- Epoch  2 Avg. Training Loss : 0.4567\n",
      " --- Epoch  3 Avg. Training Loss : 0.3654\n",
      " --- Epoch  4 Avg. Training Loss : 0.3193\n",
      " --- Epoch  5 Avg. Training Loss : 0.2895\n",
      " --- Epoch  6 Avg. Training Loss : 0.2678\n",
      " --- Epoch  7 Avg. Training Loss : 0.2508\n",
      " --- Epoch  8 Avg. Training Loss : 0.2367\n",
      " --- Epoch  9 Avg. Training Loss : 0.2249\n",
      " --- Epoch 10 Avg. Training Loss : 0.2146\n",
      " --- Epoch 11 Avg. Training Loss : 0.2057\n",
      " --- Epoch 12 Avg. Training Loss : 0.1976\n",
      " --- Epoch 13 Avg. Training Loss : 0.1903\n",
      " --- Epoch 14 Avg. Training Loss : 0.1838\n",
      " --- Epoch 15 Avg. Training Loss : 0.1777\n",
      " --- Epoch 16 Avg. Training Loss : 0.1721\n",
      " --- Epoch 17 Avg. Training Loss : 0.1668\n",
      " --- Epoch 18 Avg. Training Loss : 0.1619\n",
      " --- Epoch 19 Avg. Training Loss : 0.1574\n",
      " --- Epoch 20 Avg. Training Loss : 0.1531\n",
      " --- Epoch 21 Avg. Training Loss : 0.1490\n",
      " --- Epoch 22 Avg. Training Loss : 0.1452\n",
      " --- Epoch 23 Avg. Training Loss : 0.1416\n",
      " --- Epoch 24 Avg. Training Loss : 0.1381\n",
      " --- Epoch 25 Avg. Training Loss : 0.1348\n",
      " --- Epoch 26 Avg. Training Loss : 0.1318\n",
      " --- Epoch 27 Avg. Training Loss : 0.1287\n",
      " --- Epoch 28 Avg. Training Loss : 0.1258\n",
      " --- Epoch 29 Avg. Training Loss : 0.1231\n",
      " --- Epoch 30 Avg. Training Loss : 0.1204\n",
      " --- Epoch 31 Avg. Training Loss : 0.1179\n",
      " --- Epoch 32 Avg. Training Loss : 0.1155\n",
      " --- Epoch 33 Avg. Training Loss : 0.1131\n",
      " --- Epoch 34 Avg. Training Loss : 0.1108\n",
      " --- Epoch 35 Avg. Training Loss : 0.1087\n",
      " --- Epoch 36 Avg. Training Loss : 0.1066\n",
      " --- Epoch 37 Avg. Training Loss : 0.1045\n",
      " --- Epoch 38 Avg. Training Loss : 0.1025\n",
      " --- Epoch 39 Avg. Training Loss : 0.1006\n",
      " --- Epoch 40 Avg. Training Loss : 0.0988\n",
      " --- Epoch 41 Avg. Training Loss : 0.0970\n",
      " --- Epoch 42 Avg. Training Loss : 0.0952\n",
      " --- Epoch 43 Avg. Training Loss : 0.0935\n",
      " --- Epoch 44 Avg. Training Loss : 0.0919\n",
      " --- Epoch 45 Avg. Training Loss : 0.0903\n",
      " --- Epoch 46 Avg. Training Loss : 0.0887\n",
      " --- Epoch 47 Avg. Training Loss : 0.0872\n",
      " --- Epoch 48 Avg. Training Loss : 0.0857\n",
      " --- Epoch 49 Avg. Training Loss : 0.0842\n",
      " --- Epoch 50 Avg. Training Loss : 0.0828\n"
     ]
    }
   ],
   "source": [
    "## crate a session to launc the graph\n",
    "sess = tf.Session(graph=g)\n",
    "\n",
    "## runt the varible intialization operaor\n",
    "sess.run(init_op)\n",
    "\n",
    "\n",
    "## 50 epoch of traning:\n",
    "for epoch in range(50):\n",
    "    training_costs = []\n",
    "    batch_generator = create_batch_generator(X_train_centered, y_train, shuffle=True)\n",
    "    for batch_x, batch_y in batch_generator:\n",
    "        ## prepare a dict to feed data to oru network:\n",
    "        feed = {tf_x:batch_x, tf_y:batch_y}\n",
    "        _, batch_cost = sess.run([train_op, cost], feed_dict=feed)\n",
    "        training_costs.append(batch_cost)\n",
    "    print(' --- Epoch %2d Avg. Training Loss : %.4f' %(epoch+1, np.mean(training_costs)))"
   ]
  },
  {
   "cell_type": "code",
   "execution_count": 18,
   "metadata": {},
   "outputs": [
    {
     "name": "stdout",
     "output_type": "stream",
     "text": [
      "Test Accuracy 95.820\n"
     ]
    }
   ],
   "source": [
    "## Do prediction on the test set:\n",
    "feed = {tf_x: X_test_centered}\n",
    "\n",
    "y_pred = sess.run(predictions['classes'], feed_dict=feed)\n",
    "\n",
    "print('Test Accuracy %.3f'  %(100* np.sum(y_pred == y_test)/y_test.shape[0]))"
   ]
  },
  {
   "cell_type": "markdown",
   "metadata": {
    "collapsed": true
   },
   "source": [
    "## Developing a multilayer neural network with Keras\n",
    "\n",
    "The development of kears stated in the ealru  months of 2015. Today it is one of the most popular and widely used libraties that is buildt  on top of Theano and TensorFlow.\n",
    "\n",
    "- One of the prominent featuers is that it has a very intuitive and user-friendly APT, which allows us to implement neural networks in only a few lines of code.\n",
    "\n",
    "\n"
   ]
  },
  {
   "cell_type": "code",
   "execution_count": 20,
   "metadata": {},
   "outputs": [],
   "source": [
    "import tensorflow as tf\n",
    "import tensorflow.contrib.keras as keras\n",
    "\n",
    "\n",
    "np.random.seed(123)\n",
    "tf.set_random_seed(123)"
   ]
  },
  {
   "cell_type": "code",
   "execution_count": 22,
   "metadata": {},
   "outputs": [
    {
     "name": "stdout",
     "output_type": "stream",
     "text": [
      "First 3 labels :  [5 0 4]\n",
      "\n",
      " First 3 labes (one_hot) \n",
      " [[ 0.  0.  0.  0.  0.  1.  0.  0.  0.  0.]\n",
      " [ 1.  0.  0.  0.  0.  0.  0.  0.  0.  0.]\n",
      " [ 0.  0.  0.  0.  1.  0.  0.  0.  0.  0.]]\n"
     ]
    }
   ],
   "source": [
    "# To continue witht eperpatation of the training data, we need to conver the class labesl (intergers0-9) \n",
    "# into the one-hot format. \n",
    "\n",
    "y_train_onehot = keras.utils.to_categorical(y_train)\n",
    "\n",
    "print('First 3 labels : ', y_train[:3])\n",
    "\n",
    "\n",
    "print('\\n First 3 labes (one_hot) \\n' , y_train_onehot[:3,:])"
   ]
  },
  {
   "cell_type": "markdown",
   "metadata": {
    "collapsed": true
   },
   "source": [
    "Now  we can get to tjhe interesting part and implemet a neural network, Briefly, we will have three layers, where the first two layers each have 50 hidden units with the _tanh_ activation function and the last layer has 10 units for the 10 class labesl and uses _softmax_ to give the probaility of each class."
   ]
  },
  {
   "cell_type": "code",
   "execution_count": 23,
   "metadata": {
    "collapsed": true
   },
   "outputs": [],
   "source": [
    "model = keras.models.Sequential()\n",
    "\n",
    "model.add(keras.layers.Dense(units=50,activation='tanh',input_dim=X_train_centered.shape[1]))\n",
    "\n",
    "model.add(keras.layers.Dense(units=50, activation='tanh', input_dim=50))\n",
    "\n",
    "model.add(keras.layers.Dense(units=y_train_onehot.shape[1], activation='softmax', input_dim=50))\n",
    "\n",
    "sgd_optimizer = keras.optimizers.SGD(lr=0.001, momentum=.9, decay=1e-7)\n",
    "\n",
    "model.compile(optimizer=sgd_optimizer, loss='categorical_crossentropy')"
   ]
  },
  {
   "cell_type": "markdown",
   "metadata": {
    "collapsed": true
   },
   "source": [
    "First, we initializse a new model using the _Sequential_ class to implement a feedforward neural network. Then ,we can add as may layert ot it as we like.<br>\n",
    "- However, since the first layer that we add is the input layer, we have to make sure that the _input-dim_ attribute matches the number of features(columns) in the training set(here 784)\n",
    "<br>\n",
    "- Also we have to make sure that the number of output units (_units_) and input units (_input-dim_) of two consecutive layers mathc. In the preceding example, we added two hideen layers with 50 hidden units plus one bias unit each. The number of units in the output layer should be equal to the number of unique class labesl -- the number of columns in the one-hot-encoded class label array.\n",
    "\n",
    "- Before we can compile our model, we aslo have to define an optimizer. In the preding example, we hose a stchastic gradient descent optimization, whic we are already familliar with from previous chaptes, we set the cpst (or loss) funciton to _categorical-crossentropy_.\n",
    "\n",
    "\n",
    "- The binary cross-entropy is just a techical term for the cost funciton in the logistic regression, and the categorical cross-entropy is its generalization for multiclass prediction via softmax.  "
   ]
  },
  {
   "cell_type": "markdown",
   "metadata": {},
   "source": [
    "> We used a new intiialization algorithm for weight matrices by setting _kernel-initializer='glorot\\_uniform_'  by default.  Glorot initialization (also know as Xavier initialization) is a more robuts way ot initalization for deep neural networks."
   ]
  },
  {
   "cell_type": "code",
   "execution_count": 24,
   "metadata": {},
   "outputs": [
    {
     "name": "stdout",
     "output_type": "stream",
     "text": [
      "Train on 54000 samples, validate on 6000 samples\n",
      "Epoch 1/50\n",
      "54000/54000 [==============================] - 4s - loss: 0.7247 - val_loss: 0.3616\n",
      "Epoch 2/50\n",
      "54000/54000 [==============================] - 3s - loss: 0.3718 - val_loss: 0.2815\n",
      "Epoch 3/50\n",
      "54000/54000 [==============================] - 3s - loss: 0.3087 - val_loss: 0.2447\n",
      "Epoch 4/50\n",
      "54000/54000 [==============================] - 3s - loss: 0.2728 - val_loss: 0.2216\n",
      "Epoch 5/50\n",
      "54000/54000 [==============================] - 3s - loss: 0.2475 - val_loss: 0.2042\n",
      "Epoch 6/50\n",
      "54000/54000 [==============================] - 3s - loss: 0.2277 - val_loss: 0.1918\n",
      "Epoch 7/50\n",
      "54000/54000 [==============================] - 3s - loss: 0.2115 - val_loss: 0.1810\n",
      "Epoch 8/50\n",
      "54000/54000 [==============================] - 3s - loss: 0.1979 - val_loss: 0.1719\n",
      "Epoch 9/50\n",
      "54000/54000 [==============================] - 3s - loss: 0.1860 - val_loss: 0.1646\n",
      "Epoch 10/50\n",
      "54000/54000 [==============================] - 3s - loss: 0.1758 - val_loss: 0.1591\n",
      "Epoch 11/50\n",
      "54000/54000 [==============================] - 3s - loss: 0.1667 - val_loss: 0.1543\n",
      "Epoch 12/50\n",
      "54000/54000 [==============================] - 3s - loss: 0.1589 - val_loss: 0.1491\n",
      "Epoch 13/50\n",
      "54000/54000 [==============================] - 3s - loss: 0.1516 - val_loss: 0.1451\n",
      "Epoch 14/50\n",
      "54000/54000 [==============================] - 3s - loss: 0.1450 - val_loss: 0.1420\n",
      "Epoch 15/50\n",
      "54000/54000 [==============================] - 3s - loss: 0.1389 - val_loss: 0.1385\n",
      "Epoch 16/50\n",
      "54000/54000 [==============================] - 3s - loss: 0.1333 - val_loss: 0.1363\n",
      "Epoch 17/50\n",
      "54000/54000 [==============================] - 3s - loss: 0.1283 - val_loss: 0.1331\n",
      "Epoch 18/50\n",
      "54000/54000 [==============================] - 3s - loss: 0.1234 - val_loss: 0.1327\n",
      "Epoch 19/50\n",
      "54000/54000 [==============================] - 3s - loss: 0.1191 - val_loss: 0.1293\n",
      "Epoch 20/50\n",
      "54000/54000 [==============================] - 3s - loss: 0.1148 - val_loss: 0.1282\n",
      "Epoch 21/50\n",
      "54000/54000 [==============================] - 3s - loss: 0.1109 - val_loss: 0.1270\n",
      "Epoch 22/50\n",
      "54000/54000 [==============================] - 3s - loss: 0.1071 - val_loss: 0.1265\n",
      "Epoch 23/50\n",
      "54000/54000 [==============================] - 3s - loss: 0.1037 - val_loss: 0.1243\n",
      "Epoch 24/50\n",
      "54000/54000 [==============================] - 3s - loss: 0.1003 - val_loss: 0.1229\n",
      "Epoch 25/50\n",
      "54000/54000 [==============================] - 3s - loss: 0.0971 - val_loss: 0.1216\n",
      "Epoch 26/50\n",
      "54000/54000 [==============================] - 3s - loss: 0.0941 - val_loss: 0.1212\n",
      "Epoch 27/50\n",
      "54000/54000 [==============================] - 3s - loss: 0.0912 - val_loss: 0.1200\n",
      "Epoch 28/50\n",
      "54000/54000 [==============================] - 3s - loss: 0.0884 - val_loss: 0.1202\n",
      "Epoch 29/50\n",
      "54000/54000 [==============================] - 3s - loss: 0.0858 - val_loss: 0.1189\n",
      "Epoch 30/50\n",
      "54000/54000 [==============================] - 3s - loss: 0.0834 - val_loss: 0.1184\n",
      "Epoch 31/50\n",
      "54000/54000 [==============================] - 3s - loss: 0.0810 - val_loss: 0.1184\n",
      "Epoch 32/50\n",
      "54000/54000 [==============================] - ETA: 0s - loss: 0.078 - 3s - loss: 0.0787 - val_loss: 0.1189\n",
      "Epoch 33/50\n",
      "54000/54000 [==============================] - 3s - loss: 0.0765 - val_loss: 0.1183\n",
      "Epoch 34/50\n",
      "54000/54000 [==============================] - 3s - loss: 0.0743 - val_loss: 0.1196\n",
      "Epoch 35/50\n",
      "54000/54000 [==============================] - 3s - loss: 0.0723 - val_loss: 0.1179\n",
      "Epoch 36/50\n",
      "54000/54000 [==============================] - 3s - loss: 0.0703 - val_loss: 0.1174\n",
      "Epoch 37/50\n",
      "54000/54000 [==============================] - 3s - loss: 0.0684 - val_loss: 0.1184\n",
      "Epoch 38/50\n",
      "54000/54000 [==============================] - 3s - loss: 0.0665 - val_loss: 0.1186\n",
      "Epoch 39/50\n",
      "54000/54000 [==============================] - 3s - loss: 0.0647 - val_loss: 0.1171\n",
      "Epoch 40/50\n",
      "54000/54000 [==============================] - 4s - loss: 0.0629 - val_loss: 0.1172\n",
      "Epoch 41/50\n",
      "54000/54000 [==============================] - 4s - loss: 0.0613 - val_loss: 0.1175\n",
      "Epoch 42/50\n",
      "54000/54000 [==============================] - 4s - loss: 0.0597 - val_loss: 0.1170\n",
      "Epoch 43/50\n",
      "54000/54000 [==============================] - 4s - loss: 0.0581 - val_loss: 0.1168\n",
      "Epoch 44/50\n",
      "54000/54000 [==============================] - 4s - loss: 0.0566 - val_loss: 0.1166\n",
      "Epoch 45/50\n",
      "54000/54000 [==============================] - 4s - loss: 0.0552 - val_loss: 0.1166\n",
      "Epoch 46/50\n",
      "54000/54000 [==============================] - 3s - loss: 0.0537 - val_loss: 0.1162\n",
      "Epoch 47/50\n",
      "54000/54000 [==============================] - 3s - loss: 0.0523 - val_loss: 0.1170\n",
      "Epoch 48/50\n",
      "54000/54000 [==============================] - 3s - loss: 0.0510 - val_loss: 0.1172\n",
      "Epoch 49/50\n",
      "54000/54000 [==============================] - 3s - loss: 0.0498 - val_loss: 0.1171\n",
      "Epoch 50/50\n",
      "54000/54000 [==============================] - 3s - loss: 0.0485 - val_loss: 0.1174\n"
     ]
    }
   ],
   "source": [
    "history = model.fit(X_train_centered, y_train_onehot,\n",
    "                    batch_size=64, epochs=50,\n",
    "                    verbose=True, validation_split=0.1)"
   ]
  },
  {
   "cell_type": "markdown",
   "metadata": {
    "collapsed": true
   },
   "source": [
    "The _validation-split_ parameter is especally handy since tiwll reserve 10 % of the training data(here 6000 samples) for validation after__each epoch_ so that we can mointor whether the model is overfitting during training:"
   ]
  },
  {
   "cell_type": "code",
   "execution_count": 26,
   "metadata": {},
   "outputs": [
    {
     "name": "stdout",
     "output_type": "stream",
     "text": [
      "First 3 predictions  [5 0 4]\n"
     ]
    }
   ],
   "source": [
    "y_train_pred = model.predict_classes(X_train_centered, verbose=0)\n",
    "print('First 3 predictions ', y_train_pred[:3])"
   ]
  },
  {
   "cell_type": "code",
   "execution_count": 30,
   "metadata": {},
   "outputs": [
    {
     "data": {
      "text/plain": [
       "array([[  4.71565982e-05,   5.97541337e-04,   1.47282815e-04,\n",
       "          3.38414669e-01,   5.71595571e-08,   6.59369588e-01,\n",
       "          1.61520584e-05,   6.08128263e-04,   3.87391628e-05,\n",
       "          7.60653464e-04],\n",
       "       [  9.99917269e-01,   1.00162447e-06,   1.89916664e-05,\n",
       "          3.55255088e-06,   3.59191688e-07,   2.55292616e-05,\n",
       "          2.05055630e-06,   4.14505485e-06,   2.91263314e-06,\n",
       "          2.41696744e-05],\n",
       "       [  6.18520016e-06,   1.77971931e-04,   4.03145561e-04,\n",
       "          3.20039876e-03,   9.92191255e-01,   1.04643914e-05,\n",
       "          1.01812102e-03,   2.16930569e-03,   5.41081317e-05,\n",
       "          7.69073085e-04]], dtype=float32)"
      ]
     },
     "execution_count": 30,
     "metadata": {},
     "output_type": "execute_result"
    }
   ],
   "source": [
    "# predicting the probabilities\n",
    "y_traing_proba = model.predict_proba(X_train_centered, verbose=0)\n",
    "\n",
    "y_traing_proba[:3,:]"
   ]
  },
  {
   "cell_type": "code",
   "execution_count": 34,
   "metadata": {},
   "outputs": [
    {
     "name": "stdout",
     "output_type": "stream",
     "text": [
      "First 3 predictions  [5 0 4]\n",
      "Trainig accuracy : 98.88%\n",
      "Test accuracy : 96.04%\n"
     ]
    }
   ],
   "source": [
    "# FINALLY let's print the model accuracy on traing and test sets\n",
    "\n",
    "correct_preds = np.sum(y_train == y_train_pred)\n",
    "train_acc = correct_preds/y_train.shape[0]\n",
    "\n",
    "print('First 3 predictions ', y_train_pred[:3])\n",
    "\n",
    "print('Trainig accuracy : %.2f%%' % (train_acc*100))\n",
    "\n",
    "\n",
    "y_test_pred = model.predict_classes(X_test_centered, verbose=0)\n",
    "correct_preds = np.sum(y_test_pred == y_test)\n",
    "test_acc = correct_preds/y_test.shape[0]\n",
    "\n",
    "print('Test accuracy : %.2f%%' % (test_acc*100))\n"
   ]
  },
  {
   "cell_type": "markdown",
   "metadata": {
    "collapsed": true
   },
   "source": [
    "### Choosing activation functions for multilayer networks\n",
    "\n",
    "- Technically, we can use any function as an acitvation function in mulitlayer neural etowrks as long as it is differetiable. We can even use linear activation  functions, such as in Adaline.\n",
    "- In practice, it would not be very useful to use linear activation functions for both hidden and output layers since we want to introduce nonlinearity in a typical artificial neural network to be able ot tackle comples problems."
   ]
  },
  {
   "cell_type": "markdown",
   "metadata": {},
   "source": [
    "- The ___logistict function__ we used probably mimics the concept of a neureon in a brain most closely -- we can think of it as the probaility of whether a neuraon fires or not_\n",
    "- However, logistic activation functions can be problematic if we have higly negative input since the output of the sigmoid function ___return output__ that are close to __zero___, the neural network would __learn very slowly and it becomes more likely that it gets trapped in the local minima during training__. This is why people often prefer a hyperbolic tangent as an activation function in hidden layers."
   ]
  },
  {
   "cell_type": "markdown",
   "metadata": {},
   "source": [
    "### Logistic function recap\n",
    "\n",
    "The logistic function often just called the sigmoid function, is in fact a special case of a sigmoid function\n",
    "\n",
    "- Recall that we can se a logistic function to modelthe probability that sample _x_ belings ot the positive class (class 1 ) in a binary classification task. The net given net input _z_ is shown in the follwing equaiton:\n",
    "\n",
    "<center>$ z = w_0x_0 + w_1x_1 + w_2x_2 + .... + w_mx_m \\space = \\space \\sum_{i=0}^{m}w_ix_i \\space = \\space w^Tx $</center>\n",
    "\n",
    "The logistic function will comput the follwing:\n",
    "<center>$ \\phi_{logistic}(z) \\space = \\space \\frac {1}{1+e^{-z}} $</center>\n",
    " \n",
    "Note that $w_0$ is the bias unit (y-axis intercept, which means $x_0$ =1)"
   ]
  },
  {
   "cell_type": "markdown",
   "metadata": {},
   "source": [
    "For MNIST data classification task, we used one-hot encoidng technique to compute the values in the output layer consisting of multiple logistic activation units.\n",
    "- However, as we will demonstrate with the following code example, an output layer cosisting of multiple logistic actvation units does not produce meaningful, interpretable porbaility values"
   ]
  },
  {
   "cell_type": "code",
   "execution_count": 48,
   "metadata": {
    "collapsed": true
   },
   "outputs": [],
   "source": [
    "def net_input(X, W):\n",
    "    return np.dot(X,W)\n",
    "\n",
    "def logistic(z):\n",
    "    return 1.0 /(1.0 + np.exp(-z))\n",
    "\n",
    "def logistic_activation(X, W):\n",
    "    z = net_input(X,W)\n",
    "    return logistic(z)"
   ]
  },
  {
   "cell_type": "code",
   "execution_count": 51,
   "metadata": {},
   "outputs": [
    {
     "name": "stdout",
     "output_type": "stream",
     "text": [
      "Net input \"\n",
      " [ 1.78  0.76  1.65]\n",
      "Output Units: \n",
      " [ 0.85569687  0.68135373  0.83889105]\n"
     ]
    }
   ],
   "source": [
    "# W : array with shape = (n_output_units  n_hidden_units +1)\n",
    "# Note that the first column are the bias units\n",
    "\n",
    "W = np.array([[1.1, 1.2, 0.8, 0.4],\n",
    "             [0.2, 0.4, 1.0, 0.2],\n",
    "             [0.6, 1.5, 1.2, 0.7]])\n",
    "\n",
    "# A : data array with shape = (n_hidden_units +1, n_samples)\n",
    "# Note that the first column of this array must be 1\n",
    "\n",
    "A = np.array([[1, 0.1, 0.4, 0.6]])\n",
    "\n",
    "Z = np.dot(W, A[0])\n",
    "y_probas = logistic(Z)\n",
    "\n",
    "\n",
    "print('Net input \"\\n', Z)\n",
    "\n",
    "print('Output Units: \\n', y_probas)"
   ]
  },
  {
   "cell_type": "markdown",
   "metadata": {},
   "source": [
    "We can see in the output, the __resulting values can not be interpeted as probabilities for a three -class problem.__ The __reason for this is that they do not sum up to 1. __\n",
    "However, this is in ffact not abig concern if we only use our model to predict the class labes, not the class membership probailities. \n",
    "- One way to preidct the class label form the output units obtianed earlier is touse the maximum value:"
   ]
  },
  {
   "cell_type": "code",
   "execution_count": 54,
   "metadata": {},
   "outputs": [
    {
     "name": "stdout",
     "output_type": "stream",
     "text": [
      "Predicted class label : 0 \n"
     ]
    }
   ],
   "source": [
    "y_class = np.argmax(y_probas, axis=0)\n",
    "print('Predicted class label : %d ' %y_class)"
   ]
  },
  {
   "cell_type": "markdown",
   "metadata": {},
   "source": [
    "In certain contexts, it cna be useful to ocmpute meangful class probabilities for mulitclass predicitons."
   ]
  },
  {
   "cell_type": "markdown",
   "metadata": {},
   "source": [
    "### Estimating class probailiities in multiclass classification via the softmax function\n",
    "\n",
    "- The _softmax_ functio is in fact a soft form of the _argmax_ (observered above) function; instead of givieng a single class index, it provides the probaility of each class. Therefore it allows us to compute  meaningful class porbabilities in multiclass settings( multinomial logistic regression)\n"
   ]
  },
  {
   "cell_type": "markdown",
   "metadata": {},
   "source": [
    "In _softmax_, the porbaility of a particular sample with net input _z_ belonging to the ith class can be computed with a normalization term in the denominator, that is the sum of all _M_ linear funcitons:\n",
    "\n",
    "<center>$ p(y=i \\space |\\space z) \\space = \\space \\phi (z) = \\frac {e^{z_i}}{\\sum_{j=1}^{M} \\space \\space e^{z_j}} $ </center>"
   ]
  },
  {
   "cell_type": "code",
   "execution_count": 56,
   "metadata": {},
   "outputs": [
    {
     "name": "stdout",
     "output_type": "stream",
     "text": [
      "Probabilities : \n",
      " [ 0.44668973  0.16107406  0.39223621]\n"
     ]
    },
    {
     "data": {
      "text/plain": [
       "1.0"
      ]
     },
     "execution_count": 56,
     "metadata": {},
     "output_type": "execute_result"
    }
   ],
   "source": [
    "def softmax(z):\n",
    "    return np.exp(z) / np.sum(np.exp(z))\n",
    "\n",
    "y_probas = softmax(Z)\n",
    "print('Probabilities : \\n', y_probas)\n",
    "\n",
    "np.sum(y_probas)"
   ]
  },
  {
   "cell_type": "markdown",
   "metadata": {},
   "source": [
    "As we can see, the predicted class probabilities now sum up to 1, as we would expect. It is also ntable that the predicted class label is the same as wehn we applied the _argmax_ funciton to the logistic output. Intuitivelyu, it may help to think of the _softmax_ funciton as a _normalized_ output that is useful to obtain meaningful class-membership predicitons in multiclass settings."
   ]
  },
  {
   "cell_type": "markdown",
   "metadata": {},
   "source": [
    "### Broadening the output spectrum using a hyperbolic tangent\n",
    "\n",
    "another sigmoid function that is often used in the hidden layer of aritificial nueral networks is the __hyperbolic tangent__ (commonly known as __tanh__), which can be interpreted as a rescaled versoin of the logistic functions:\n",
    "\n",
    "<center>$ \\phi_{logistic}(z) \\space = \\space \\frac {1}{1+e^{-z}} $</center>\n",
    "\n",
    "<center>$ \\phi_{tanh}(z) \\space = \\space 2 \\space x \\space \\phi_{logistic}(2z) -1 = \\frac {e^z \\space - \\space e^{-z}}{e^z \\space + \\space e^{-z}}  $</center>"
   ]
  },
  {
   "cell_type": "markdown",
   "metadata": {},
   "source": [
    "The ___advantage of the hyperbolic tangent over the logistic function is that it has broader output spectrum and ranges in the open interval (-1, 1),___ which can improve the convergence of the back progpagation alogrithm.\n",
    "<br>\n",
    "In contrast, the logistic funciton returns a n output signal that ranges in the open interval (0,1)."
   ]
  },
  {
   "cell_type": "code",
   "execution_count": 60,
   "metadata": {},
   "outputs": [
    {
     "data": {
      "image/png": "[encoded data removed]",
      "text/plain": [
       "<matplotlib.figure.Figure at 0x7f0ad2de6b38>"
      ]
     },
     "metadata": {},
     "output_type": "display_data"
    }
   ],
   "source": [
    "def tanh(z):\n",
    "    e_p = np.exp(z)\n",
    "    e_n = np.exp(-z)\n",
    "    \n",
    "    return (e_p - e_n) / (e_p + e_n)\n",
    "\n",
    "\n",
    "z = np.arange(-5, 5, 0.005)\n",
    "log_act = logistic(z)\n",
    "tanh_act = tanh(z)\n",
    "\n",
    "\n",
    "plt.ylim([-1.5,1.5])\n",
    "plt.xlabel('net input $Z$')\n",
    "plt.ylabel('activation $\\phi(z)$')\n",
    "plt.axhline(1, color='black', linestyle=':')\n",
    "plt.axhline(0.5, color='black', linestyle=':')\n",
    "plt.axhline(0, color='black', linestyle=':')\n",
    "plt.axhline(-0.5, color='black', linestyle=':')\n",
    "plt.axhline(-1, color='black', linestyle=':')\n",
    "\n",
    "plt.plot(z, tanh_act, linewidth=3, linestyle='--', label='tanh')\n",
    "plt.plot(z, log_act, linewidth=3,  label='logistic')\n",
    "\n",
    "plt.legend(loc='lower right')\n",
    "plt.tight_layout()\n",
    "plt.show()"
   ]
  },
  {
   "cell_type": "markdown",
   "metadata": {},
   "source": [
    "As we can see, the shapes of the two sigmoidal curves look very similar, however the ___tanh_ function has 2x larger output space than the _logistic_ funciton__.\n",
    "<br>\n",
    "We implemented the _logistic_ and _tanh_ funcitons verbosely for the purpose of illustration. In practice we can use:"
   ]
  },
  {
   "cell_type": "code",
   "execution_count": 62,
   "metadata": {},
   "outputs": [],
   "source": [
    "tanh_act = np.tanh(Z)\n",
    "\n",
    "from scipy.special import expit\n",
    "\n",
    "log_act = expit(Z)"
   ]
  },
  {
   "cell_type": "markdown",
   "metadata": {},
   "source": [
    "### Rectified linear unit activation\n",
    "\n",
    "__Rectifiled linear Units (ReLU)__ is anothe ractivation fucntion that is often used in deep neural networks. \n",
    "<br>\n",
    "\n",
    "Before we understand the ReLU, we need to understand the ___vanishing gradient problem of tanh ahd logistic activations___.<br>\n",
    "\n",
    "To understand this problem let's assume that we initally have the net input $z_1$ = 20, which changes to $z_2$ = 25. Computing the tanh acitvation, we get $\\phi (z_1)$ ~ 1.0 and $\\phi(z_2)$ ~ 1.0, which shows no change in the output.\n",
    "\n",
    "<br>\n",
    "__This means the derivative of activations with respect to net input diminshes as _z_ becomes large__. As a result, learning weights during the training phase become very slow because the gradient terms may be very close to zero. ReLU activation addresses this issue. Mathematically, ReLU is defined as follows:\n",
    "\n",
    "<center>$\\phi (z) \\space = \\space max(0, z)$</center>\n",
    "\n",
    "ReLU is stil a nonlinear function that is good for leanring comple funcitons with neural networks, Besides this , the derivative of ReLU, with respec to its input, is always 1 for positive input vlaues, Therfore, it slves the problem of vanishihg gradients, making it sutable for deep neural networks."
   ]
  },
  {
   "cell_type": "markdown",
   "metadata": {},
   "source": [
    "![activaiton function images](activation_fn.png)"
   ]
  },
  {
   "cell_type": "code",
   "execution_count": null,
   "metadata": {
    "collapsed": true
   },
   "outputs": [],
   "source": []
  },
  {
   "cell_type": "code",
   "execution_count": null,
   "metadata": {
    "collapsed": true
   },
   "outputs": [],
   "source": []
  },
  {
   "cell_type": "code",
   "execution_count": null,
   "metadata": {
    "collapsed": true
   },
   "outputs": [],
   "source": []
  },
  {
   "cell_type": "code",
   "execution_count": null,
   "metadata": {
    "collapsed": true
   },
   "outputs": [],
   "source": []
  },
  {
   "cell_type": "code",
   "execution_count": null,
   "metadata": {
    "collapsed": true
   },
   "outputs": [],
   "source": []
  }
 ],
 "metadata": {
  "kernelspec": {
   "display_name": "Python 3",
   "language": "python",
   "name": "python3"
  },
  "language_info": {
   "codemirror_mode": {
    "name": "ipython",
    "version": 3
   },
   "file_extension": ".py",
   "mimetype": "text/x-python",
   "name": "python",
   "nbconvert_exporter": "python",
   "pygments_lexer": "ipython3",
   "version": "3.6.2"
  }
 },
 "nbformat": 4,
 "nbformat_minor": 2
}
